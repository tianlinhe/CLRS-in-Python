{
 "cells": [
  {
   "cell_type": "markdown",
   "metadata": {},
   "source": [
    "# Rooted trees\n",
    "The methods for representing lists can extend to any homogenous data structure. For example, a rooted tree can be represetned by **linked data structures**. Such a tree may have two children (a **binary tree**) or any arbitrary number of children.\n",
    "* Each node of a tree is represented by an **object**\n",
    "* Each node contains a `key` attribute\n",
    "* The remaining attributes are **pointers** to other nodes, depending on the type of tree\n",
    "\n",
    "## Binary trees\n",
    "\n",
    "A binary tree has **three attributes** of every node in addition to `key`:\n",
    "* `p` to store pointer to **parent** $\\rightarrow$ if `x.p is None`, then `x` is the root\n",
    "* `left` to store pointer to **left child** $\\rightarrow$ if `x.left is None`, then `x` has no left child\n",
    "* `right` to store pointer to **right child** $\\rightarrow$ if `x.right is None`, then `x` has no right child\n",
    "\n",
    "There is an additional attribute `T.root` of the entire tree:\n",
    "* if `T.root is None`, then the tree is empty\n",
    "* `T.root` in a tree thus resembles `L.head` in a linked list\n",
    "\n",
    "**Figure 10.9** shows a binary tree:\n",
    "<img src=\"img/fig10.9.png\" width=\"500\"/>\n",
    "\n",
    "## In Python:\n",
    "* Similar to a linked list, we can initiate a binary tree with a **node-like** structure\n",
    "* A node `x` has attributes `x.p`, `x.left` and `x.right`\n",
    "* Notice that the dynamic set operation INSERT is not so straight forward, because we will have to decide where to add the node depending on the functionality of your programme (e.g. if it is a binary search tree, or something more general). \n",
    "* An example of INSERT under given circumstances is shown in *10.4_Representing_rooted_trees_Exercise.ipynb*, Exc. 10.4-2"
   ]
  },
  {
   "cell_type": "code",
   "execution_count": 3,
   "metadata": {},
   "outputs": [],
   "source": [
    "class Node:\n",
    "    def __init__(self,key):\n",
    "        self.key=key\n",
    "        self.p=None\n",
    "        self.left=None\n",
    "        self.right=None\n",
    "class BinaryTree:\n",
    "    def __init__(self):\n",
    "        self.root=None\n",
    "    def add_node(self,x):\n",
    "        \n",
    "        \"\"\"check if an item to be added has a node-like structure\n",
    "        if not, convert it using Node(x)\"\"\"\n",
    "        if not isinstance(x, Node):\n",
    "            new_node=Node(x)\n",
    "        else:\n",
    "            new_node=x\n",
    "            \n",
    "        \"\"\"if the tree is empty, \n",
    "        the new node becomes its root\"\"\"\n",
    "        if self.root is None:\n",
    "            self.root=new_node\n",
    "        else:\n",
    "            \"\"\"depends on functionality\"\"\"\n",
    "            pass\n",
    "bt=BinaryTree()\n",
    "bt.add_node('a')"
   ]
  },
  {
   "cell_type": "markdown",
   "metadata": {},
   "source": [
    "## Rooted trees with unbounded branching\n",
    "We can represent rooted trees with k children, where k is a large constant by **left-child, right-sibling representation**\n",
    "* It uses only O(n) space for any n-node rooted tree\n",
    "* Each node `x` contains a pointer `x.p` to its parent, as a binary tree\n",
    "* A tree `T` contains a pointer `T.root` to its root, as in a binary tree\n",
    "* Instead of having pointers to its children, a node x has two pointers:\n",
    "    * `x.left_child` points to leftmost childe of node `x` $\\rightarrow$ if `x.left_child is None`, `x` has no children\n",
    "    * `x.right_sibling` points to the sibling of `x` immediately to its right $\\rightarrow$ if `x.right_sibling is None`, then `x` is the rightmost children of its parent\n",
    "\n",
    "**Figure 10.10** shows the left-child, right sibling representation of a tree:\n",
    "<img src=\"img/fig10.10.png\" width=\"500\"/>\n",
    "\n",
    "In Python:\n",
    "* Similar to a linked list, we initiate such a tree starting with a **node-like** structure\n",
    "* A node `x` has attributes `x.key`,`x.p`, `x.left_child` and `x.right_sibling`\n",
    "* An example of INSERT under given circumstances is shown in *10.4_Representing_rooted_trees_Exercise.ipynb*, Exc. 10.4-4"
   ]
  },
  {
   "cell_type": "code",
   "execution_count": 4,
   "metadata": {},
   "outputs": [],
   "source": [
    "class Node:\n",
    "    def __init__(self,key):\n",
    "        self.key=key\n",
    "        self.p=None\n",
    "        self.left_child=None\n",
    "        self.right_sibling=None\n",
    "class LCRSTree:\n",
    "    def __init__(self):\n",
    "        self.root=None\n",
    "    \n",
    "lcrs_t=LCRSTree()"
   ]
  }
 ],
 "metadata": {
  "kernelspec": {
   "display_name": "Python 3",
   "language": "python",
   "name": "python3"
  },
  "language_info": {
   "codemirror_mode": {
    "name": "ipython",
    "version": 3
   },
   "file_extension": ".py",
   "mimetype": "text/x-python",
   "name": "python",
   "nbconvert_exporter": "python",
   "pygments_lexer": "ipython3",
   "version": "3.7.4"
  }
 },
 "nbformat": 4,
 "nbformat_minor": 2
}
