{
 "cells": [
  {
   "cell_type": "markdown",
   "metadata": {},
   "source": [
    "**10.2-1\n",
    "<br>\n",
    "Can you implement the dynamic set operation INSERT on a singly linked list in O(1) time? How about DELETE?**\n",
    "* INSERT takes `O(1)` time, because the new node is directly inserted before `L.head` with one additional pointer `next`\n",
    "* DELETE takes `O(n)` time, because we first locate for the key in a `while` loop, which takes linear time, then delete the note by updating the neighbouring pointers, with takes constant time\n",
    "* Notice the main difference between a **doubly linked list** and a **singly linked list**: the former has pointers `next` and `prev`, the latter only has `next`\n",
    "    * Therefore in the DELETE operation in a **singly linked list**, one have to write an explicit `while` loop to trace the `previous_node` \n",
    "    * In order to update the pointers so that `previous_node.next=current_node.next` after deletion of a node. (Line 29-40)\n",
    "    \n",
    "*Additionally, I defined `print_list` for better visualisation of 1) number of non-null nodes and 2) print keys of non-null nodes in the list*"
   ]
  },
  {
   "cell_type": "code",
   "execution_count": 10,
   "metadata": {},
   "outputs": [
    {
     "name": "stdout",
     "output_type": "stream",
     "text": [
      "number of nodes: 1\n",
      "keys: ['a']\n"
     ]
    },
    {
     "data": {
      "text/plain": [
       "(1, ['a'])"
      ]
     },
     "execution_count": 10,
     "metadata": {},
     "output_type": "execute_result"
    }
   ],
   "source": [
    "class Node:\n",
    "    def __init__(self,key):\n",
    "        self.key=key\n",
    "        self.next=None\n",
    "        return\n",
    "class SinglyLinkedList:\n",
    "    def __init__(self):\n",
    "        self.head=None\n",
    "        self.tail=None\n",
    "        return\n",
    "    def list_insert(self,key): #insert node at L.head\n",
    "        if not isinstance(key,Node):\n",
    "            new_node=Node(key)\n",
    "            \n",
    "        if self.tail is None:  #check if the list is empty\n",
    "            self.tail=new_node\n",
    "        else:\n",
    "            new_node.next=self.head\n",
    "            \n",
    "        self.head=new_node\n",
    "        \n",
    "    def list_delete(self,x): #x can be a key or a node\n",
    "        \n",
    "        if not isinstance(x,Node):\n",
    "            node=Node(x)\n",
    "        else:\n",
    "            node=x\n",
    "        \n",
    "        previous_node=None\n",
    "        current_node=self.head\n",
    "        while current_node is not None:\n",
    "            if current_node.key==node.key:\n",
    "                if previous_node is not None:\n",
    "                    \n",
    "                    previous_node.next=current_node.next\n",
    "                else:\n",
    "                    self.head=current_node.next\n",
    "            \n",
    "            previous_node=current_node    \n",
    "            current_node=current_node.next\n",
    "        \n",
    "        return \n",
    "    \n",
    "    def print_list(self):\n",
    "        current_node=self.head\n",
    "        key_list=[]\n",
    "        n=0\n",
    "        while current_node is not None:\n",
    "            key_list.append(current_node.key)\n",
    "            n+=1\n",
    "            current_node=current_node.next\n",
    "        print ('number of nodes:', n)\n",
    "        print ('keys:',key_list)\n",
    "        return n, key_list\n",
    "l1=SingleLinkedList()\n",
    "l1.list_insert('a')\n",
    "l1.list_insert('b')\n",
    "l1.list_delete('b')\n",
    "l1.print_list()"
   ]
  },
  {
   "cell_type": "markdown",
   "metadata": {},
   "source": [
    "**10.2-2\n",
    "<br>\n",
    "Implement a stack using a singly linked list `L`. The operations PUSH and POP should still take O(1) time.**\n",
    "* PUSH is equivalent to insertion at `L.head`\n",
    "* POP is equivalent to deletion of `L.head`\n",
    "*Make sure that you have run the `class SinglyLinkedList` block from Exc. 10.2-1*"
   ]
  },
  {
   "cell_type": "code",
   "execution_count": 11,
   "metadata": {},
   "outputs": [
    {
     "data": {
      "text/plain": [
       "'b'"
      ]
     },
     "execution_count": 11,
     "metadata": {},
     "output_type": "execute_result"
    }
   ],
   "source": [
    "class Stack_fromList:\n",
    "    def __init__(self):\n",
    "        self.stack=SinglyLinkedList()\n",
    "    def push(self,key): # insert node at L.head\n",
    "        self.stack.list_insert(key)\n",
    "    def pop(self): # delete node from L.head\n",
    "        x=self.stack.head.key\n",
    "        self.stack.list_delete(x)\n",
    "        return x\n",
    "s=Stack_fromList()\n",
    "s.push('a')\n",
    "s.push('b')\n",
    "s.push('c')\n",
    "s.pop()\n",
    "s.pop()"
   ]
  },
  {
   "cell_type": "markdown",
   "metadata": {},
   "source": [
    "**10.2-3\n",
    "<br>\n",
    "Implement a queue by a singly Linked list `L`. The operations ENQUEUE and DEQUEUE should still take O(1) time.**\n",
    "* ENQUEUE is modified from INSERT such that it inserts the new node at `L.tail`\n",
    "* DEQUEUE is equivalent to deletion of `L.head`\n",
    "\n",
    "*Make sure that you have run the `class SinglyLinkedList` block from Exc. 10.2-1*"
   ]
  },
  {
   "cell_type": "code",
   "execution_count": 13,
   "metadata": {},
   "outputs": [
    {
     "data": {
      "text/plain": [
       "'a'"
      ]
     },
     "execution_count": 13,
     "metadata": {},
     "output_type": "execute_result"
    }
   ],
   "source": [
    "class Queue_fromList:\n",
    "    def __init__(self):\n",
    "        self.queue=SinglyLinkedList()\n",
    "        \n",
    "    def enqueue(self,key): #insert node at L.tail\n",
    "        if not isinstance(key,Node):\n",
    "            new_node=Node(key)\n",
    "        if self.queue.head is None:  \n",
    "            self.queue.head=new_node\n",
    "        else:\n",
    "            self.queue.tail.next=new_node\n",
    "            \n",
    "        self.queue.tail=new_node\n",
    "    def dequeue(self):\n",
    "        x=self.queue.head.key\n",
    "        self.queue.list_delete(x)\n",
    "        return x\n",
    "q=Queue_fromList()\n",
    "q.enqueue('a')\n",
    "q.enqueue('b')\n",
    "q.enqueue('c')\n",
    "q.dequeue()"
   ]
  },
  {
   "cell_type": "markdown",
   "metadata": {},
   "source": [
    "**10.2-4\n",
    "<br>\n",
    "As written, each loop iteration in the LIST-SEARCH' procedure requires two tests: one for $x \\neq L.nil$ and $x.key \\neq k$. Show how to eliminate the test for $x \\neq L.nil$ in each iteration.**\n",
    "1. We define `L.nil.key` as `k`\n",
    "2. The loop continues condition `x.key!=k` can test for both $x \\neq L.nil$ and $x.key \\neq k$\n",
    "3. Therefore, the loop terminates when either `x.key==L.nil` or `x.key==k`"
   ]
  },
  {
   "cell_type": "code",
   "execution_count": 14,
   "metadata": {},
   "outputs": [
    {
     "name": "stdout",
     "output_type": "stream",
     "text": [
      "node is not in the list\n"
     ]
    }
   ],
   "source": [
    "class List(SinglyLinkedList):\n",
    "    def __init__(self):\n",
    "        super().__init__()\n",
    "    def list_search_checkkonly(self,k):\n",
    "        \n",
    "        \"\"\"step 1) set the a node L.nil at the end of L.tail, \n",
    "        with key as k\"\"\"\n",
    "        \n",
    "        self.nil=Node(k)\n",
    "        self.tail.next=self.nil\n",
    "        \n",
    "        \n",
    "        \"\"\" step 2) while loop, terminates when x.key==k\"\"\"\n",
    "        current_node=self.head\n",
    "        \n",
    "        while current_node.key!=k:\n",
    "            \n",
    "            current_node=current_node.next\n",
    "        \"\"\" we can differentiate between current_node =L.nil x,\n",
    "        by testing if current_node is followed by None.\n",
    "        If yes, current_node is at the end, which means it is L.nil\n",
    "        else, current_node is in the middle of the list\"\"\"\n",
    "        if current_node.next is None:\n",
    "            print ('node is not in the list')\n",
    "            return None\n",
    "        else:\n",
    "            return current_node, current_node.key\n",
    "        \n",
    "l1=List()\n",
    "l1.list_insert('a')\n",
    "l1.list_insert('b')\n",
    "l1.list_search_checkkonly('c')"
   ]
  },
  {
   "cell_type": "markdown",
   "metadata": {},
   "source": [
    "**10.2-5<br>Implement the dictionary operations INSERT, DELETE and SEARCH using singly linekd, circular lists. What are the running times of your procedures?**\n",
    "* We can build a circular list with the use of sentinel (See *10.2_Linked_lists.ipynb*)\n",
    "* INSERT takes O(1) time\n",
    "* DELETE takes O(n) time\n",
    "* SEARCH takes O(n) time\n",
    "\n",
    "*Additionally, I defined `print_list` for better visualisation of 1) number of non-null nodes and 2) print keys of non-null nodes in the list*"
   ]
  },
  {
   "cell_type": "code",
   "execution_count": 4,
   "metadata": {},
   "outputs": [
    {
     "name": "stdout",
     "output_type": "stream",
     "text": [
      "number of nodes: 2\n",
      "keys: ['c', 'b']\n"
     ]
    },
    {
     "data": {
      "text/plain": [
       "(2, ['c', 'b'])"
      ]
     },
     "execution_count": 4,
     "metadata": {},
     "output_type": "execute_result"
    }
   ],
   "source": [
    "class Node:\n",
    "    def __init__(self,key):\n",
    "        self.key=key\n",
    "        self.next=None\n",
    "        return\n",
    "class Circular_SinglyLinkedList:\n",
    "    def __init__(self):\n",
    "        self.sentinel=Node(None)\n",
    "        self.sentinel.next=self.sentinel\n",
    "       # self.sentinel.next.next=self.sentinel\n",
    "        return\n",
    "    def list_insert(self,key):\n",
    "        if not isinstance(key,Node):\n",
    "            new_node=Node(key)\n",
    "        new_node.next=self.sentinel.next\n",
    "        self.sentinel.next=new_node\n",
    "        \n",
    "    def list_search(self,k):\n",
    "        current_node=self.sentinel.next\n",
    "        while current_node.key!=k and current_node!=self.sentinel:\n",
    "            current_node=current_node.next\n",
    "        return current_node, current_node.key\n",
    "    \n",
    "    def list_delete(self,x): #x can be a key or a node\n",
    "        if not isinstance(x,Node):\n",
    "            node=Node(x)\n",
    "        else:\n",
    "            node=x\n",
    "        previous_node=None\n",
    "        current_node=self.sentinel.next\n",
    "        \n",
    "        while current_node!=self.sentinel:\n",
    "            if current_node.key==node.key:\n",
    "                \"\"\"update pointers surround the deleted node after deletion\"\"\"\n",
    "                if previous_node is not None:\n",
    "                    \n",
    "                    previous_node.next=current_node.next\n",
    "                else:\n",
    "                    self.sentinel.next=current_node.next\n",
    "            \n",
    "            previous_node=current_node    \n",
    "            current_node=current_node.next\n",
    "        return\n",
    "             \n",
    "    def print_list(self):\n",
    "        current_node=self.sentinel.next\n",
    "        key_list=[]\n",
    "        n=0\n",
    "        while current_node!=self.sentinel:\n",
    "            key_list.append(current_node.key)\n",
    "            n+=1\n",
    "            current_node=current_node.next\n",
    "        print ('number of nodes:', n)\n",
    "        print ('keys:',key_list)\n",
    "        return n, key_list\n",
    "c=Circular_SinglyLinkedList()\n",
    "c.list_insert('a')\n",
    "c.list_insert('b')\n",
    "c.list_insert('c')\n",
    "c.list_search('b')\n",
    "c.list_delete(Node('a'))\n",
    "c.print_list()"
   ]
  },
  {
   "cell_type": "markdown",
   "metadata": {},
   "source": [
    "**10.2-6<br>The dynamic-set operation UNION takes two disjoint sets S<sub>1</sub> and S<sub>2</sub> as input and it return a set S = S<sub>1</sub> $\\cup$ S<sub>2</sub> consisting of all the elements of S<sub>1</sub> and S<sub>2</sub>. The sets S<sub>1</sub> and S<sub>2</sub> are usually destroyed by the operation. Show how to support UNION in O(1) time using a suitable list data structure.**\n",
    "1. Create S<sub>1</sub> and S<sub>2</sub> as two singly linked lists\n",
    "2. We append S<sub>2</sub> to S<sub>1</sub> by updating these two pointers: S<sub>1</sub>.tail.next=S<sub>2</sub>.head and S<sub>1</sub>.tail= S<sub>2</sub>.tail\n",
    "\n",
    "*Make sure that you have run the `class SingleLinkedList` block from Exc. 10.2-1*"
   ]
  },
  {
   "cell_type": "code",
   "execution_count": 22,
   "metadata": {},
   "outputs": [
    {
     "name": "stdout",
     "output_type": "stream",
     "text": [
      "number of nodes: 3\n",
      "keys: ['c', 'b', 'a']\n",
      "number of nodes: 3\n",
      "keys: ['Z', 'Y', 'X']\n",
      "X\n",
      "number of nodes: 6\n",
      "keys: ['c', 'b', 'a', 'Z', 'Y', 'X']\n"
     ]
    },
    {
     "data": {
      "text/plain": [
       "(6, ['c', 'b', 'a', 'Z', 'Y', 'X'])"
      ]
     },
     "execution_count": 22,
     "metadata": {},
     "output_type": "execute_result"
    }
   ],
   "source": [
    "class Set(SinglyLinkedList):\n",
    "    def __init__(self):\n",
    "        super().__init__()\n",
    "    def disjoint_sets_union(self,anotherset):\n",
    "        self.tail.next=anotherset.head\n",
    "        self.tail=anotherset.tail\n",
    "        print (self.tail.key)\n",
    "s1=Set() \n",
    "s1.list_insert('a')\n",
    "s1.list_insert('b')\n",
    "s1.list_insert('c')\n",
    "s1.print_list() #s1=['c', 'b', 'a']\n",
    "s2=Set() \n",
    "s2.list_insert('X')\n",
    "s2.list_insert('Y')\n",
    "s2.list_insert('Z')\n",
    "s2.print_list() #s2=['Z', 'Y', 'X']\n",
    "s1.disjoint_sets_union(s2) \n",
    "s1.print_list() #s1=['c', 'b', 'a', 'Z', 'Y', 'X']"
   ]
  },
  {
   "cell_type": "markdown",
   "metadata": {},
   "source": [
    "**10.2-7<br>Give a $\\Theta$(n)-time nonrecursive procedure that reverses a singly linked list of n elements. the procedure should use no more than constant storage beyond that need for the list itself.**<br>\n",
    "\n",
    "REVERSE should look similar to DELETE in *Exc.10.2.1*, in which we:<br>\n",
    "* Write a `while` loop from `L.head` to `L.tail`\n",
    "    * Trace the `previous_node` and `current_node`, we can reverse the pointer so that `current_node.next=previous_node`\n",
    "    * Notice that we have to store the original node `current_node.next` temporarily in order to keep looping forward\n",
    "\n",
    "* Reverse the attributes `L.head` and `L.tail` of the list `L`  "
   ]
  },
  {
   "cell_type": "code",
   "execution_count": 28,
   "metadata": {},
   "outputs": [
    {
     "name": "stdout",
     "output_type": "stream",
     "text": [
      "number of nodes: 3\n",
      "keys: ['c', 'b', 'a']\n",
      "number of nodes: 3\n",
      "keys: ['a', 'b', 'c']\n"
     ]
    },
    {
     "data": {
      "text/plain": [
       "(3, ['a', 'b', 'c'])"
      ]
     },
     "execution_count": 28,
     "metadata": {},
     "output_type": "execute_result"
    }
   ],
   "source": [
    "class List(SinglyLinkedList):\n",
    "    def __init__(self):\n",
    "        super().__init__()\n",
    "    def list_reverse(self):\n",
    "        \n",
    "        previous_node=None\n",
    "        current_node=self.head\n",
    "        while current_node is not None:\n",
    "\n",
    "            temp=current_node.next #store the original node `current_node.next` temporarily\n",
    "            current_node.next=previous_node #reverse the pointer\n",
    "            previous_node=current_node #move previous_node forward\n",
    "            current_node=temp #keep looping forward\n",
    "            \n",
    "        self.head=self.tail\n",
    "        self.tail=self.head\n",
    "            \n",
    "s1=List() \n",
    "s1.list_insert('a')\n",
    "s1.list_insert('b')\n",
    "s1.list_insert('c')\n",
    "s1.print_list() #s1=['c', 'b', 'a']\n",
    "s1.list_reverse()\n",
    "s1.print_list() #s2=['a', 'b', 'c']"
   ]
  },
  {
   "cell_type": "markdown",
   "metadata": {},
   "source": [
    "**10.2-8 $\\star$<br> Explain how to implement doubly linked list using only pointer value `x.np` per item instead of the usual two (`next` and `prev`). Assume that all pointer values can be interpreted as *k*-bit integers, and define `x.np` to be `x.np=x.next` XOR `x.prev`, and *k*-bit \"exclusive-or\" of `x.next` and `x.prev`. (The value NIL is presented by 0.) Be sure to describe what information you need to access the head of the list. Show how to implement the SEARCH, INSERT, and DELETE operations on such a list. Also show how to reverse such a list in O(1) time.**\n",
    "In python, the logical operation `a XOR b` can be expressed by: `not a != not b`\n",
    "*The answer will be added later*"
   ]
  }
 ],
 "metadata": {
  "kernelspec": {
   "display_name": "Python 3",
   "language": "python",
   "name": "python3"
  },
  "language_info": {
   "codemirror_mode": {
    "name": "ipython",
    "version": 3
   },
   "file_extension": ".py",
   "mimetype": "text/x-python",
   "name": "python",
   "nbconvert_exporter": "python",
   "pygments_lexer": "ipython3",
   "version": "3.7.4"
  }
 },
 "nbformat": 4,
 "nbformat_minor": 2
}
