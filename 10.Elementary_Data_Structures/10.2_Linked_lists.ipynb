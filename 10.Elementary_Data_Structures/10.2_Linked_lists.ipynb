{
 "cells": [
  {
   "cell_type": "markdown",
   "metadata": {},
   "source": [
    "# 10.2 Linked Lists\n",
    "A linked list is a data structure in which the objects are arranged in a linear order. Linked lists support operations in dynamic set, such as SEARCH, INSERT, DELETE, MIN, MAX, SUCCESSOR, PREDECESSOR.\n",
    "## Doubly linked list:\n",
    "* Each element in a doubley linked list is an object with a attribute **key**, and two other attributes **prev** and **next**\n",
    "* The object may contain **satellite data**\n",
    "* Given an element `x` in the list: `x.prev` points to its predeccessor; while `x.prev` points to its successor\n",
    "* When `x.next=None`, x is the `tail`\n",
    "* When `x.prev=None`, x is the `head`\n",
    "* When `L.head=None`, the list is empty\n",
    "\n",
    "A doubly linked list L representing the operations in a dynamic set `{1,4,9,16}` is illustrated:\n",
    "![figure10.3](img/10.3.png)\n",
    "\n",
    "We can construct a doubly linked list starting from a node-like element with attributes **key**, **next**, and **prev**. \n",
    "When the list `L` is empty, `L.head` and `L.tail` initially equal to `None`.\n",
    "*From then on, we will call an element in a linked list as a node.*<br>\n",
    "The operations **LIST-INSERT, LIST-SEARCH and LIST-DELETE** can be constructed according to pseudo codes from **p237 and p238 from the textbook**.\n",
    "\n",
    "### LIST-INSERT (L,x)\n",
    "* Insert an element (or a node) with a given attribute **key** in front of the linked list\n",
    "1. Line 6-7 assigns the node-like attributes **key**, **next**, and **prev** as `new_node`\n",
    "2. Insert the `new_node` before head of the list\n",
    "3. Line 12-13 establishes the pointers **next**, and **prev** between `head` and `new_node`\n",
    "4. Line 16-17 set  `new_node` as `head`\n",
    "\n",
    "### LIST-SEARCH (L,key)\n",
    "* Finds the first element with key `k` in list `L`\n",
    "* Returns a pointer to this element\n",
    "* If the element does not exist in the list, it returns nothing\n",
    "\n",
    "### LIST-DELETE (L,x)\n",
    "You can either delete a node directly, or by a given key\n",
    "* `list_delete (L, node)` splices the node out of the list by updating pointers\n",
    "* `list_delete_by_key (L, key)` first searches for the key in the list by calling list_search (L, key)"
   ]
  },
  {
   "cell_type": "code",
   "execution_count": 7,
   "metadata": {},
   "outputs": [],
   "source": [
    "class Node:\n",
    "    def __init__(self,key):\n",
    "        self.key=key\n",
    "        self.next=None #pointer attribute next\n",
    "        self.prev=None #pointer attribute prev\n",
    "        return\n",
    "\n",
    "class DoublyLinkedList:\n",
    "    def __init__(self):# create an empty list without node\n",
    "        \n",
    "        self.head=None #initial head=None\n",
    "        self.tail=None #initial tail=None\n",
<<<<<<< HEAD
    "        return\n",
    "    def list_insert(self,x):\n",
=======
    "        return"
   ]
  },
  {
   "cell_type": "markdown",
   "metadata": {},
   "source": [
    "The operations *LIST-INSERT, LIST-SEARCH and LIST-DELETE* can be constructed according to pseudo codes from **p237 and p238 from the textbook**.\n",
    "## LIST-INSERT (L,key)\n",
    "* Insert an element (or a node) with a given attribute **key** in front of the linked list\n",
    "1. Line 6-7 assigns the node-like attributes **key**, **next**, and **prev** as `new_node`\n",
    "2. Insert the `new_node` before head of the list\n",
    "3. Line 12-13 establishes the pointers **next**, and **prev** between `head` and `new_node`\n",
    "4. Line 16-17 se`s `new_node` as `head`"
   ]
  },
  {
   "cell_type": "code",
   "execution_count": null,
   "metadata": {},
   "outputs": [],
   "source": [
    "        def list_insert(self,key):#should be a tab before def\n",
>>>>>>> 3bfbedca70f0133a87c702aa76797d1342d8ec3d
    "\n",
    "        \"\"\" verify if the object x has a node-like structure \n",
    "        with attributes key, next and prev.\n",
    "        If not, build it by by calling class Node\"\"\"\n",
    "        if not isinstance(x,Node):\n",
    "            new_node=Node(x)\n",
    "        else:\n",
    "            new_node=x\n",
    "\n",
    "        \"\"\"1.insert node before head.\n",
    "        2. assign pointer next and prev btw head and new_node\n",
    "        3. set new_node as head\"\"\"\n",
    "        new_node.next=self.head\n",
    "        if self.head is not None:\n",
    "            self.head.prev=new_node\n",
    "\n",
<<<<<<< HEAD
    "        self.head=new_node\n",
    "        new_node.prev=None\n",
    "        return\n",
    "    def list_search(self,key):\n",
=======
    "            self.head=new_node\n",
    "            new_node.prev=None\n",
    "            return"
   ]
  },
  {
   "cell_type": "markdown",
   "metadata": {},
   "source": [
    "## LIST-SEARCH (L,key)\n",
    "* Finds the first element with key `k` in list `L`\n",
    "* Returns a pointer to this element\n",
    "* If the element does not exist in the list, it returns nothing"
   ]
  },
  {
   "cell_type": "code",
   "execution_count": null,
   "metadata": {},
   "outputs": [],
   "source": [
    "        def list_search(self,key):#should be a tab before def\n",
>>>>>>> 3bfbedca70f0133a87c702aa76797d1342d8ec3d
    "\n",
    "        current_node=self.head\n",
    "\n",
    "        while current_node is not None and current_node.key!=key:\n",
    "            current_node=current_node.next\n",
    "\n",
<<<<<<< HEAD
    "        return current_node, current_node.key\n",
    "    \n",
    "    def list_delete(self,node):\n",
=======
    "            return current_node"
   ]
  },
  {
   "cell_type": "markdown",
   "metadata": {},
   "source": [
    "## LIST-DELETE (L,x)\n",
    "You can either delete a node directly, or by a given key\n",
    "* `list_delete (L, nod)` splices the node out of the list by updating pointers\n",
    "* `list_delete_by_key (L, key)` first searches for the key in the list by calling list_search (L, key)"
   ]
  },
  {
   "cell_type": "code",
   "execution_count": null,
   "metadata": {},
   "outputs": [],
   "source": [
    "    def list_delete(self,node):#should be a tab before def\n",
>>>>>>> 3bfbedca70f0133a87c702aa76797d1342d8ec3d
    "        \"\"\" update the pointer next\"\"\"\n",
    "        if node.prev is not None: # if node is not at the head\n",
    "            node.prev.next=node.next\n",
    "        else:\n",
    "            self.head=node.next #if node is at the head\n",
    "        \"\"\" update the pointer prev\"\"\"\n",
    "        if node.next is not None:\n",
    "            node.next.prev=node.next\n",
    "        return\n",
    "    \n",
    "    def list_delete_by_key(self, key): \n",
    "        \"\"\" 1. search key in the list\"\"\"\n",
    "        current_node=self.list_search(key)[0]\n",
    "        \n",
    "        \"\"\" 2. the rest is similar to list_delete\"\"\"\n",
    "        if current_node.prev is not None:\n",
    "            \n",
    "            current_node.prev.next=current_node.next\n",
    "        else:\n",
    "            self.head=current_node.next\n",
    "        if current_node.next is not None:\n",
    "            current_node.next.prev=current_node.prev\n",
    "                \n",
    "        return"
   ]
  },
  {
   "cell_type": "markdown",
   "metadata": {},
   "source": [
    "### Basic operations with examples:"
   ]
  },
  {
   "cell_type": "code",
   "execution_count": 10,
   "metadata": {},
   "outputs": [],
   "source": [
    "# 1. Initilizing a doubly linked list by calling class DoublyLinkedList\n",
    "L=DoublyLinkedList()\n",
    "\n",
    "# 2. Insert  node into L by some alphabets as keys\n",
    "L.list_insert('a')\n",
    "L.list_insert('b')\n",
    "# OR insert  nodes directly\n",
    "L.list_insert(Node('a')) # is equivalent to L.list_insert('a')\n",
    "\n",
    "# 3. Search if a node with certain key exists in L\n",
    "L.list_search('a') #returns a pointer to the node with key='a', output: <__main__.Node at 0x105b261d0>\n",
    "L.list_search('c') #returns nothing, as 'c' is not one of the keys from L\n",
    "\n",
    "# 4.1 Delete a certain node directly\n",
    "N=Node('a')\n",
    "#L.list_delete(N) # equivalent to L.list_delete(Node('a'))\n",
    "# OR 4.2 Delete a certain node with a given key\n",
    "L.list_delete_by_key('a')\n",
    "\n"
   ]
  },
  {
   "cell_type": "markdown",
   "metadata": {},
   "source": [
    "# Sentinels: building a circular list\n",
    "A **sentinel** is a dummy object that allows us to simplify boundary counditions.\n",
    "* It turns a regular doubly linked list into a **circular, doubly linked list with a sentinel**\n",
    "* The sentinel `L.nil` lies between the `head` and `tail`\n",
    "* `L.nil.next` points to `L.head`\n",
    "* `L.nil.prev` points to `L.tail`\n",
    "\n",
    "A circular doubly linked list with a sentinel is graphically illustrated below:\n",
    "![figure10.4](img/10.4.png)\n",
    "Such a list can be constructed as below, according to pseudocodes from **p239 and p240 of the textbook**:"
   ]
  },
  {
   "cell_type": "code",
   "execution_count": 2,
   "metadata": {},
   "outputs": [
    {
     "data": {
      "text/plain": [
       "(<__main__.Node at 0x107e6e1d0>, 'b')"
      ]
     },
     "execution_count": 2,
     "metadata": {},
     "output_type": "execute_result"
    }
   ],
   "source": [
    "class Node:\n",
    "    def __init__(self,key):\n",
    "        self.key=key\n",
    "        self.prev=None\n",
    "        self.next=None\n",
    "        return\n",
    "\n",
    "class Circular_DoublyLinkedList:\n",
    "    def __init__(self):\n",
    "        \"\"\"initialise an empty list with a sentinel=None\n",
    "        and its attribute prev and next corresponding to itself.\n",
    "         this is the most important step!\"\"\"\n",
    "        \n",
    "        self.sentinel=Node(None)\n",
    "        self.sentinel.next=self.sentinel\n",
    "        self.sentinel.prev=self.sentinel\n",
    "        return\n",
    "        \n",
    "\n",
    "    def list_insert(self,key):\n",
    "        \n",
    "        if not isinstance(key,Node):\n",
    "            new_node=Node(key)\n",
    "            \n",
    "        # updating pointers prev, next, in total there are 4 pointers       \n",
    "        new_node.next=self.sentinel.next\n",
    "        self.sentinel.next.prev=new_node\n",
    "        self.sentinel.next=new_node\n",
    "        new_node.prev=self.sentinel\n",
    "        return\n",
    "            \n",
    "    def list_search(self,key): \n",
    "        \n",
    "        current_node=self.sentinel.next #equivalence to self.head\n",
    "        \n",
    "        \n",
    "        while current_node!=self.sentinel and current_node.key!=key:\n",
    "            \n",
    "            current_node=current_node.next\n",
    "        \n",
    "        return current_node, current_node.key\n",
    "    \n",
    "    def list_delete(self,node):\n",
    "       \n",
    "        \n",
    "        current_node=self.sentinel.next\n",
    "        while current_node!=self.sentinel and current_node.key==node.key:\n",
    "                \n",
    "            current_node=current_node.next\n",
    "        return \n",
    "    \n",
    "    def list_delete_by_key(self,key):\n",
    "        \n",
    "        current_node=self.list_search(key)[0]\n",
    "        \n",
    "        \"\"\"much simplied than without sentinel \n",
    "        by updating two pointers prev and next\"\"\"\n",
    "        \n",
    "        current_node.next.prev=current_node.prev\n",
    "        current_node.prev.next=current_node.next\n",
    "        return \n",
    "l=Circular_DoublyLinkedList()\n",
    "l.list_insert('a')\n",
    "l.list_insert('b')\n",
    "l.list_delete(Node('a'))"
   ]
  },
  {
   "cell_type": "markdown",
   "metadata": {},
   "source": [
    "**Notice the major differences between a circular list and a linear list:**\n",
    "* Line 14-16: A circular list initially consists of an empty sentinel node, which has `prev` and `next` pointing to itself\n",
    "* Since every elements on a circular list is a node with attributes `key`, `prev`, and `next`, we can freely apply loop through the list and get whatever attributes we like, without worrying about the error such as `'NoneType' object has no attribute 'next'/'prev'/'key'`\n",
    "* On the other hand, we need to be very careful at the head and tail of a linear list, because tail has lacks `next` whereas head lacks `prev`"
   ]
  }
 ],
 "metadata": {
  "kernelspec": {
   "display_name": "Python 3",
   "language": "python",
   "name": "python3"
  },
  "language_info": {
   "codemirror_mode": {
    "name": "ipython",
    "version": 3
   },
   "file_extension": ".py",
   "mimetype": "text/x-python",
   "name": "python",
   "nbconvert_exporter": "python",
   "pygments_lexer": "ipython3",
   "version": "3.7.4"
  }
 },
 "nbformat": 4,
 "nbformat_minor": 2
}
