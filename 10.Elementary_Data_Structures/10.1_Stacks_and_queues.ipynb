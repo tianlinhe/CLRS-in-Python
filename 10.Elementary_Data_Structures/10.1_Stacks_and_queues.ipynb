{
 "cells": [
  {
   "cell_type": "markdown",
   "metadata": {},
   "source": [
    "# 10.1 Stacks and Queues\n",
    "* In a **stack**, the element deleted from the set is the one most recently inserted: the stack implements a **last-in, first-out** or **LIFO** policy\n",
    "* In a **queue**, the element deleted is always the one that has been in the set for the longest time: the queue implements a **first-in, first-out** or **FIFO** policy\n",
    "\n",
    "## Stack\n",
    "* PUSH: insertion \n",
    "* POP: deletion \n",
    "\n",
    "In python:\n",
    "* `S[0]` is the item at the bottom\n",
    "* `S[S.top]` is the item on top, where `S.top=length(S)-`\n",
    "* When `S.top=-`, the stack contains no element and is **empty**\n",
    "\n",
    "The following codes examplifies *STACK-EMPTY*, *PUSH* and *POP* operations with python, corresponding to **p233 of the textbook**. For a more thorough understanding, no built-in pythonic functions such as `list.append` or `list.pop` were used.\n"
   ]
  },
  {
   "cell_type": "code",
   "execution_count": null,
   "metadata": {},
   "outputs": [],
   "source": [
    "class Stack:\n",
    "    \n",
    "    def __init__(self,n):# build a stack with an n-element empty array\n",
    "        self.array=[None]*n # initial empty\n",
    "        self.top=-1 # attribute top=-1 when the array is emtpy\n",
    "    \n",
    "        \n",
    "    def stack_empty(self):# check if a stack is empty\n",
    "        if self.top==-1:\n",
    "          #  print ('is Empty')\n",
    "            return True\n",
    "        else:\n",
    "           # print ('is not Empty')\n",
    "            False\n",
    "    \n",
    "    def push(self,item):# push\n",
    "        self.top+=1\n",
    "        self.array[self.top]=item\n",
    "        \n",
    "    def pop(self):# pop: last in, first out\n",
    "        if self.stack_empty is True:\n",
    "            print ('stack underflow')\n",
    "            return\n",
    "        else:\n",
    "            self.top-=1\n",
    "            return self.array[self.top+1] #return the poped item"
   ]
  },
  {
   "cell_type": "markdown",
   "metadata": {},
   "source": [
    "## Queues\n",
    "* A queue has a **head** and a **tail**\n",
    "* ENQUEUE: insertion, an element is always enqueued at `Q.tail`\n",
    "* DEQUEUE: deletion, an element is always dequeued from `Q.head`\n",
    "\n",
    "In python:\n",
    "* In an empty queue, we have initially `Q.tail=Q.head=0`\n",
    "* When the queue is full, we also have `Q.tail=Q.head=0`\n",
    "* To differentiate an empty and a full queue, we need to inspect additionally if `Q.head` is empty\n",
    "\n",
    "Notice that there is a mistake in CLRS textbook, p235, line 1. The sentence should be *\"When Q.head=Q.tail, the queue is full...\"*.\n",
    "\n",
    "The following codes examplifies *QUEUE-EMPTY*, *ENQUEUE* and *DEQUEUE* operations with python, corresponding to pseudocodes in **p235 of the textbook**. For a more thorough understanding, no pythonic packages such as `import queue` was used."
   ]
  },
  {
   "cell_type": "code",
   "execution_count": null,
   "metadata": {},
   "outputs": [],
   "source": [
    "class Queue:\n",
    "    def __init__(self,n): # build a stack with an n-element empty array\n",
    "        self.array=[None]*n\n",
    "        self.head=0 # initial head=0\n",
    "        self.tail=0 # initial tail=0\n",
    "        self.length=n # length=n, arbitary and unchanged\n",
    "        \n",
    "    def queue_empty(self):\n",
    "        if self.head==self.tail and self.array[self.head] is None:\n",
    "            return True\n",
    "        else:\n",
    "            return False\n",
    "    \n",
    "        \n",
    "    def enqueue(self,x):\n",
    "        self.array[self.tail]=x # increment length by 1\n",
    "        if self.tail==self.length-1: # if tail reaches the largest index (i.e. n-1) of the array \n",
    "            self.tail=0 # x is inserted from the LHS \n",
    "        else:           \n",
    "            self.tail+=1 # move tail 1 step towards right\n",
    "    \n",
    "    def dequeue(self):\n",
    "        x=self.array[self.head] # item to be dequeue is located at head\n",
    "        self.array[self.head]=None # dequeue\n",
    "        if self.head==self.length-1: # if head  reaches the largest index (i.e. n-1) of the array\n",
    "            self.head=0 # re-position head from the LHS\n",
    "        else:\n",
    "            self.head+=1 # move head 1 step towards right\n",
    "        return x"
   ]
  },
  {
   "cell_type": "markdown",
   "metadata": {},
   "source": [
    "Notice that line24 `self.array[self.head]=None` is not necessary here, but it is essential for other purposes (see Excersices 10.1-5 and 10.1-7)"
   ]
  }
 ],
 "metadata": {
  "kernelspec": {
   "display_name": "Python 3",
   "language": "python",
   "name": "python3"
  },
  "language_info": {
   "codemirror_mode": {
    "name": "ipython",
    "version": 3
   },
   "file_extension": ".py",
   "mimetype": "text/x-python",
   "name": "python",
   "nbconvert_exporter": "python",
   "pygments_lexer": "ipython3",
   "version": "3.7.4"
  }
 },
 "nbformat": 4,
 "nbformat_minor": 2
}
