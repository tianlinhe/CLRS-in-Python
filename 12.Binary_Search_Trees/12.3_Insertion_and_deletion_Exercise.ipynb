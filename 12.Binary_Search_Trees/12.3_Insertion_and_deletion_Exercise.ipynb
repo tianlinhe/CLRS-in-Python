{
 "cells": [
  {
   "cell_type": "markdown",
   "metadata": {},
   "source": [
    "**12.3-1<br>Give a recursive version of the TREE-INSERT procedure.**"
   ]
  },
  {
   "cell_type": "code",
   "execution_count": 21,
   "metadata": {},
   "outputs": [
    {
     "name": "stdout",
     "output_type": "stream",
     "text": [
      "13\n"
     ]
    }
   ],
   "source": [
    "\"\"\"build BTS and assign nodes, do not forget x.p\"\"\"\n",
    "class Node2:\n",
    "    def __init__(self, key):\n",
    "        self.left = None\n",
    "        self.right = None\n",
    "        self.key = key\n",
    "        self.p=None\n",
    "\n",
    "class BinaryTree:\n",
    "    def __init__(self):\n",
    "        self.root = None\n",
    "                    \n",
    "t2=BinaryTree()\n",
    "t2.root=Node2(12)\n",
    "t2.root.left=Node2(5)\n",
    "t2.root.right=Node2(18)\n",
    "t2.root.left.p=t2.root\n",
    "t2.root.right.p=t2.root\n",
    "t2.root.left.left=Node2(2)\n",
    "t2.root.left.right=Node2(9)\n",
    "t2.root.left.left.p=t2.root.left\n",
    "t2.root.left.right.p=t2.root.left\n",
    "t2.root.right.left=Node2(15)\n",
    "t2.root.right.right=Node2(19)\n",
    "t2.root.right.left.p=t2.root.right\n",
    "t2.root.right.right.p=t2.root.right\n",
    "t2.root.right.left.right=Node2(17)\n",
    "t2.root.right.left.right.p=t2.root.right.left\n",
    "\n",
    "def insert_recursion(x,z,y=None):\n",
    "    \"\"\"base case when we reached the end of the target branch\"\"\"   \n",
    "    if x is None:\n",
    "        x=z\n",
    "        if z.key<y.key: #insert z at the left of the end\n",
    "            y.left=z\n",
    "        else: #insert z at the right of the end\n",
    "            y.right=z\n",
    "        z.p=y\n",
    "  \n",
    "    elif x.key>z.key:\n",
    "        insert_recursion(x.left,z,x)\n",
    "    else:\n",
    "        insert_recursion(x.right,z,x)\n",
    "            \n",
    "    \n",
    "insert_recursion(t2.root,Node2(13))\n",
    "print (t2.root.right.left.left.key) #both call should return 13"
   ]
  }
 ],
 "metadata": {
  "kernelspec": {
   "display_name": "Python 3",
   "language": "python",
   "name": "python3"
  },
  "language_info": {
   "codemirror_mode": {
    "name": "ipython",
    "version": 3
   },
   "file_extension": ".py",
   "mimetype": "text/x-python",
   "name": "python",
   "nbconvert_exporter": "python",
   "pygments_lexer": "ipython3",
   "version": "3.7.4"
  }
 },
 "nbformat": 4,
 "nbformat_minor": 2
}
