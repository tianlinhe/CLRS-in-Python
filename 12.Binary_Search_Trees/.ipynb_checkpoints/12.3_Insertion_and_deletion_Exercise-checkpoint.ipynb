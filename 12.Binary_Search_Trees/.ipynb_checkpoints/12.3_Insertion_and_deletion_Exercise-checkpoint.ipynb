{
 "cells": [
  {
   "cell_type": "markdown",
   "metadata": {},
   "source": [
    "**12.3-1<br>Give a recursive version of the TREE-INSERT procedure.**"
   ]
  },
  {
   "cell_type": "code",
   "execution_count": null,
   "metadata": {},
   "outputs": [],
   "source": [
    "\"\"\"build BTS and assign nodes, do not forget x.p\"\"\"\n",
    "class Node2:\n",
    "    def __init__(self, key):\n",
    "        self.left = None\n",
    "        self.right = None\n",
    "        self.key = key\n",
    "        self.p=None\n",
    "\n",
    "class BinaryTree:\n",
    "    def __init__(self):\n",
    "        self.root = None\n",
    "                    \n",
    "t2=BinaryTree()\n",
    "t2.root=Node2(12)\n",
    "t2.root.left=Node2(5)\n",
    "t2.root.right=Node2(18)\n",
    "t2.root.left.p=t2.root\n",
    "t2.root.right.p=t2.root\n",
    "t2.root.left.left=Node2(2)\n",
    "t2.root.left.right=Node2(9)\n",
    "t2.root.left.left.p=t2.root.left\n",
    "t2.root.left.right.p=t2.root.left\n",
    "t2.root.right.left=Node2(15)\n",
    "t2.root.right.right=Node2(19)\n",
    "t2.root.right.left.p=t2.root.right\n",
    "t2.root.right.right.p=t2.root.right\n",
    "t2.root.right.left.right=Node2(17)\n",
    "t2.root.right.left.right.p=t2.root.right.left\n",
    "\n",
    "def insert_recursion(x,z,y=None):\n",
    "    \"\"\"base case when we reached the end of the target branch\"\"\"   \n",
    "    if x is None:\n",
    "        x=z\n",
    "        if z.key<y.key: #insert z at the left of the end\n",
    "            y.left=z\n",
    "        else: #insert z at the right of the end\n",
    "            y.right=z\n",
    "        z.p=y\n",
    "  \n",
    "    elif x.key>z.key:\n",
    "        insert_recursion(x.left,z,x)\n",
    "    else:\n",
    "        insert_recursion(x.right,z,x)\n",
    "            \n",
    "    \n",
    "insert_recursion(t2.root,Node2(13))\n",
    "print (t2.root.right.left.left.key) #both call should return 13"
   ]
  },
  {
   "cell_type": "markdown",
   "metadata": {},
   "source": [
    "**12.3<br>Suppose that instead of each node $x$ keeping the attribute `x.p`, pointing to $x$'s parent, it keeps  `x.succ`, pointing to $x$'s successor. Give pseudocode for SEARCH, INSERT and DELETE on a binary search tree $T$ using this representation. These procedures should operate in time $O(h)$, where $h$ is the height of the tree $T$.** (*Hint*: You may wish to implement a subroutine that returns the parent of a node.)\n",
    "\n",
    "* There is no change in **SEARCH** becuase it is independent of the pointer $p$\n",
    "* **INSERT** is similar to the original version, except that we need to assign the `succ` pointer:\n",
    "    * if a newly inserted node $z$ is a left child of its parent $y$, then `z.succ=y.succ`\n",
    "    * if $z$ is the right child of $y$, then `z.succ=y.succ`, and don't forget we have to update `y.succ=z`"
   ]
  },
  {
   "cell_type": "code",
   "execution_count": 12,
   "metadata": {},
   "outputs": [
    {
     "name": "stdout",
     "output_type": "stream",
     "text": [
      "<__main__.Node3 object at 0x112600490>\n",
      "while\n",
      "while\n",
      "while\n"
     ]
    },
    {
     "ename": "AttributeError",
     "evalue": "'NoneType' object has no attribute 'left'",
     "output_type": "error",
     "traceback": [
      "\u001b[0;31m---------------------------------------------------------------------------\u001b[0m",
      "\u001b[0;31mAttributeError\u001b[0m                            Traceback (most recent call last)",
      "\u001b[0;32m<ipython-input-12-d81b389e5deb>\u001b[0m in \u001b[0;36m<module>\u001b[0;34m\u001b[0m\n\u001b[1;32m     71\u001b[0m \u001b[0;34m\u001b[0m\u001b[0m\n\u001b[1;32m     72\u001b[0m \u001b[0mt2\u001b[0m\u001b[0;34m.\u001b[0m\u001b[0minsert\u001b[0m\u001b[0;34m(\u001b[0m\u001b[0mNode3\u001b[0m\u001b[0;34m(\u001b[0m\u001b[0;36m13\u001b[0m\u001b[0;34m)\u001b[0m\u001b[0;34m)\u001b[0m\u001b[0;34m\u001b[0m\u001b[0;34m\u001b[0m\u001b[0m\n\u001b[0;32m---> 73\u001b[0;31m \u001b[0mprint\u001b[0m \u001b[0;34m(\u001b[0m\u001b[0mt2\u001b[0m\u001b[0;34m.\u001b[0m\u001b[0mroot\u001b[0m\u001b[0;34m.\u001b[0m\u001b[0mright\u001b[0m\u001b[0;34m.\u001b[0m\u001b[0mleft\u001b[0m\u001b[0;34m.\u001b[0m\u001b[0mleft\u001b[0m\u001b[0;34m.\u001b[0m\u001b[0mkey\u001b[0m\u001b[0;34m)\u001b[0m\u001b[0;31m#both call should return 13\u001b[0m\u001b[0;34m\u001b[0m\u001b[0;34m\u001b[0m\u001b[0m\n\u001b[0m",
      "\u001b[0;31mAttributeError\u001b[0m: 'NoneType' object has no attribute 'left'"
     ]
    }
   ],
   "source": [
    "\"\"\"build BTS and assign nodes, do not forget x.p\"\"\"\n",
    "class Node3:\n",
    "    def __init__(self, key):\n",
    "        self.left = None\n",
    "        self.right = None\n",
    "        self.key = key\n",
    "        self.succ=None\n",
    "\n",
    "class BinaryTree:\n",
    "    def __init__(self):\n",
    "        self.root = None\n",
    "        \n",
    "    \n",
    "    def p(self,z):\n",
    "        x=self.root\n",
    "        y=None\n",
    "       # print ('first')\n",
    "        while x is not None:\n",
    "            y=x\n",
    "            if x.key==z.key:\n",
    "               # print ('=')\n",
    "                return y\n",
    "            elif x.key>z.key:\n",
    "                x=x.left\n",
    "            else:\n",
    "                x=x.right \n",
    "    def insert(self,z):\n",
    "        \n",
    "        x=self.root\n",
    "       # print (self.root)\n",
    "        y=None\n",
    "        \n",
    "        while x is not None:\n",
    "            print ('while')\n",
    "            y=x\n",
    "\n",
    "            if x.key>z.key:\n",
    "                x=x.left\n",
    "               \n",
    "            elif x.key<z.key:\n",
    "                x=x.right\n",
    "                \n",
    "        #print (x)        \n",
    "        if y is None:\n",
    "            self.root=z\n",
    "        elif y.key>z.key: \n",
    "            y.left=z\n",
    "            z.succ=x\n",
    "        else:\n",
    "            y.right=z\n",
    "            z.succ=y.succ\n",
    "            y.succ=z\n",
    "       \n",
    "        \n",
    "                \n",
    "                    \n",
    "t2=BinaryTree()\n",
    "t2.root=Node3(12)\n",
    "t2.root.left=Node3(5)\n",
    "t2.root.right=Node3(18)\n",
    "t2.root.left.left=Node3(2)\n",
    "t2.root.left.right=Node3(9)\n",
    "t2.root.right.left=Node3(15)\n",
    "t2.root.right.right=Node3(19)\n",
    "t2.root.right.left.right=Node3(17)\n",
    "\n",
    "\n",
    "\n",
    "\n",
    "    \n",
    "\n",
    "t2.insert(Node3(13)) \n",
    "print (t2.root.right.left.left.key)#both call should return 13"
   ]
  },
  {
   "cell_type": "code",
   "execution_count": null,
   "metadata": {},
   "outputs": [],
   "source": [
    "t2.root.succ=t2.root.right\n",
    "t2.root.left.left.succ=t2.root.left\n",
    "t2.root.left.succ=t2.root.left.right\n",
    "t2.root.left.right.succ=t2.root\n",
    "t2.root.right.succ=t2.root.right.right\n",
    "t2.root.right.left.succ=t2.root.right\n",
    "t2.root.right.left.right.succ=t2.root.right\n",
    "t2.root.right.right.succ=None"
   ]
  }
 ],
 "metadata": {
  "kernelspec": {
   "display_name": "Python 3",
   "language": "python",
   "name": "python3"
  },
  "language_info": {
   "codemirror_mode": {
    "name": "ipython",
    "version": 3
   },
   "file_extension": ".py",
   "mimetype": "text/x-python",
   "name": "python",
   "nbconvert_exporter": "python",
   "pygments_lexer": "ipython3",
   "version": "3.7.4"
  }
 },
 "nbformat": 4,
 "nbformat_minor": 2
}
