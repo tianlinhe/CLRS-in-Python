{
 "cells": [
  {
   "cell_type": "markdown",
   "metadata": {},
   "source": [
    "# Querying a binary search tree (BTS)\n",
    "A BTS supports some operations in $O(h)$ time, where $h$ is the height of the tree. These operations include: \n",
    "* SEARCH \n",
    "* MINIMUM \n",
    "* SUCCESSOR \n",
    "* PREDECESSOR\n",
    "\n",
    "## Searching\n",
    "Given a pointer to the root `T.root` of the tree and a key $k$, `tree_search` returns a pointer to a node with key $k$ if one exists; otherwise, it returns `None`. \n",
    "\n",
    "### Searching with recursion\n",
    "1. The procedure starts from `T.root`\n",
    "2. For each node `x` it encounters, it **compares** `x.key` with the given key $k$:\n",
    "    * If the keys are equal, the search terminates\n",
    "    * If $x.key>k$, the search continues in the **left subtree* of `x` $\\Rightarrow recursion$\n",
    "    * If $x.key<k$, the search continues in the **right subtree* of `x` $\\Rightarrow recursion$\n",
    "    \n",
    "### Searching with iteration    \n",
    "Instead of recursion, we can rewrite the search algorithm in a \"iterative\" manner with the use of a `while` loop. \n",
    "1. The procedure starts from `T.root`\n",
    "2. In a `while loop`, compare `x.key` and $k$:\n",
    "    * If the keys are equal, the loop terminates and return `x`\n",
    "    * If $x.key>k$, the search continues in the **left subtree* of `x` \n",
    "    * If $x.key<k$, the search continues in the **right subtree* of `x`\n",
    "3. If $k$ is not in the tree, the loop will terminate and finally return `None`\n",
    "\n",
    "The following codes show both of the methods to search a key $13$ in a BTS from *Figure 12.2*:\n",
    "<img src=\"img/fig12.2-1.png\" width=\"700\">\n",
    "\n"
   ]
  },
  {
   "cell_type": "code",
   "execution_count": 15,
   "metadata": {},
   "outputs": [
    {
     "name": "stdout",
     "output_type": "stream",
     "text": [
      "the item is not in BTS\n"
     ]
    }
   ],
   "source": [
    "class Node:\n",
    "    def __init__(self, key):\n",
    "        self.left = None\n",
    "        self.right = None\n",
    "        self.key = key\n",
    "\n",
    "class BinaryTree:\n",
    "    def __init__(self):\n",
    "        self.root = None\n",
    "        \n",
    "def search_recursive(k,x):\n",
    "    if x.key==k or x.key is None:\n",
    "        return x\n",
    "    elif x.key>k:\n",
    "        return search_recursive(k,x.left)\n",
    "    else:\n",
    "        return search_recursive(k,x.right)\n",
    "    \n",
    "def search_iterative(k,x):\n",
    "    while x is not None:\n",
    "        if x.key==k:\n",
    "           # print (x.key)\n",
    "            return x\n",
    "        elif x.key>k:\n",
    "            x=x.left\n",
    "        else:\n",
    "            x=x.right\n",
    "    # when escape while loop, means that x is none \n",
    "    print ('the item is not in BTS')\n",
    "    return None\n",
    "\n",
    "        \n",
    "        \n",
    "            \n",
    "\"\"\"assign nodes of the tree\"\"\"            \n",
    "t=BinaryTree()\n",
    "t.root=Node(15)\n",
    "t.root.left=Node(6)\n",
    "t.root.right=Node(18)\n",
    "t.root.left.left=Node(3)\n",
    "t.root.left.right=Node(7)\n",
    "t.root.right.left=Node(17)\n",
    "t.root.right.right=Node(20)\n",
    "t.root.left.left.left=Node(2)\n",
    "t.root.left.left.right=Node(4)\n",
    "t.root.left.right.right=Node(13)\n",
    "t.root.left.right.right.left=Node(9)\n",
    "\n",
    "\n",
    "#search_recursive(13,t.root)\n",
    "search_iterative(14,t.root)"
   ]
  }
 ],
 "metadata": {
  "kernelspec": {
   "display_name": "Python 3",
   "language": "python",
   "name": "python3"
  },
  "language_info": {
   "codemirror_mode": {
    "name": "ipython",
    "version": 3
   },
   "file_extension": ".py",
   "mimetype": "text/x-python",
   "name": "python",
   "nbconvert_exporter": "python",
   "pygments_lexer": "ipython3",
   "version": "3.7.4"
  }
 },
 "nbformat": 4,
 "nbformat_minor": 2
}
