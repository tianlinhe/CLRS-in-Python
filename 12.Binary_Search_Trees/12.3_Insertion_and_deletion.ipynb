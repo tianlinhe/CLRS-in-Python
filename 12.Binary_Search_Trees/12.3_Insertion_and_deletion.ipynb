{
 "cells": [
  {
   "cell_type": "markdown",
   "metadata": {},
   "source": [
    "# 12.3 Insertion and deletion\n",
    "The operations of **insertion** and **deletion** mandates that the **binary search tree property** continues to hold after addtion/removal of a node.\n",
    "\n",
    "# Insertion\n",
    "`tree_insertion` takes a node $z$ with $z.key=v$, $z.left=None$, and $z.right=None$. $z$ is inserted in a correct position of a tree $T$ so that its BTS property continues to hold.\n",
    "\n",
    "`tree_insertion` is similar to `tree_search`, because it compares $z$ to node $x$ in the tree and redirects depends on the result of comparison:\n",
    "* If $z.key<x.key$, $\\Rightarrow$ goes to `x.right`\n",
    "* If $z.key>x.key$, $\\Rightarrow$ goes to `x.left`\n",
    "\n",
    "In addition, we need a **trailing pointer** $y$ as $x.p$, because:\n",
    "* at the end of `while` loop, the $x$ already reached `None` (where we will assign it as $z$)\n",
    "* the trailing pointer $y$ helps us to assign parent of $z$, so that $z.p=y$\n",
    "\n",
    "The following codes illustrate how we insert a node with key $13$ to a BTS in *Figure 12.3*:\n",
    "<img src=\"img/fig12.3-1.png\" width=\"700\">\n",
    "\n",
    "You may either write it as a separate function and call `tree_insert(t2.root,z)`, or have it inside `class BinaryTree` and call `t2.insert(z)`:\n",
    "    "
   ]
  },
  {
   "cell_type": "code",
   "execution_count": 1,
   "metadata": {},
   "outputs": [
    {
     "name": "stdout",
     "output_type": "stream",
     "text": [
      "13\n"
     ]
    }
   ],
   "source": [
    "\"\"\"build BTS and assign nodes, do not forget x.p\"\"\"\n",
    "class Node2:\n",
    "    def __init__(self, key):\n",
    "        self.left = None\n",
    "        self.right = None\n",
    "        self.key = key\n",
    "        self.p=None\n",
    "\n",
    "class BinaryTree:\n",
    "    def __init__(self):\n",
    "        self.root = None\n",
    "    def insert(self,z):\n",
    "        x=self.root\n",
    "        while x is not None:\n",
    "            y=x #trailing pointer\n",
    "            if x.key>z.key:\n",
    "                x=x.left\n",
    "            elif x.key<z.key:\n",
    "                x=x.right\n",
    "        # assign \"left\" or \"right\" attribute on y relative to z\n",
    "        if y.left==x: \n",
    "            y.left=z\n",
    "        elif y.right==x:\n",
    "            y.right=z\n",
    "        # assign \"p\" attribute on z relative on y\n",
    "        z.p=y\n",
    "        \n",
    "                    \n",
    "t2=BinaryTree()\n",
    "t2.root=Node2(12)\n",
    "t2.root.left=Node2(5)\n",
    "t2.root.right=Node2(18)\n",
    "t2.root.left.p=t2.root\n",
    "t2.root.right.p=t2.root\n",
    "t2.root.left.left=Node2(2)\n",
    "t2.root.left.right=Node2(9)\n",
    "t2.root.left.left.p=t2.root.left\n",
    "t2.root.left.right.p=t2.root.left\n",
    "t2.root.right.left=Node2(15)\n",
    "t2.root.right.right=Node2(19)\n",
    "t2.root.right.left.p=t2.root.right\n",
    "t2.root.right.right.p=t2.root.right\n",
    "t2.root.right.left.right=Node2(17)\n",
    "t2.root.right.left.right.p=t2.root.right.left\n",
    "\n",
    "def tree_insertion(x,z):\n",
    "    while x is not None:\n",
    "        y=x #trailing pointer\n",
    "        if x.key>z.key:\n",
    "            x=x.left\n",
    "        elif x.key<z.key:\n",
    "            x=x.right\n",
    "    # assign \"left\" or \"right\" attribute on y relative to z\n",
    "    if y.left==x: \n",
    "        y.left=z\n",
    "    elif y.right==x:\n",
    "        y.right=z\n",
    "    # assign \"p\" attribute on z relative on y\n",
    "    z.p=y\n",
    "    \n",
    "#tree_insertion(t2.root,Node2(13))\n",
    "t2.insert(Node2(13))\n",
    "print (t2.root.right.left.left.key) #both call should return 13"
   ]
  },
  {
   "cell_type": "markdown",
   "metadata": {},
   "source": []
  }
 ],
 "metadata": {
  "kernelspec": {
   "display_name": "Python 3",
   "language": "python",
   "name": "python3"
  },
  "language_info": {
   "codemirror_mode": {
    "name": "ipython",
    "version": 3
   },
   "file_extension": ".py",
   "mimetype": "text/x-python",
   "name": "python",
   "nbconvert_exporter": "python",
   "pygments_lexer": "ipython3",
   "version": "3.7.4"
  }
 },
 "nbformat": 4,
 "nbformat_minor": 2
}
