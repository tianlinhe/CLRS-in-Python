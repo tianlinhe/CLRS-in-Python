{
 "cells": [
  {
   "cell_type": "markdown",
   "metadata": {},
   "source": [
    "**12.2-2<br>Write recursive versions of TREE-MINIMUM and TREE-MAXIMUM**."
   ]
  },
  {
   "cell_type": "code",
   "execution_count": 12,
   "metadata": {},
   "outputs": [
    {
     "data": {
      "text/plain": [
       "2"
      ]
     },
     "execution_count": 12,
     "metadata": {},
     "output_type": "execute_result"
    }
   ],
   "source": [
    "\"\"\"assign nodes of the tree\"\"\"     \n",
    "class Node:\n",
    "    def __init__(self, key):\n",
    "        self.left = None\n",
    "        self.right = None\n",
    "        self.key = key\n",
    "\n",
    "class BinaryTree:\n",
    "    def __init__(self):\n",
    "        self.root = None            \n",
    "           \n",
    "t=BinaryTree()\n",
    "t.root=Node(15)\n",
    "t.root.left=Node(6)\n",
    "t.root.right=Node(18)\n",
    "t.root.left.left=Node(3)\n",
    "t.root.left.right=Node(7)\n",
    "t.root.right.left=Node(17)\n",
    "t.root.right.right=Node(20)\n",
    "t.root.left.left.left=Node(2)\n",
    "t.root.left.left.right=Node(4)\n",
    "t.root.left.right.right=Node(13)\n",
    "t.root.left.right.right.left=Node(9)\n",
    "\n",
    "\"\"\"return maxi or mini recursively\"\"\"\n",
    "def tree_minimum_recursive(x): #input T.root\n",
    "    if x.left is None:\n",
    "        return x\n",
    "    \n",
    "    return tree_minimum_recursive(x.left)\n",
    "\n",
    "def tree_maximum_recursive(x): #input T.root\n",
    "    if x.right is None:\n",
    "        return x\n",
    "    \n",
    "    return tree_maximum_recursive(x.right)\n",
    "\n",
    "tree_maximum_recursive(t.root).key # returns 20\n",
    "tree_minimum_recursive(t.root).key # returns 2"
   ]
  },
  {
   "cell_type": "markdown",
   "metadata": {},
   "source": [
    "**12.2-3<br>Write the TREE-PREDECESSOR procedure.**\n",
    "\n",
    "`tree-predecessor` is symmetrical to `tree-successor`: we just have to replace `left` by `right` etc."
   ]
  },
  {
   "cell_type": "code",
   "execution_count": null,
   "metadata": {},
   "outputs": [],
   "source": [
    "def tree_predecessor(x):\n",
    "    if x.left is not None:\n",
    "        return tree_maximum(x.left)\n",
    "    y=x.p\n",
    "    while y is not None and x == y.left:\n",
    "        x=y\n",
    "        y=y.p\n",
    "    return y"
   ]
  }
 ],
 "metadata": {
  "kernelspec": {
   "display_name": "Python 3",
   "language": "python",
   "name": "python3"
  },
  "language_info": {
   "codemirror_mode": {
    "name": "ipython",
    "version": 3
   },
   "file_extension": ".py",
   "mimetype": "text/x-python",
   "name": "python",
   "nbconvert_exporter": "python",
   "pygments_lexer": "ipython3",
   "version": "3.7.4"
  }
 },
 "nbformat": 4,
 "nbformat_minor": 2
}
