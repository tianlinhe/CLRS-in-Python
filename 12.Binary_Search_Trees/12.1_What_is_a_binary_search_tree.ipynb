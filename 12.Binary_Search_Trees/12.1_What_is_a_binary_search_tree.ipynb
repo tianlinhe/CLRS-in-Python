{
 "cells": [
  {
   "cell_type": "markdown",
   "metadata": {},
   "source": [
    "# Binary search Tree\n",
    "A binary search tree is a **linked data structure** in which each node is an object. \n",
    "\n",
    "## Each node contains:\n",
    "* Attributes as `key` and satellite data\n",
    "* Pointers to other nodes:\n",
    "    * `left` to its left child\n",
    "    * `right` to its right child\n",
    "    * `p` to its parent\n",
    "\n",
    "## Binary-search-tree property:\n",
    "For a node `x` in a binary search tree, \n",
    "$$\n",
    "\\begin{align}\n",
    "x.left.key\\leq x.key \\leq x.right.key\n",
    "\\end{align}\n",
    "$$\n",
    "\n",
    "## Tree walk\n",
    "The binary-search-tree property allows us to print out all the keys in **sorted order** by a **recursive algorithm**\n",
    "* **Inorder tree walk** prints the key of the root of a subtree *between* the key of its left subtree and that of its right subtree\n",
    "* **Preorder tree walk** prints the key of the root of a subtree *before* the key of its left subtree and that of its right subtree\n",
    "* **Postorder tree walk** prints the key of the root of a subtree *after* the key of its left subtree and that of its right subtree\n",
    "\n",
    "It takes $\\Theta (n)$ time to walk an n-node binary search tree, because each node is called exactly **twice** during the reculsive procedure\n",
    "\n",
    "The following codes demonstrate the **inorder tree walk** for the tree in *Figure 12.1 a)*"
   ]
  },
  {
   "cell_type": "code",
   "execution_count": 11,
   "metadata": {},
   "outputs": [
    {
     "name": "stdout",
     "output_type": "stream",
     "text": [
      "2\n",
      "5\n",
      "5\n",
      "6\n",
      "7\n",
      "8\n"
     ]
    }
   ],
   "source": [
    "class Node:\n",
    "    def __init__(self, key):\n",
    "        self.left = None\n",
    "        self.right = None\n",
    "        self.key = key\n",
    "\n",
    "class BinaryTree:\n",
    "    def __init__(self):\n",
    "        self.root = None\n",
    "        \n",
    "def inorder_walk(x):\n",
    "    if x is not None:\n",
    "        inorder_walk(x.left)\n",
    "        print (x.key)\n",
    "        inorder_walk(x.right)\n",
    "        \n",
    "            \n",
    "\"\"\"assign nodes of the tree\"\"\"            \n",
    "t=BinaryTree()\n",
    "t.root=Node(6)\n",
    "t.root.left=Node(5)\n",
    "t.root.right=Node(7)\n",
    "t.root.left.left=Node(2)\n",
    "t.root.left.right=Node(5)\n",
    "t.root.right.right=Node(8)\n",
    "\n",
    "inorder_walk(t.root)"
   ]
  }
 ],
 "metadata": {
  "kernelspec": {
   "display_name": "Python 3",
   "language": "python",
   "name": "python3"
  },
  "language_info": {
   "codemirror_mode": {
    "name": "ipython",
    "version": 3
   },
   "file_extension": ".py",
   "mimetype": "text/x-python",
   "name": "python",
   "nbconvert_exporter": "python",
   "pygments_lexer": "ipython3",
   "version": "3.7.4"
  }
 },
 "nbformat": 4,
 "nbformat_minor": 2
}
