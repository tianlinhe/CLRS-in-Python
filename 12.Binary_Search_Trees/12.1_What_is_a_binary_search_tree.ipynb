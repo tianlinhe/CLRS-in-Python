{
 "cells": [
  {
   "cell_type": "markdown",
   "metadata": {},
   "source": [
    "# 12.1 Binary search Tree\n",
    "A binary search tree is a **linked data structure** in which each node is an object.  Each node contains:\n",
    "* Attributes as `key` and satellite data\n",
    "* Pointers to other nodes:\n",
    "    * `left` to its left child\n",
    "    * `right` to its right child\n",
    "    * `p` to its parent\n",
    "\n",
    "## Binary-search-tree property:\n",
    "For a node `x` in a binary search tree:\n",
    "* Nodes in the **right subtree** of `x` have keys that are **at least** `x.key`\n",
    "* Nodes in the **left subtree** of `x` have keys that are **at most** `x.key`\n",
    "\n",
    "\n",
    "## Tree walk\n",
    "The binary-search-tree property allows us to print out all the keys in **sorted order** by a **recursive algorithm**:\n",
    "\n",
    "* **Inorder tree walk** prints the key of the root of a subtree *between* the key of its left subtree and that of its right subtree\n",
    "* **Preorder tree walk** prints the key of the root of a subtree *before* the key of its left subtree and that of its right subtree\n",
    "* **Postorder tree walk** prints the key of the root of a subtree *after* the key of its left subtree and that of its right subtree\n",
    "\n",
    "It takes $\\Theta (n)$ time to walk an n-node binary search tree, because each node is called exactly **twice** during the reculsive procedure.\n",
    "\n",
    "The following codes demonstrate the **inorder tree walk** for the tree in *Figure 12.1 a)*:\n",
    "\n",
    "<img src=\"img/fig12.1-1.png\" width=\"400\">\n",
    "\n",
    "## Build a tree\n",
    "The following python codes can build a tree by assigning its key, left and right child manually to every node:\n",
    "1. `class Node` defines a node with `key`, `left` and `right` pointers*\n",
    "2. `class BinaryTree` starts with an empty tree whose root is `None`\n",
    "3. We start by assigning t.root `t=BinaryTree()` and set `t.root=Node(6)` so that the key of root is $6$\n",
    "4. From line 21 to line 25, we assign the keys of the remainig nodes according to its relation with `t.root`\n",
    "\n",
    "$*$ Notice that we omit the `p` pointer for simplicity, because it is not required for tree walk."
   ]
  },
  {
   "cell_type": "code",
   "execution_count": 11,
   "metadata": {},
   "outputs": [
    {
     "name": "stdout",
     "output_type": "stream",
     "text": [
      "2\n",
      "5\n",
      "5\n",
      "6\n",
      "7\n",
      "8\n"
     ]
    }
   ],
   "source": [
    "class Node:\n",
    "    def __init__(self, key):\n",
    "        self.left = None\n",
    "        self.right = None\n",
    "        self.key = key\n",
    "\n",
    "class BinaryTree:\n",
    "    def __init__(self):\n",
    "        self.root = None\n",
    "        \n",
    "def inorder_walk(x):\n",
    "    if x is not None:\n",
    "        inorder_walk(x.left)\n",
    "        print (x.key)\n",
    "        inorder_walk(x.right)\n",
    "        \n",
    "            \n",
    "\"\"\"assign nodes of the tree manually\"\"\"            \n",
    "t=BinaryTree()\n",
    "t.root=Node(6)\n",
    "t.root.left=Node(5)\n",
    "t.root.right=Node(7)\n",
    "t.root.left.left=Node(2)\n",
    "t.root.left.right=Node(5)\n",
    "t.root.right.right=Node(8)\n",
    "\n",
    "inorder_walk(t.root)"
   ]
  }
 ],
 "metadata": {
  "kernelspec": {
   "display_name": "Python 3",
   "language": "python",
   "name": "python3"
  },
  "language_info": {
   "codemirror_mode": {
    "name": "ipython",
    "version": 3
   },
   "file_extension": ".py",
   "mimetype": "text/x-python",
   "name": "python",
   "nbconvert_exporter": "python",
   "pygments_lexer": "ipython3",
   "version": "3.7.4"
  }
 },
 "nbformat": 4,
 "nbformat_minor": 2
}
