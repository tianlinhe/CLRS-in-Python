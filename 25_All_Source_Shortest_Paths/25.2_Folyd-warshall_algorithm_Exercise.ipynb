{
 "cells": [
  {
   "cell_type": "markdown",
   "metadata": {},
   "source": [
    "**25.1<br>Run the Floyd-Warshall algorithm on the weighted, directed graph of Figure 25.2. Show the matrix $D^{(k)}$ that results for each iteration of the outer loop.**"
   ]
  },
  {
   "cell_type": "code",
   "execution_count": 25,
   "metadata": {},
   "outputs": [],
   "source": [
    "def floyd_warshall(W):\n",
    "    n=len(W)\n",
    "    # D is a collection of D(i), i=0,1,2,...,k\n",
    "    D=[W] # D(i) is a list of n*n matrices.\n",
    "    for k in range(n):\n",
    "        # generate an empty n*n matrix D(k) for each k\n",
    "        # append D(k) to D\n",
    "        D.append(W)\n",
    "        for i in range(n):\n",
    "            for j in range(n):\n",
    "                # modify the value of every cell dij in D(k)\n",
    "                # according to optimal substructure\n",
    "                D[k+1][i][j]=min(D[k][i][j],D[k][i][k]+D[k][k][j])\n",
    "        print (D[k],'\\n')\n",
    "    # the final solution of dij is the last D(n) added to D\n",
    "    return D[n]"
   ]
  },
  {
   "cell_type": "code",
   "execution_count": 26,
   "metadata": {},
   "outputs": [
    {
     "name": "stdout",
     "output_type": "stream",
     "text": [
      "[[0, 10000, 10000, 10000, -1, 10000], [1, 0, 10000, 2, 0, 10000], [10000, 2, 0, 10000, 9999, -8], [-4, 9996, 9996, 0, -5, 9996], [10000, 7, 10000, 10000, 0, 10000], [10000, 5, 10, 10000, 9999, 0]] \n",
      "\n",
      "[[0, 10000, 10000, 10000, -1, 10000], [1, 0, 10000, 2, 0, 10000], [3, 2, 0, 4, 2, -8], [-4, 9996, 9996, 0, -5, 9996], [8, 7, 10000, 9, 0, 10000], [6, 5, 10, 7, 5, 0]] \n",
      "\n",
      "[[0, 10000, 10000, 10000, -1, 9992], [1, 0, 10000, 2, 0, 9992], [3, 2, 0, 4, 2, -8], [-4, 9996, 9996, 0, -5, 9988], [8, 7, 10000, 9, 0, 9992], [6, 5, 10, 7, 5, 0]] \n",
      "\n",
      "[[0, 10000, 10000, 10000, -1, 9992], [-2, 0, 9998, 2, -3, 9990], [0, 2, 0, 4, -1, -8], [-4, 9996, 9996, 0, -5, 9988], [5, 7, 10000, 9, 0, 9992], [3, 5, 10, 7, 2, 0]] \n",
      "\n",
      "[[0, 6, 9999, 8, -1, 9991], [-2, 0, 9997, 2, -3, 9989], [0, 2, 0, 4, -1, -8], [-4, 2, 9995, 0, -5, 9987], [5, 7, 10000, 9, 0, 9992], [3, 5, 10, 7, 2, 0]] \n",
      "\n",
      "[[0, 6, 9999, 8, -1, 9991], [-2, 0, 9997, 2, -3, 9989], [-5, -3, 0, -1, -6, -8], [-4, 2, 9995, 0, -5, 9987], [5, 7, 10000, 9, 0, 9992], [3, 5, 10, 7, 2, 0]] \n",
      "\n"
     ]
    },
    {
     "data": {
      "text/plain": [
       "[[0, 6, 9999, 8, -1, 9991],\n",
       " [-2, 0, 9997, 2, -3, 9989],\n",
       " [-5, -3, 0, -1, -6, -8],\n",
       " [-4, 2, 9995, 0, -5, 9987],\n",
       " [5, 7, 10000, 9, 0, 9992],\n",
       " [3, 5, 10, 7, 2, 0]]"
      ]
     },
     "execution_count": 26,
     "metadata": {},
     "output_type": "execute_result"
    }
   ],
   "source": [
    "W=[[0,10000,10000,10000,-1,10000],\n",
    "  [1,0,10000,2,10000,10000],\n",
    "  [10000,2,0,10000,10000,-8],\n",
    "  [-4,10000,10000,0,3,10000],\n",
    "  [10000,7,10000,10000,0,10000],\n",
    "  [10000,5,10,10000,10000,0]]\n",
    "floyd_warshall(W)"
   ]
  },
  {
   "cell_type": "markdown",
   "metadata": {},
   "source": [
    "**25.2<br>Show how to compute the transitive closure using the technique of Section 25.1.**"
   ]
  },
  {
   "cell_type": "code",
   "execution_count": 27,
   "metadata": {},
   "outputs": [],
   "source": [
    "#import numpy as np\n",
    "def floyd_warshall_transitive_closure(W):\n",
    "    n=len(W)\n",
    "    # T is a collection of T(i), i=0,1,2,...,k\n",
    "    T=[W]\n",
    "    # define T0, which is a identity matrix + edges in W as 1\n",
    "    for i in range(n):\n",
    "        for j in range(n):\n",
    "            if W[i][j]<10000:\n",
    "                T[0][i][j]=1\n",
    "            else:\n",
    "                T[0][i][j]=0\n",
    "    \n",
    "    for k in range(n):\n",
    "        # generate an empty n*n matrix T(k) for each k\n",
    "        # append T(k) to T to work on\n",
    "        T.append(W)\n",
    "        \n",
    "        for i in range(n):\n",
    "            for j in range(n):\n",
    "                # modify the value of every cell tij in T(k)\n",
    "                # according to optimal substructure\n",
    "                T[k+1][i][j]=(T[k][i][j] or (T[k][i][k] and T[k][k][j]))\n",
    "        \n",
    "    # the final solution of dij is the last T(n) added to T\n",
    "    return T[n]"
   ]
  },
  {
   "cell_type": "code",
   "execution_count": 28,
   "metadata": {},
   "outputs": [
    {
     "data": {
      "text/plain": [
       "[[1, 1, 0, 1, 1, 0],\n",
       " [1, 1, 0, 1, 1, 0],\n",
       " [1, 1, 1, 1, 1, 1],\n",
       " [1, 1, 0, 1, 1, 0],\n",
       " [1, 1, 0, 1, 1, 0],\n",
       " [1, 1, 1, 1, 1, 1]]"
      ]
     },
     "execution_count": 28,
     "metadata": {},
     "output_type": "execute_result"
    }
   ],
   "source": [
    "W=[[0,10000,10000,10000,-1,10000],\n",
    "  [1,0,10000,2,10000,10000],\n",
    "  [10000,2,0,10000,10000,-8],\n",
    "  [-4,10000,10000,0,3,10000],\n",
    "  [10000,7,10000,10000,0,10000],\n",
    "  [10000,5,10,10000,10000,0]]\n",
    "floyd_warshall_transitive_closure(W)"
   ]
  },
  {
   "cell_type": "markdown",
   "metadata": {},
   "source": [
    "**25.2-3<br>Modify the FLOYD-WARSHALL procedure to compute the $\\Pi ^{(k)}$ matrices according to equations (25.6) and (25.7). Prove rigorously that for all $i\\in V$, the predecessor subgraph $G_{\\pi ,i}$ is a shortest path tree with root $i$. (*Hint*: To show that $G_{\\pi ,i}$ is acyclic, first show that $\\pi _{ij}^{(k)}=l$ implies $d_{ij}^{(k)} \\geq d_{il}^{(k)}+w{ij}$, according to the definition of $\\pi _{ij}^{(k)}$. Then, adapt the proof of Lemma 24.16.)**"
   ]
  },
  {
   "cell_type": "code",
   "execution_count": 29,
   "metadata": {},
   "outputs": [],
   "source": [
    "import numpy as np\n",
    "def floyd_warshall_predecessor_subgraph(W):\n",
    "    \n",
    "    n=len(W)\n",
    "    # define D0\n",
    "    D=[W]\n",
    "    \n",
    "    # define P0 according to equation 25.6\n",
    "    P=[np.zeros((n,n))]\n",
    "    for i in range(n):\n",
    "        for j in range(n):\n",
    "            if W[i][j]<10000 and W[i][j]!=0:\n",
    "                P[0][i][j]=i\n",
    "            else:\n",
    "                P[0][i][j]=np.nan\n",
    "    \n",
    "    for k in range(n):\n",
    "        # generate an empty n*n matrix for each k to work on\n",
    "        P.append(np.zeros((n,n)))\n",
    "        D.append(W)\n",
    "        \n",
    "        for i in range(n):\n",
    "            for j in range(n):\n",
    "                \n",
    "                # assign value of P[k] according to equation 25.7\n",
    "                if D[k+1][i][j]<=D[k][i][k]+D[k][k][j]:\n",
    "                    P[k+1][i][j]=P[k][i][j]\n",
    "                else:\n",
    "                    P[k+1][i][j]=P[k][k][j]\n",
    "                # modify the value of every cell dij in D(k)\n",
    "                D[k+1][i][j]=min(D[k][i][j],D[k][i][k]+D[k][k][j])\n",
    "                       \n",
    "    # the final solution of P and D is the last matrice (n) \n",
    "    return P[n], D[n]"
   ]
  },
  {
   "cell_type": "code",
   "execution_count": 30,
   "metadata": {},
   "outputs": [
    {
     "name": "stdout",
     "output_type": "stream",
     "text": [
      "[[nan nan nan nan  0. nan]\n",
      " [ 1. nan nan  1. nan nan]\n",
      " [nan  2. nan nan nan  2.]\n",
      " [ 3. nan nan nan  3. nan]\n",
      " [nan  4. nan nan nan nan]\n",
      " [nan  5.  5. nan nan nan]] [[    0 10000 10000 10000    -1 10000]\n",
      " [    1     0 10000     2 10000 10000]\n",
      " [10000     2     0 10000 10000    -8]\n",
      " [   -4 10000 10000     0     3 10000]\n",
      " [10000     7 10000 10000     0 10000]\n",
      " [10000     5    10 10000 10000     0]]\n"
     ]
    },
    {
     "data": {
      "text/plain": [
       "(array([[nan,  4., nan,  1.,  0.,  2.],\n",
       "        [ 3., nan, nan,  1.,  0.,  2.],\n",
       "        [ 3.,  5., nan,  1.,  0.,  2.],\n",
       "        [ 3.,  4., nan, nan,  0.,  2.],\n",
       "        [ 3.,  4., nan,  1., nan,  2.],\n",
       "        [ 3.,  5.,  5.,  1.,  0., nan]]),\n",
       " array([[    0,     6,  9999,     8,    -1,  9991],\n",
       "        [   -2,     0,  9997,     2,    -3,  9989],\n",
       "        [   -5,    -3,     0,    -1,    -6,    -8],\n",
       "        [   -4,     2,  9995,     0,    -5,  9987],\n",
       "        [    5,     7, 10000,     9,     0,  9992],\n",
       "        [    3,     5,    10,     7,     2,     0]]))"
      ]
     },
     "execution_count": 30,
     "metadata": {},
     "output_type": "execute_result"
    }
   ],
   "source": [
    "W=np.array([[0,10000,10000,10000,-1,10000],\n",
    "  [1,0,10000,2,10000,10000],\n",
    "  [10000,2,0,10000,10000,-8],\n",
    "  [-4,10000,10000,0,3,10000],\n",
    "  [10000,7,10000,10000,0,10000],\n",
    "  [10000,5,10,10000,10000,0]])\n",
    "floyd_warshall_predecessor_subgraph(W)"
   ]
  },
  {
   "cell_type": "code",
   "execution_count": null,
   "metadata": {},
   "outputs": [],
   "source": []
  }
 ],
 "metadata": {
  "kernelspec": {
   "display_name": "Python 3",
   "language": "python",
   "name": "python3"
  },
  "language_info": {
   "codemirror_mode": {
    "name": "ipython",
    "version": 3
   },
   "file_extension": ".py",
   "mimetype": "text/x-python",
   "name": "python",
   "nbconvert_exporter": "python",
   "pygments_lexer": "ipython3",
   "version": "3.8.3"
  }
 },
 "nbformat": 4,
 "nbformat_minor": 4
}
