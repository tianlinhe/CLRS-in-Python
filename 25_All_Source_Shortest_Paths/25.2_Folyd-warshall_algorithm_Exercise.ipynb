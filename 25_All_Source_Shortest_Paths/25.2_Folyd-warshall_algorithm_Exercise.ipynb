{
 "cells": [
  {
   "cell_type": "markdown",
   "metadata": {},
   "source": [
    "**25.1<br>Run the Floyd-Warshall algorithm on the weighted, directed graph of Figure 25.2. Show the matrix $D^{(k)}$ that results for each iteration of the outer loop.**"
   ]
  },
  {
   "cell_type": "code",
   "execution_count": 25,
   "metadata": {},
   "outputs": [],
   "source": [
    "def floyd_warshall(W):\n",
    "    n=len(W)\n",
    "    # D is a collection of D(i), i=0,1,2,...,k\n",
    "    D=[W] # D(i) is a list of n*n matrices.\n",
    "    for k in range(n):\n",
    "        # generate an empty n*n matrix D(k) for each k\n",
    "        # append D(k) to D\n",
    "        D.append(W)\n",
    "        for i in range(n):\n",
    "            for j in range(n):\n",
    "                # modify the value of every cell dij in D(k)\n",
    "                # according to optimal substructure\n",
    "                D[k+1][i][j]=min(D[k][i][j],D[k][i][k]+D[k][k][j])\n",
    "        print (D[k],'\\n')\n",
    "    # the final solution of dij is the last D(n) added to D\n",
    "    return D[n]"
   ]
  },
  {
   "cell_type": "code",
   "execution_count": 26,
   "metadata": {
    "collapsed": true
   },
   "outputs": [
    {
     "name": "stdout",
     "output_type": "stream",
     "text": [
      "[[0, 10000, 10000, 10000, -1, 10000], [1, 0, 10000, 2, 0, 10000], [10000, 2, 0, 10000, 9999, -8], [-4, 9996, 9996, 0, -5, 9996], [10000, 7, 10000, 10000, 0, 10000], [10000, 5, 10, 10000, 9999, 0]] \n",
      "\n",
      "[[0, 10000, 10000, 10000, -1, 10000], [1, 0, 10000, 2, 0, 10000], [3, 2, 0, 4, 2, -8], [-4, 9996, 9996, 0, -5, 9996], [8, 7, 10000, 9, 0, 10000], [6, 5, 10, 7, 5, 0]] \n",
      "\n",
      "[[0, 10000, 10000, 10000, -1, 9992], [1, 0, 10000, 2, 0, 9992], [3, 2, 0, 4, 2, -8], [-4, 9996, 9996, 0, -5, 9988], [8, 7, 10000, 9, 0, 9992], [6, 5, 10, 7, 5, 0]] \n",
      "\n",
      "[[0, 10000, 10000, 10000, -1, 9992], [-2, 0, 9998, 2, -3, 9990], [0, 2, 0, 4, -1, -8], [-4, 9996, 9996, 0, -5, 9988], [5, 7, 10000, 9, 0, 9992], [3, 5, 10, 7, 2, 0]] \n",
      "\n",
      "[[0, 6, 9999, 8, -1, 9991], [-2, 0, 9997, 2, -3, 9989], [0, 2, 0, 4, -1, -8], [-4, 2, 9995, 0, -5, 9987], [5, 7, 10000, 9, 0, 9992], [3, 5, 10, 7, 2, 0]] \n",
      "\n",
      "[[0, 6, 9999, 8, -1, 9991], [-2, 0, 9997, 2, -3, 9989], [-5, -3, 0, -1, -6, -8], [-4, 2, 9995, 0, -5, 9987], [5, 7, 10000, 9, 0, 9992], [3, 5, 10, 7, 2, 0]] \n",
      "\n"
     ]
    },
    {
     "data": {
      "text/plain": [
       "[[0, 6, 9999, 8, -1, 9991],\n",
       " [-2, 0, 9997, 2, -3, 9989],\n",
       " [-5, -3, 0, -1, -6, -8],\n",
       " [-4, 2, 9995, 0, -5, 9987],\n",
       " [5, 7, 10000, 9, 0, 9992],\n",
       " [3, 5, 10, 7, 2, 0]]"
      ]
     },
     "execution_count": 26,
     "metadata": {},
     "output_type": "execute_result"
    }
   ],
   "source": [
    "W=[[0,10000,10000,10000,-1,10000],\n",
    "  [1,0,10000,2,10000,10000],\n",
    "  [10000,2,0,10000,10000,-8],\n",
    "  [-4,10000,10000,0,3,10000],\n",
    "  [10000,7,10000,10000,0,10000],\n",
    "  [10000,5,10,10000,10000,0]]\n",
    "floyd_warshall(W)"
   ]
  },
  {
   "cell_type": "markdown",
   "metadata": {},
   "source": [
    "**25.2<br>Show how to compute the transitive closure using the technique of Section 25.1.**"
   ]
  },
  {
   "cell_type": "code",
   "execution_count": 33,
   "metadata": {},
   "outputs": [],
   "source": [
    "#import numpy as np\n",
    "def floyd_warshall_transitive_closure(W):\n",
    "    n=len(W)\n",
    "    # T is a collection of T(i), i=0,1,2,...,k\n",
    "    T=[W]\n",
    "    # define T0, which is a identity matrix + edges in W as 1\n",
    "    for i in range(n):\n",
    "        for j in range(n):\n",
    "            if W[i][j]<10000:\n",
    "                T[0][i][j]=1\n",
    "            else:\n",
    "                T[0][i][j]=0\n",
    "    #print (T[0])\n",
    "    for k in range(n):\n",
    "        # generate an empty n*n matrix T(k) for each k\n",
    "        # append T(k) to T to work on\n",
    "        T.append(W)\n",
    "        \n",
    "        for i in range(n):\n",
    "            for j in range(n):\n",
    "                # modify the value of every cell tij in T(k)\n",
    "                # according to optimal substructure\n",
    "                T[k+1][i][j]=(T[k][i][j] or (T[k][i][k] and T[k][k][j]))\n",
    "        \n",
    "    # the final solution of dij is the last T(n) added to T\n",
    "    return T[n]"
   ]
  },
  {
   "cell_type": "code",
   "execution_count": 34,
   "metadata": {},
   "outputs": [
    {
     "name": "stdout",
     "output_type": "stream",
     "text": [
      "[[1, 0, 0, 0, 1, 0], [1, 1, 0, 1, 0, 0], [0, 1, 1, 0, 0, 1], [1, 0, 0, 1, 1, 0], [0, 1, 0, 0, 1, 0], [0, 1, 1, 0, 0, 1]]\n"
     ]
    },
    {
     "data": {
      "text/plain": [
       "[[1, 1, 0, 1, 1, 0],\n",
       " [1, 1, 0, 1, 1, 0],\n",
       " [1, 1, 1, 1, 1, 1],\n",
       " [1, 1, 0, 1, 1, 0],\n",
       " [1, 1, 0, 1, 1, 0],\n",
       " [1, 1, 1, 1, 1, 1]]"
      ]
     },
     "execution_count": 34,
     "metadata": {},
     "output_type": "execute_result"
    }
   ],
   "source": [
    "W=[[0,10000,10000,10000,-1,10000],\n",
    "  [1,0,10000,2,10000,10000],\n",
    "  [10000,2,0,10000,10000,-8],\n",
    "  [-4,10000,10000,0,3,10000],\n",
    "  [10000,7,10000,10000,0,10000],\n",
    "  [10000,5,10,10000,10000,0]]\n",
    "floyd_warshall_transitive_closure(W)"
   ]
  },
  {
   "cell_type": "markdown",
   "metadata": {},
   "source": [
    "**25.2-3<br>Modify the FLOYD-WARSHALL procedure to compute the $\\Pi ^{(k)}$ matrices according to equations (25.6) and (25.7). Prove rigorously that for all $i\\in V$, the predecessor subgraph $G_{\\pi ,i}$ is a shortest path tree with root $i$. (*Hint*: To show that $G_{\\pi ,i}$ is acyclic, first show that $\\pi _{ij}^{(k)}=l$ implies $d_{ij}^{(k)} \\geq d_{il}^{(k)}+w_{ij}$, according to the definition of $\\pi _{ij}^{(k)}$. Then, adapt the proof of Lemma 24.16.)**"
   ]
  },
  {
   "cell_type": "code",
   "execution_count": 41,
   "metadata": {},
   "outputs": [],
   "source": [
    "import numpy as np\n",
    "def floyd_warshall_predecessor_subgraph(W):\n",
    "    \n",
    "    n=len(W)\n",
    "    # define D0\n",
    "    D=[W]\n",
    "    \n",
    "    # define P0 according to equation 25.6\n",
    "    P=[np.zeros((n,n))]\n",
    "    for i in range(n):\n",
    "        for j in range(n):\n",
    "            if W[i][j]<10000 and W[i][j]!=0:\n",
    "                P[0][i][j]=i\n",
    "            else:\n",
    "                P[0][i][j]=np.nan\n",
    "    \n",
    "    for k in range(n):\n",
    "        # generate an empty n*n matrix for each k to work on\n",
    "        P.append(np.zeros((n,n)))\n",
    "        \n",
    "        D.append(np.zeros((n,n)))\n",
    "        \n",
    "        for i in range(n):\n",
    "            for j in range(n):\n",
    "                \n",
    "                # assign value of P[k] according to equation 25.7\n",
    "                if D[k][i][j]<=D[k][i][k]+D[k][k][j]:\n",
    "                    P[k+1][i][j]=P[k][i][j]\n",
    "                else:\n",
    "                    P[k+1][i][j]=P[k][k][j]\n",
    "                # modify the value of every cell dij in D(k)\n",
    "                D[k+1][i][j]=min(D[k][i][j],D[k][i][k]+D[k][k][j])\n",
    "        #print (k,P[k])\n",
    "                       \n",
    "    # the final solution of P and D is the last matrice (n) \n",
    "    return P[n], D[n]"
   ]
  },
  {
   "cell_type": "code",
   "execution_count": 42,
   "metadata": {},
   "outputs": [
    {
     "data": {
      "text/plain": [
       "(array([[nan,  4., nan,  1.,  0., nan],\n",
       "        [ 3., nan, nan,  1.,  0., nan],\n",
       "        [ 3.,  5., nan,  1.,  0.,  2.],\n",
       "        [ 3.,  4., nan, nan,  0., nan],\n",
       "        [ 3.,  4., nan,  1., nan, nan],\n",
       "        [ 3.,  5.,  5.,  1.,  0., nan]]),\n",
       " array([[ 0.,  6., inf,  8., -1., inf],\n",
       "        [-2.,  0., inf,  2., -3., inf],\n",
       "        [-5., -3.,  0., -1., -6., -8.],\n",
       "        [-4.,  2., inf,  0., -5., inf],\n",
       "        [ 5.,  7., inf,  9.,  0., inf],\n",
       "        [ 3.,  5., 10.,  7.,  2.,  0.]]))"
      ]
     },
     "execution_count": 42,
     "metadata": {},
     "output_type": "execute_result"
    }
   ],
   "source": [
    "# for line 27 to work properly, entry of W has to be np.inf, 10000 will not work any more\n",
    "W_=np.array([[0,np.inf,np.inf,np.inf,-1,np.inf],\n",
    "  [1,0,np.inf,2,np.inf,np.inf],\n",
    "  [np.inf,2,0,np.inf,np.inf,-8],\n",
    "  [-4,np.inf,np.inf,0,3,np.inf],\n",
    "  [np.inf,7,np.inf,np.inf,0,np.inf],\n",
    "  [np.inf,5,10,np.inf,np.inf,0]])\n",
    "floyd_warshall_predecessor_subgraph(W_)"
   ]
  },
  {
   "cell_type": "markdown",
   "metadata": {},
   "source": [
    "**25.2-4<br>As it appears above, the Floyd-Warshall algorithm requires $\\Theta (n^3)$ space, since we compute $d_{ij}^{(k)}$ for $i,j,k=1,2,...n$. Show that the following procedure, which simply drops all the superscripts, is correct, and thus only $\\Theta (n^2)$ space is required.**\n",
    "```\n",
    "FLOYD-WARSHALL'(W)\n",
    "1 n=W.rows\n",
    "2 D=W\n",
    "3 for k=1 to n\n",
    "4     for i=1 to n\n",
    "5         for j=1 to n\n",
    "6             dij=min(dij,dik+dkj)\n",
    "7 return D\n",
    "```\n",
    "\n",
    "Proof: on line 6, we are gradually updating the $(i,j)$ entry of $D$. The new value depends on the old value of three entries $(i,j)$, $(i,k)$ and $(k,j)$. For the $i*j$ times we update $D$ for a certain $k$, we look at $(i,j)$, $(i,k)$ and $(k,j)$ exactly once. Therefore we only have to prove that $(i,k)$ and $(k,j)$ entries will not be affected by update:\n",
    "* For $i\\neq k$ and $j\\neq k$, it is apparent, because only $(i,j)$ entry is updated\n",
    "* For $i=k$ or $j=k$, we know $d_{ij}^{(k)}=d_{ij}^{(k-1)}$, because $k$ cannot be the end of path and an intermediate in the path *at the same time*.\n",
    "\n",
    "Combining the two cases, we conclude that $(i,k)$ and $(k,j)$  are not changed for every $k$, the correctness of the algorithm is proved. \n",
    "\n",
    "Running the following `floyd_warshall_n2` on $W$ returns the same answer as `floyd_warshall`:"
   ]
  },
  {
   "cell_type": "code",
   "execution_count": 3,
   "metadata": {},
   "outputs": [],
   "source": [
    "def floyd_warshall_n2(W):\n",
    "    n=len(W)\n",
    "    D=W.copy() # build D based on W\n",
    "    for k in range(n):\n",
    "        for i in range(n):\n",
    "            for j in range(n):\n",
    "                # modify the value of every cell dij in D\n",
    "                # according to optimal substructure\n",
    "                D[i][j]=min(D[i][j],D[i][k]+D[k][j])\n",
    "   \n",
    "    return D"
   ]
  },
  {
   "cell_type": "code",
   "execution_count": 4,
   "metadata": {},
   "outputs": [
    {
     "data": {
      "text/plain": [
       "array([[    0,     6,  9999,     8,    -1,  9991],\n",
       "       [   -2,     0,  9997,     2,    -3,  9989],\n",
       "       [   -5,    -3,     0,    -1,    -6,    -8],\n",
       "       [   -4,     2,  9995,     0,    -5,  9987],\n",
       "       [    5,     7, 10000,     9,     0,  9992],\n",
       "       [    3,     5,    10,     7,     2,     0]])"
      ]
     },
     "execution_count": 4,
     "metadata": {},
     "output_type": "execute_result"
    }
   ],
   "source": [
    "W=np.array([[0,10000,10000,10000,-1,10000],\n",
    "  [1,0,10000,2,10000,10000],\n",
    "  [10000,2,0,10000,10000,-8],\n",
    "  [-4,10000,10000,0,3,10000],\n",
    "  [10000,7,10000,10000,0,10000],\n",
    "  [10000,5,10,10000,10000,0]])\n",
    "floyd_warshall_n2(W)"
   ]
  },
  {
   "cell_type": "markdown",
   "metadata": {},
   "source": [
    "**24.2-5<br>Suppose that we modify the way in which equation (25.7) handles equality:**\n",
    "\n",
    "$$\n",
    "\\begin{align}\n",
    "\\pi _{ij}^{(k)}=\\left\\{\n",
    "        \\begin{array}{ll}\n",
    "        \\pi _{ij}^{(k-1)} &\\text{if}\\ d_{ij}^{(k-1)}<d_{ik}^{(k-1)}+d_{kj}^{(k-1)}\\\\\n",
    "        \\pi _{kj}^{(k-1)} &\\text{if}\\ d_{ij}^{(k-1)} \\geq d_{ik}^{(k-1)}+d_{kj}^{(k-1)}\\\\\n",
    "        \\end{array}\n",
    "        \\right.\n",
    "\\end{align}\n",
    "$$\n",
    "\n",
    "**Is this alternative definition of the predecessor matrix $\\Pi$ correct?**\n",
    "\n",
    "It is correct, it will return alternative shortest paths, which are not unique. (On the other hand, the shortest path weights matrix $D$ is unique, it is not affected here.)"
   ]
  },
  {
   "cell_type": "markdown",
   "metadata": {},
   "source": [
    "**25.2-6<br>How can we use the output of the Floyd-Warshall algorithm to detect the presence of a negative-weight cycle?**\n",
    "\n",
    "If negative cycles exists between $i$ to $j$ through the intermediate vertex $k$, then we have the condition $d_{ik}+d_{kj}+d_{ji}<0$. We can check it under the nested `for` loop, before we start updating the values in $D^{(k)}$."
   ]
  },
  {
   "cell_type": "code",
   "execution_count": 31,
   "metadata": {},
   "outputs": [],
   "source": [
    "def floyd_warshall_n2_negative_cycle(W):\n",
    "    n=len(W)\n",
    "    D=W.copy() # build D based on W\n",
    "    for k in range(n):\n",
    "        for i in range(n):\n",
    "            for j in range(n):\n",
    "                # check existence of negative-weight cycle\n",
    "                # before update with for D(k)\n",
    "                if D[i][k]+D[k][j]+D[j][i]<0:\n",
    "                    return False\n",
    "                D[i][j]=min(D[i][j],D[i][k]+D[k][j])\n",
    "    return True"
   ]
  },
  {
   "cell_type": "code",
   "execution_count": 29,
   "metadata": {},
   "outputs": [
    {
     "data": {
      "text/plain": [
       "array([[    0,     6,  9999,     8,    -1,  9991],\n",
       "       [   -2,     0,  9997,     2,    -3,  9989],\n",
       "       [   -5,    -3,     0,    -1,    -6,    -8],\n",
       "       [   -4,     2,  9995,     0,    -5,  9987],\n",
       "       [    5,     7, 10000,     9,     0,  9992],\n",
       "       [    3,     5,    10,     7,     2,     0]])"
      ]
     },
     "execution_count": 29,
     "metadata": {},
     "output_type": "execute_result"
    }
   ],
   "source": [
    "# Running on W from Figure 25.2, which contains no negative-weight cycles\n",
    "W=np.array([[0,10000,10000,10000,-1,10000],\n",
    "  [1,0,10000,2,10000,10000],\n",
    "  [10000,2,0,10000,10000,-8],\n",
    "  [-4,10000,10000,0,3,10000],\n",
    "  [10000,7,10000,10000,0,10000],\n",
    "  [10000,5,10,10000,10000,0]])\n",
    "floyd_warshall_n2_negative_cycle(W)"
   ]
  },
  {
   "cell_type": "code",
   "execution_count": 32,
   "metadata": {},
   "outputs": [
    {
     "data": {
      "text/plain": [
       "False"
      ]
     },
     "execution_count": 32,
     "metadata": {},
     "output_type": "execute_result"
    }
   ],
   "source": [
    "# Running on W_, which is a simple negative-weight cycle\n",
    "W_=np.array([[0,1,10000],\n",
    "           [10000,0,2],\n",
    "           [-4,10000,0]])\n",
    "floyd_warshall_n2_negative_cycle(W_)"
   ]
  },
  {
   "cell_type": "markdown",
   "metadata": {},
   "source": [
    "**25.2-7<br>Another way to reconstruct shortest paths in the Floyd-Warshall algorithm uses values $\\phi _{ij}^{(k)}$  for $i, j, k=1,2,...,n$, where $\\phi _{ij}^{(k)}$ is the highest-numbered intermediate vertex of a shortest path from $i$ to $j$ in which all intermediate vertices are in the set $\\{1,2,...,k\\}$. Give a recursive formulation for $\\phi _{ij}^{(k)}$, modify the FLOYD-WARSHALL procedure to compute the $\\phi _{ij}^{(k)}$ values, and rewrite the PRINT-ALL- PAIRS-SHORTEST-PATH procedure to take the matrix $\\Phi =\\phi _{ij}^{(n)}$ as an input. How is the matrix $\\Phi$ like the $s$ table in the matrix-chain multiplication problem of Section 15.2?**\n",
    "\n",
    "The `floyd_warshall_shortestpath` procedure computes $\\Phi =\\phi _{ij}^{(n)}$. The `print_apsp` procedure prints the shortest path between two given vertices. It is similar to the PRINT-OPTIMAL-PARENS procedure on page 377, that an intermediate $\\phi _{ij}$ value splits the solution into two. We can determine the solution recursively until we found no intermediate vertex, i.e. $\\phi _{ij}=-1$."
   ]
  },
  {
   "cell_type": "code",
   "execution_count": 102,
   "metadata": {},
   "outputs": [],
   "source": [
    "import numpy as np\n",
    "def floyd_warshall_shortestpath(W):\n",
    "    \n",
    "    n=len(W)\n",
    "    # define D0\n",
    "    D=W.copy()\n",
    "    \n",
    "    # initiation P0: intermediate vertices drawn from an empty set {}\n",
    "    # entries on principle axis is np.nan (i.e no path from i to i)\n",
    "    # entries when W[i,j]=inf is np.nan -> no intermediate vertices at initiation\n",
    "    # entries when W[i,j]!=inf means path from i to j without intermediates\n",
    "    # -> it fulfils the definition\n",
    "    # -> to distinguish them from vertex 0 (Python index starts from 0),\n",
    "    # -> P[i,j] is assigned as -1\n",
    "    P=[np.zeros((n,n))]\n",
    "    for i in range(n):\n",
    "        for j in range(n):\n",
    "            if i==j or W[i][j]==np.inf:\n",
    "                P[0][i][j]=np.nan\n",
    "            else:\n",
    "                P[0][i][j]=-1\n",
    "    \n",
    "    #print (P[0])\n",
    "    \n",
    "    for k in range(n):\n",
    "        # generate an empty n*n matrix for each k to work on\n",
    "        P.append(np.zeros((n,n)))\n",
    "        \n",
    "        for i in range(n):\n",
    "            for j in range(n):\n",
    "                \n",
    "                # k is NOT an intermediate, keep the old value\n",
    "                if D[i][j]<=D[i][k]+D[k][j]:\n",
    "                    P[k+1][i][j]=P[k][i][j]\n",
    "                else: # if k is an intermediate, then take the value of k\n",
    "                    P[k+1][i][j]=k\n",
    "                # modify the value of every cell dij in D(k)\n",
    "                D[i][j]=min(D[i][j],D[i][k]+D[k][j])\n",
    "                                    \n",
    "    # the final solution of P is the last matrice (n) \n",
    "    return P[n]\n",
    "\n",
    "def print_apsp(P,i,j):\n",
    "    # end of solution, no intermediate, i->j is a direct path\n",
    "    if P[int(i)][int(j)]==-1:\n",
    "        print (int(i))\n",
    "    elif P[int(i)][int(j)]==np.nan:\n",
    "        print ('no path from',i,'to','j')\n",
    "    else:\n",
    "        # P[i,j] splits the solution into two\n",
    "        print_apsp(P,i,P[int(i)][int(j)])\n",
    "        print_apsp(P,P[int(i)][int(j)],j)\n"
   ]
  },
  {
   "cell_type": "code",
   "execution_count": 103,
   "metadata": {},
   "outputs": [
    {
     "name": "stdout",
     "output_type": "stream",
     "text": [
      "2\n",
      "5\n",
      "1\n",
      "3\n"
     ]
    }
   ],
   "source": [
    "W_=np.array([[0,np.inf,np.inf,np.inf,-1,np.inf],\n",
    "  [1,0,np.inf,2,np.inf,np.inf],\n",
    "  [np.inf,2,0,np.inf,np.inf,-8],\n",
    "  [-4,np.inf,np.inf,0,3,np.inf],\n",
    "  [np.inf,7,np.inf,np.inf,0,np.inf],\n",
    "  [np.inf,5,10,np.inf,np.inf,0]])\n",
    "# calculate the Phi matrix of W_\n",
    "Phi=floyd_warshall_shortestpath(W_)\n",
    "# print APSP for any vertex pair in Phi\n",
    "print_apsp(Phi,2,0)"
   ]
  },
  {
   "cell_type": "markdown",
   "metadata": {},
   "source": [
    "**25.2-8<br>Give an $O(VE)$-time algorithm for computing the transitive closure of a directed graph $G=(V,E)$.**"
   ]
  },
  {
   "cell_type": "code",
   "execution_count": 5,
   "metadata": {},
   "outputs": [],
   "source": [
    "#import numpy as np\n",
    "def floyd_warshall_transitive_closure_VE(W):\n",
    "    n=len(W)\n",
    "    # T is a collection of T(i), i=0,1,2,...,k\n",
    "    T=[W]\n",
    "    opened={}\n",
    "    closed={}\n",
    "    # define T0, which is a identity matrix + edges in W as 1\n",
    "    for i in range(n):\n",
    "        for j in range(n):\n",
    "            if W[i][j]<10000:\n",
    "                T[0][i][j]=1\n",
    "                opened[str(i)+str(j)]=1\n",
    "            else:\n",
    "                T[0][i][j]=0\n",
    "                closed[str(i)+str(j)]=0\n",
    "    print (opened)\n",
    "    print (closed)\n",
    "    for k in range(n):\n",
    "        # generate an empty n*n matrix T(k) for each k\n",
    "        # append T(k) to T to work on\n",
    "        T.append(W)\n",
    "        for i in closed:\n",
    "            pass\n",
    "            \n",
    "       \n",
    "                # modify the value of every cell tij in T(k)\n",
    "                # according to optimal substructure\n",
    "            #T[k+1][i][j]=(T[k][i][k] and T[k][k][j]))\n",
    "        \n",
    "    # the final solution of dij is the last T(n) added to T\n",
    "    return T[n]"
   ]
  },
  {
   "cell_type": "code",
   "execution_count": 39,
   "metadata": {},
   "outputs": [
    {
     "name": "stdout",
     "output_type": "stream",
     "text": [
      "{'00': 1, '04': 1, '10': 1, '11': 1, '13': 1, '21': 1, '22': 1, '25': 1, '30': 1, '33': 1, '34': 1, '41': 1, '44': 1, '51': 1, '52': 1, '55': 1}\n",
      "{'01': 0, '02': 0, '03': 0, '05': 0, '12': 0, '14': 0, '15': 0, '20': 0, '23': 0, '24': 0, '31': 0, '32': 0, '35': 0, '40': 0, '42': 0, '43': 0, '45': 0, '50': 0, '53': 0, '54': 0}\n"
     ]
    },
    {
     "data": {
      "text/plain": [
       "array([[1, 0, 0, 0, 1, 0],\n",
       "       [1, 1, 0, 1, 0, 0],\n",
       "       [0, 1, 1, 0, 0, 1],\n",
       "       [1, 0, 0, 1, 1, 0],\n",
       "       [0, 1, 0, 0, 1, 0],\n",
       "       [0, 1, 1, 0, 0, 1]])"
      ]
     },
     "execution_count": 39,
     "metadata": {},
     "output_type": "execute_result"
    }
   ],
   "source": []
  },
  {
   "cell_type": "code",
   "execution_count": null,
   "metadata": {},
   "outputs": [],
   "source": []
  }
 ],
 "metadata": {
  "kernelspec": {
   "display_name": "Python 3",
   "language": "python",
   "name": "python3"
  },
  "language_info": {
   "codemirror_mode": {
    "name": "ipython",
    "version": 3
   },
   "file_extension": ".py",
   "mimetype": "text/x-python",
   "name": "python",
   "nbconvert_exporter": "python",
   "pygments_lexer": "ipython3",
   "version": "3.8.3"
  }
 },
 "nbformat": 4,
 "nbformat_minor": 4
}
