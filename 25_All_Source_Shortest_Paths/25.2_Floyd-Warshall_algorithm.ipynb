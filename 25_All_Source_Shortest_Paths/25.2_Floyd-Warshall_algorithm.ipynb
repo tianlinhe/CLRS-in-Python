{
 "cells": [
  {
   "cell_type": "markdown",
   "metadata": {},
   "source": [
    "# 25.2 The Floyd-Warshall algorithm\n",
    "The Floyd-Warshall algorithm is a **dynamic programming** approach to solve the all-pairs shortest-paths (APSP) problem in a directed graph $G=(V,E)$. The directed graph permits negative-weight edges, but we assume that no negative-weight cycles exist. For convinience, the vertices are numbered as $\\{1,2,...,n\\}$, where $n=|V|$. The algorithm:\n",
    "* run in $\\Theta (V^3)$ time\n",
    "* observes the substructure of solution $d_{ij}^{(k)}$ conditioned on the subset $\\{1,2,...,k\\}$ of vertices, from which intermediate vertices from $i$ to $j$ were drawn\n",
    "* use a bottom up approach to compute $d_{ij}^{(n)}$, which is the final solution (because intermediate vertices will be eventually drawn from $\\{1,2,...,n\\}$)\n",
    "* the intermediate and final solutions are stored in a $n\\times n$ matrices for all $i,j$ pairs\n",
    "\n",
    "### Implementation in Python\n",
    "The below `floyd_warshall` runs on a given $n \\times n$ matrix $W$ representing the edge weights of an $n$-vertex directed graph $G=(V,E)$. Here, $W$ is a double-nested list."
   ]
  },
  {
   "cell_type": "code",
   "execution_count": 7,
   "metadata": {},
   "outputs": [],
   "source": [
    "def floyd_warshall(W):\n",
    "    n=len(W)\n",
    "    # D is a collection of D(i), i=1,2,...,k\n",
    "    D=[W] # D(i) is a list of n*n matrices. First append D(0) to D\n",
    "    for k in range(n):\n",
    "        # generate an empty n*n matrix D(k) for each k\n",
    "        # append D(k) to D\n",
    "        D.append(W)\n",
    "        for i in range(n):\n",
    "            for j in range(n):\n",
    "                # modify the value of every cell dij in D(k)\n",
    "                # according to optimal substructure\n",
    "                D[k][i][j]=min(D[k-1][i][j],D[k-1][i][k]+D[k-1][k][j])\n",
    "    # the length of D is finally n\n",
    "    # the final solution of dij is the last D(n) added to D\n",
    "    return D[-1]"
   ]
  }
 ],
 "metadata": {
  "kernelspec": {
   "display_name": "Python 3",
   "language": "python",
   "name": "python3"
  },
  "language_info": {
   "codemirror_mode": {
    "name": "ipython",
    "version": 3
   },
   "file_extension": ".py",
   "mimetype": "text/x-python",
   "name": "python",
   "nbconvert_exporter": "python",
   "pygments_lexer": "ipython3",
   "version": "3.8.3"
  }
 },
 "nbformat": 4,
 "nbformat_minor": 4
}
