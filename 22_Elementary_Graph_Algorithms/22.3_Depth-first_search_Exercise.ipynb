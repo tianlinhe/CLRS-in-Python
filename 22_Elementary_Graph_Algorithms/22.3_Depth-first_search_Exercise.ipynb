{
 "cells": [
  {
   "cell_type": "markdown",
   "metadata": {},
   "source": [
    "**22.3.7<br>Rewrite the procedure DFS, using a stack to eliminate recursion.**"
   ]
  },
  {
   "cell_type": "code",
   "execution_count": 13,
   "metadata": {},
   "outputs": [],
   "source": [
    "\n",
    "def dfs_stack(G):\n",
    "    time=0\n",
    "    colour={i:'white' for i in G} # initial colour of all vertices are white\n",
    "    t_discover={}\n",
    "    t_finish={}\n",
    "    predecessor={}\n",
    "    S=[] #create an empty stack S\n",
    "    \n",
    "    \"\"\"if there exists any vertex i, whose colour is white, do dfs\"\"\"\n",
    "    for i in G: \n",
    "        if colour[i]=='white':\n",
    "            time+=1\n",
    "            t_discover[i]=time\n",
    "            colour[i]='grey'\n",
    "            S.append(i) # S.push(i)\n",
    "            while S: # while S is not empty\n",
    "                u=S[-1] # u=S.top() to examine the most recently added vertex u\n",
    "                uisBlack=True # a flag to check whether u is black\n",
    "                \n",
    "                for v in G[u]:\n",
    "                    if colour[v]=='white':\n",
    "                        time+=1\n",
    "                        t_discover[v]=time\n",
    "                        colour[v]='grey'\n",
    "                        predecessor[v]=u\n",
    "                        S.append(v) # S.push(i)\n",
    "                        uisBlack=False\n",
    "                        break\n",
    "                        \n",
    "                \"\"\"u will be coloured iff no `for v in G[u] is run` is run\n",
    "                i.e. all children from v are non-white\"\"\" \n",
    "                \n",
    "                if uisBlack:         \n",
    "                    time+=1\n",
    "                    t_finish[u]=time\n",
    "                    colour[u]='black'\n",
    "                    S.pop() # S.pop() to delete u, the black vertex from S\n",
    "        \n",
    "    return colour, t_discover, t_finish, predecessor"
   ]
  },
  {
   "cell_type": "markdown",
   "metadata": {},
   "source": [
    "Example 1: DFS of the directed graph from **Exercises 22.3-2**, page 610-611\n",
    "<img src=\"img/fig22.3.png\" width=\"700\">"
   ]
  },
  {
   "cell_type": "code",
   "execution_count": 14,
   "metadata": {},
   "outputs": [
    {
     "data": {
      "text/plain": [
       "({'q': 'black',\n",
       "  'r': 'black',\n",
       "  's': 'black',\n",
       "  't': 'black',\n",
       "  'w': 'black',\n",
       "  'u': 'black',\n",
       "  'v': 'black',\n",
       "  'x': 'black',\n",
       "  'y': 'black',\n",
       "  'z': 'black'},\n",
       " {'q': 1,\n",
       "  's': 2,\n",
       "  'v': 3,\n",
       "  'w': 4,\n",
       "  't': 8,\n",
       "  'x': 9,\n",
       "  'z': 10,\n",
       "  'y': 13,\n",
       "  'r': 17,\n",
       "  'u': 18},\n",
       " {'w': 5,\n",
       "  'v': 6,\n",
       "  's': 7,\n",
       "  'z': 11,\n",
       "  'x': 12,\n",
       "  'y': 14,\n",
       "  't': 15,\n",
       "  'q': 16,\n",
       "  'u': 19,\n",
       "  'r': 20},\n",
       " {'s': 'q',\n",
       "  'v': 's',\n",
       "  'w': 'v',\n",
       "  't': 'q',\n",
       "  'x': 't',\n",
       "  'z': 'x',\n",
       "  'y': 't',\n",
       "  'u': 'r'})"
      ]
     },
     "execution_count": 14,
     "metadata": {},
     "output_type": "execute_result"
    }
   ],
   "source": [
    "G3={'q':['s','t','w'],\n",
    "    'r':['u'],\n",
    "    's':['v'],\n",
    "    't':['x','y'],\n",
    "    'w':['s'],\n",
    "    'u':['y'],\n",
    "    'v':['w'],\n",
    "    'x':['z'],\n",
    "    'y':['q'],\n",
    "    'z':['x']}\n",
    "dfs_stack(G3)"
   ]
  },
  {
   "cell_type": "markdown",
   "metadata": {},
   "source": [
    "**22.3-8<br>Give a counterexample to the conjecture that if a directed graph $G$ contains a path from $u$ to $v$, and if $u.d<v.d$ in a DFS of $G$, then, $v$ is a descendent ot $u$ in the DF forest produced.**\n",
    "\n",
    "The vertices $c$, $d$ from graph $G4$ satisfy the conditions:\n",
    "1) There exists path $c\\to a\\to d$\n",
    "2) In DFS $c.d=3<6=d.d$\n",
    "\n",
    "But $c$ and $d$ do not come from the same DF tree."
   ]
  },
  {
   "cell_type": "code",
   "execution_count": 15,
   "metadata": {},
   "outputs": [
    {
     "data": {
      "text/plain": [
       "({'a': 'black', 'b': 'black', 'c': 'black', 'd': 'black'},\n",
       " {'a': 1, 'b': 2, 'c': 3, 'd': 6},\n",
       " {'c': 4, 'b': 5, 'd': 7, 'a': 8},\n",
       " {'b': 'a', 'c': 'b', 'd': 'a'})"
      ]
     },
     "execution_count": 15,
     "metadata": {},
     "output_type": "execute_result"
    }
   ],
   "source": [
    "G4={'a': ['b','d'],\n",
    "   'b':['c'],\n",
    "    'c':['a'],\n",
    "   'd':[]}\n",
    "\n",
    "dfs_stack(G4)"
   ]
  },
  {
   "cell_type": "markdown",
   "metadata": {},
   "source": [
    "**22.3-9<br>Give a counterexample to the conjecture that if a directed graph $G$ contains a path from $u$ and $v$, then any depth-first search must result in $v.d\\leq u.f$.**\n",
    "\n",
    "Same as **22.3-8**"
   ]
  },
  {
   "cell_type": "markdown",
   "metadata": {},
   "source": [
    "**22.3-10<br>Modify the pseudocode for depth-first search so that it prints out every edge in the directed graph $G$, together with its type. Show what modifications, if any, you need to make if $G$ is undirected.**\n",
    "\n",
    "The modified `dfs_visit_print_edge` prints the four kinds of edge in a directed graph. Considering that an undirected graph has only tree edges or back edges, it is even simpler, as we only have to distinguish between a `colour[v]=='white'` (tree edge), or `colour[v]=='grey'`(back edge) from line 18 to line 29."
   ]
  },
  {
   "cell_type": "code",
   "execution_count": 28,
   "metadata": {},
   "outputs": [],
   "source": [
    "def dfs(G):\n",
    "    global time # time is a global varaible, it is accumulative\n",
    "    time=0\n",
    "    colour={i:'white' for i in G} # initial colour of all vertices are white\n",
    "    t_discover={}\n",
    "    t_finish={}\n",
    "    predecessor={}\n",
    "    for u in G:\n",
    "        if colour[u]=='white':\n",
    "            dfs_visit_print_edge(G, u, colour, t_discover,t_finish,predecessor) #recursion\n",
    "    #return colour, t_discover, t_finish, predecessor\n",
    "\n",
    "def dfs_visit_print_edge(G, u, colour, t_discover,t_finish,predecessor):\n",
    "    global time\n",
    "    time+=1\n",
    "    t_discover[u]=time # a white vertex is discovered\n",
    "    colour[u]='grey' # and coloured to grey\n",
    "    for v in G[u]:\n",
    "        if colour[v]=='white':\n",
    "            predecessor[v]=u\n",
    "            print ('Tree edge', u, '->', v) \n",
    "            dfs_visit_print_edge(G, v, colour, t_discover,t_finish,predecessor)\n",
    "        elif colour[v]=='grey': # if u.color=grey AND\n",
    "            if t_discover[u]<t_discover[v]: # v is descendent of u, forward edge\n",
    "                print ('Forward edge',u, '->', v)\n",
    "            else: # v is ancestor of u, back edge\n",
    "                print ('Back edge',u, '->', v)\n",
    "        else: # if u.color=black, v belongs to another DFS tree, cross edge\n",
    "            print ('Cross edge', u, '->', v)\n",
    "    colour[u]='black'\n",
    "    time+=1\n",
    "    t_finish[u]=time "
   ]
  },
  {
   "cell_type": "code",
   "execution_count": 29,
   "metadata": {},
   "outputs": [
    {
     "name": "stdout",
     "output_type": "stream",
     "text": [
      "Tree edge q -> s\n",
      "Tree edge s -> v\n",
      "Tree edge v -> w\n",
      "Back edge w -> s\n",
      "Tree edge q -> t\n",
      "Tree edge t -> x\n",
      "Tree edge x -> z\n",
      "Back edge z -> x\n",
      "Tree edge t -> y\n",
      "Back edge y -> q\n",
      "Cross edge q -> w\n",
      "Tree edge r -> u\n",
      "Cross edge u -> y\n"
     ]
    }
   ],
   "source": [
    "# G3= DFS from exercise 22.3-2\n",
    "G3={'q':['s','t','w'],\n",
    "    'r':['u'],\n",
    "    's':['v'],\n",
    "    't':['x','y'],\n",
    "    'w':['s'],\n",
    "    'u':['y'],\n",
    "    'v':['w'],\n",
    "    'x':['z'],\n",
    "    'y':['q'],\n",
    "    'z':['x']}\n",
    "dfs(G3)"
   ]
  },
  {
   "cell_type": "markdown",
   "metadata": {},
   "source": [
    "**22.3-12<br>Show that we can use a depth-first search of an undirected graph $G$ to identify the connected components of $G$, and that the depth-first forest contains as many trees and $G$ has connected components. More precisely, show how to modify depth-first search so that it asigns to each vertex $v$ an integer label $v.cc$ between $1$ and $k$, and where $k$ is the number of connected components of $G$, such that $u.cc=v.cc$ if and only if $u$ and $v$ are in the same connected component.**\n",
    "\n",
    "A new dfs tree stars when the search encounter a white vertex in the outer `for` loop (line 11). Therefore:\n",
    "1. we initialise a counter `ntree` and a set `cc` to hold the attributes\n",
    "2. `ntree+=1` if `u.colour=white` in the outer `for` loop, and we assign `u.cc=ntree` (line 13)\n",
    "3. for the other vertices $v$ in the same tree, `ntree` remains unchange, and we assign `v.cc=ntree` (line 23)"
   ]
  },
  {
   "cell_type": "code",
   "execution_count": 33,
   "metadata": {},
   "outputs": [],
   "source": [
    "def dfs_ntree(G):\n",
    "    global time # time is a global varaible, it is accumulative\n",
    "    time=0\n",
    "    colour={i:'white' for i in G} # initial colour of all vertices are white\n",
    "    t_discover={}\n",
    "    t_finish={}\n",
    "    predecessor={}\n",
    "    global ntree #number of connected component\n",
    "    ntree=0\n",
    "    cc={} #attribute u.cc\n",
    "    for u in G:\n",
    "        if colour[u]=='white':\n",
    "            ntree+=1 # increment ntree for a start of a new dfs tree\n",
    "            cc[u]=ntree\n",
    "            dfs_visit_ntree(G, u, colour, t_discover,t_finish,predecessor,cc) #recursion\n",
    "    return cc#, colour, t_discover, t_finish, predecessor \n",
    "\n",
    "def dfs_visit_ntree(G, u, colour, t_discover,t_finish,predecessor,cc):\n",
    "    global time\n",
    "    time+=1\n",
    "    t_discover[u]=time # a white vertex is discovered\n",
    "    colour[u]='grey' # and coloured to grey\n",
    "    cc[u]=ntree # for every other tree inside the dfs, they have the same ntree\n",
    "    for v in G[u]:\n",
    "        if colour[v]=='white':\n",
    "            predecessor[v]=u\n",
    "            dfs_visit_ntree(G, v, colour, t_discover,t_finish,predecessor,cc)\n",
    "    colour[u]='black'\n",
    "    time+=1\n",
    "    t_finish[u]=time  "
   ]
  },
  {
   "cell_type": "code",
   "execution_count": 34,
   "metadata": {},
   "outputs": [
    {
     "data": {
      "text/plain": [
       "{'q': 1,\n",
       " 's': 1,\n",
       " 'v': 1,\n",
       " 'w': 1,\n",
       " 't': 1,\n",
       " 'x': 1,\n",
       " 'z': 1,\n",
       " 'y': 1,\n",
       " 'r': 2,\n",
       " 'u': 2}"
      ]
     },
     "execution_count": 34,
     "metadata": {},
     "output_type": "execute_result"
    }
   ],
   "source": [
    "# G3= DFS from exercise 22.3-2\n",
    "G3={'q':['s','t','w'],\n",
    "    'r':['u'],\n",
    "    's':['v'],\n",
    "    't':['x','y'],\n",
    "    'w':['s'],\n",
    "    'u':['y'],\n",
    "    'v':['w'],\n",
    "    'x':['z'],\n",
    "    'y':['q'],\n",
    "    'z':['x']}\n",
    "dfs_ntree(G3)"
   ]
  },
  {
   "cell_type": "code",
   "execution_count": null,
   "metadata": {},
   "outputs": [],
   "source": []
  }
 ],
 "metadata": {
  "kernelspec": {
   "display_name": "Python 3",
   "language": "python",
   "name": "python3"
  },
  "language_info": {
   "codemirror_mode": {
    "name": "ipython",
    "version": 3
   },
   "file_extension": ".py",
   "mimetype": "text/x-python",
   "name": "python",
   "nbconvert_exporter": "python",
   "pygments_lexer": "ipython3",
   "version": "3.8.3"
  }
 },
 "nbformat": 4,
 "nbformat_minor": 4
}
