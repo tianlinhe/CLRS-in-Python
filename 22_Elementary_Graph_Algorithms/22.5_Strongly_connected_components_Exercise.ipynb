{
 "cells": [
  {
   "cell_type": "markdown",
   "metadata": {},
   "source": [
    "**22.5-1<br>How can the number of strongly connected components of a graph change if a new edge is added?**\n",
    "\n",
    "The number is either unchanged or reduced by $1$. Suppose you add a new edge $(u,v)$: if the  $u$ was reachable from $v$ and $u$, $v$ belong to distinct SCC, they will be fused into one; if not the number of SCC will not changed."
   ]
  },
  {
   "cell_type": "markdown",
   "metadata": {},
   "source": [
    "**22.5-2<br>Show how the procedure STRONG-CONNECTED-COMPONENTS works on the graph of Figure 22.6. Specifically, show the finishing times computed in line 1 and the forest produced in line 3. Assume the loop of lines 5-7 of DFS consider vertices in alphabetical order and that the adjacency lists are in alphabetical order.**\n",
    "\n",
    "Running `scc()` yields 5 SCC of Figure 22.6."
   ]
  },
  {
   "cell_type": "code",
   "execution_count": 1,
   "metadata": {},
   "outputs": [],
   "source": [
    "def transpose_list(G):\n",
    "    # Gt is an empty list\n",
    "    Gt={i:[] for i in G.keys()}\n",
    "    # scan through G\n",
    "    for u in G:\n",
    "        for v in G[u]:\n",
    "            Gt[v].append(u)\n",
    "    return Gt\n",
    "def dfs_ntree(G):\n",
    "    global time # time is a global varaible, it is accumulative\n",
    "    time=0\n",
    "    colour={i:'white' for i in G} # initial colour of all vertices are white\n",
    "    t_discover={}\n",
    "    t_finish={}\n",
    "    predecessor={}\n",
    "    global ntree #number of connected component\n",
    "    ntree=0\n",
    "    cc={} #attribute u.cc\n",
    "    for u in G:\n",
    "        if colour[u]=='white':\n",
    "            ntree+=1 # increment ntree for a start of a new dfs tree\n",
    "            #cc[u]=ntree\n",
    "            dfs_visit_ntree(G, u, colour, t_discover,t_finish,predecessor,cc) #recursion\n",
    "    return cc#, t_finish#, colour, t_discover,predecessor \n",
    "\n",
    "def dfs_visit_ntree(G, u, colour, t_discover,t_finish,predecessor,cc):\n",
    "    global time\n",
    "    time+=1\n",
    "    t_discover[u]=time # a white vertex is discovered\n",
    "    colour[u]='grey' # and coloured to grey\n",
    "    cc[u]=ntree # for every other tree inside the dfs, they have the same ntree\n",
    "    for v in G[u]:\n",
    "        if colour[v]=='white':\n",
    "            predecessor[v]=u\n",
    "            dfs_visit_ntree(G, v, colour, t_discover,t_finish,predecessor,cc)\n",
    "    colour[u]='black'\n",
    "    time+=1\n",
    "    t_finish[u]=time  \n",
    "    \n",
    "from collections import deque\n",
    "def topological_sort(G):\n",
    "    global time # time is a global varaible, it is accumulative\n",
    "    time=0\n",
    "    colour={i:'white' for i in G} # initial colour of all vertices are white\n",
    "    t_discover={}\n",
    "    t_finish={}\n",
    "    predecessor={}\n",
    "    sorted_list=deque() # to store the sorted list\n",
    "    for u in G:\n",
    "        if colour[u]=='white':\n",
    "            dfs_visit_topo(G, u, colour, t_discover,t_finish,predecessor,sorted_list) #recursion\n",
    "    return sorted_list #,t_discover, t_finish\n",
    "\n",
    "def dfs_visit_topo(G, u, colour, t_discover,t_finish,predecessor,sorted_list):\n",
    "    global time\n",
    "    time+=1\n",
    "    t_discover[u]=time # a white vertex is discovered\n",
    "    colour[u]='grey' # and coloured to grey\n",
    "    for v in G[u]:\n",
    "        if colour[v]=='white':\n",
    "            predecessor[v]=u\n",
    "            dfs_visit_topo(G, v, colour, t_discover,t_finish,predecessor,sorted_list)\n",
    "    sorted_list.appendleft(u) # a vertex fully explored is appended on the left of the list\n",
    "    colour[u]='black'\n",
    "    time+=1\n",
    "    t_finish[u]=time \n",
    "def scc(G):\n",
    "    # compute tranpose of G\n",
    "    Gt=transpose_list(G)\n",
    "    \n",
    "    # topological sorted vertices of G\n",
    "    sorted_vertices=topological_sort(G)\n",
    "    #print (sorted_vertices)\n",
    "    \n",
    "    # rearrange Gt according to topologically sorted vertices in G\n",
    "    # this is done by merging GG, an empty dict \"sorted\" according to sorted_vertices\n",
    "    # and Gt\n",
    "    GG={i:[] for i in sorted_vertices}\n",
    "    Gt={**GG, **Gt}\n",
    "   \n",
    "    # display dfs trees of Gt in order of sorted_vertices\n",
    "    return dfs_ntree(Gt)"
   ]
  },
  {
   "cell_type": "code",
   "execution_count": 2,
   "metadata": {},
   "outputs": [
    {
     "data": {
      "text/plain": [
       "{'r': 1,\n",
       " 'u': 2,\n",
       " 'q': 3,\n",
       " 'y': 3,\n",
       " 't': 3,\n",
       " 'x': 4,\n",
       " 'z': 4,\n",
       " 's': 5,\n",
       " 'w': 5,\n",
       " 'v': 5}"
      ]
     },
     "execution_count": 2,
     "metadata": {},
     "output_type": "execute_result"
    }
   ],
   "source": [
    "G={'q':['s','t','w'],\n",
    "    'r':['u'],\n",
    "    's':['v'],\n",
    "    't':['x','y'],\n",
    "    'w':['s'],\n",
    "    'u':['y'],\n",
    "    'v':['w'],\n",
    "    'x':['z'],\n",
    "    'y':['q'],\n",
    "    'z':['x']}\n",
    "scc(G)"
   ]
  },
  {
   "cell_type": "markdown",
   "metadata": {},
   "source": [
    "**22.5-3<br>Professor Bacon claims that the algorithm for strongly connected components would be simpler if it used the original (instead of the tranpose) graph in the second DFS and scanned the vertices in order of *increasing* finishing times. Does the simple algorithm always produce correct results?**\n",
    "\n",
    "It is not always correct. This is because the finishing times obtained from the first DFS on $G$ also depends on the order of vertices in $adj[u]$. Consider a counter example of a directed graph $G1$ with edges $(b,c)$, $(c,a)$ and $(c,b)$ which has two SCC: {a} and {c,b}.\n",
    "\n",
    "Running `scc_bacon` on `G_order_correct` and `G_order_incorrect` yields different results, although they both represent $G1$.\n",
    "\n",
    "The problem is that the second DFS starts from vertices with earliest finish time. However, Lemma 22.14 is true for latest finishing time, but not true for **earliest finishing time**. It is easy to get confused!"
   ]
  },
  {
   "cell_type": "code",
   "execution_count": 3,
   "metadata": {},
   "outputs": [],
   "source": [
    "def scc_bacon(G):\n",
    "    \n",
    "    # topological sorted vertices of G, then reverse\n",
    "    sorted_vertices=topological_sort(G)\n",
    "    sorted_vertices.reverse()\n",
    "    \n",
    "    # rearrange G according to topologically reverse-sorted vertices in G\n",
    "    # this is done by merging GG, an empty dict \"sorted\" according to sorted_vertices wigh G\n",
    "    GG={i:[] for i in sorted_vertices}\n",
    "    G={**GG, **G}\n",
    "   \n",
    "    # display dfs trees of G in order of sorted_vertices\n",
    "    return dfs_ntree(G)"
   ]
  },
  {
   "cell_type": "code",
   "execution_count": 4,
   "metadata": {},
   "outputs": [
    {
     "name": "stdout",
     "output_type": "stream",
     "text": [
      "{'a': 1, 'b': 2, 'c': 2}\n",
      "{'b': 1, 'c': 1, 'a': 1}\n",
      "{'c': 1, 'b': 1, 'a': 2}\n",
      "{'c': 1, 'b': 1, 'a': 2}\n"
     ]
    }
   ],
   "source": [
    "G_order_correct={'c':['a','b'],'b':['c'],'a':[],}\n",
    "G_order_incorrect={'c':['b','a'],'b':['c'],'a':[],}\n",
    "print(scc_bacon(G_order_correct))\n",
    "print (scc_bacon(G_order_incorrect)) #gives only one SCC\n",
    "print(scc(G_order_correct))\n",
    "print (scc(G_order_incorrect))"
   ]
  },
  {
   "cell_type": "markdown",
   "metadata": {},
   "source": [
    "**22.5-5<br>Give an $O(V+E)$-time algorithm to compute the component graph of a directed graph $G=(V,E)$. Make sure that there is at amost one edge between two vertices in the component graph your algorithm produces.**\n",
    "\n",
    "Given that $((G^T)^{SCC})^T=G^{SCC}$, the `scc_graph` first computes $(G^T)^{SCC}$ then tranponses it to obtain $G^{SCC}$. To compute $(G^T)^{SCC}$, `dfs_ntree_graph` is slightly modified from `dfs_ntree` we defined in 22.5-2. The major change is the addition of line 33-35 in the recursive `dfs_visit_ntree_graph`:\n",
    "* It scans the black vertices in a \"descendant\" SCC and add it as edge in SCC graph\n",
    "* It does not scan the black vertices lying in the same SCC, to avoid having multiple edges between two vertices in the SCC graph\n",
    "\n",
    "Running `scc_graph(G)` returns:\n",
    "1. an adjacency list of SCC of $G$ (in numerical naming 1, 2, ...)\n",
    "2. a reference dictionary to see to which SCC the vertices $V$ in $G$ belong."
   ]
  },
  {
   "cell_type": "code",
   "execution_count": 5,
   "metadata": {},
   "outputs": [],
   "source": [
    "def dfs_ntree_graph(G):\n",
    "    global time # time is a global varaible, it is accumulative\n",
    "    time=0\n",
    "    colour={i:'white' for i in G} # initial colour of all vertices are white\n",
    "    t_discover={}\n",
    "    t_finish={}\n",
    "    predecessor={}\n",
    "    global ntree #number of connected component\n",
    "    ntree=0\n",
    "    cc={} #attribute u.cc\n",
    "    graph={} # SCC graph, as adjacency list\n",
    "    for u in G:\n",
    "        if colour[u]=='white':\n",
    "            ntree+=1 # increment ntree for a start of a new dfs tree\n",
    "            graph[ntree]=[] # no. vertices in SCC graph equals to no. DFS trees in second DFS\n",
    "            dfs_visit_ntree_graph(G, u, colour, t_discover,t_finish,predecessor,cc,graph) #recursion\n",
    "    return graph,cc#, t_finish#, colour, t_discover,predecessor \n",
    "\n",
    "def dfs_visit_ntree_graph(G, u, colour, t_discover,t_finish,predecessor,cc,graph):\n",
    "    global time\n",
    "    time+=1\n",
    "    t_discover[u]=time # a white vertex is discovered\n",
    "    colour[u]='grey' # and coloured to grey\n",
    "    cc[u]=ntree # for every other tree inside the dfs, they have the same ntree\n",
    "    flagnext=10000 # set a very large number so that cc[v]<flagnext is true at start point\n",
    "    for v in G[u]:\n",
    "        if colour[v]=='white':\n",
    "            predecessor[v]=u\n",
    "            dfs_visit_ntree_graph(G, v, colour, t_discover,t_finish,predecessor,cc,graph)\n",
    "        # 'black' means vertices in another SCC\n",
    "        # cc[v]<flagnext so that the black vertices are not in the same SCC\n",
    "        # ->at most one edge connecting two SCC\n",
    "        elif colour[v]=='black' and cc[v]<flagnext: \n",
    "            graph[ntree].append(cc[v]) \n",
    "        flagnext=cc[v]\n",
    "    colour[u]='black'\n",
    "    time+=1\n",
    "    t_finish[u]=time \n",
    "def scc_graph(G):\n",
    "    # compute tranpose of G\n",
    "    Gt=transpose_list(G)\n",
    "    \n",
    "    # topological sorted vertices of G\n",
    "    sorted_vertices=topological_sort(G)\n",
    "    #print (sorted_vertices)\n",
    "    \n",
    "    # rearrange Gt according to topologically sorted vertices in G\n",
    "    # this is done by merging GG, an empty dict \"sorted\" according to sorted_vertices\n",
    "    # and Gt\n",
    "    GG={i:[] for i in sorted_vertices}\n",
    "    Gt={**GG, **Gt}\n",
    "   \n",
    "    # dfs_ntree(Gt)[0] is the SCC graph of Gt, it is an adjacency list\n",
    "    # we need to traponse it once of obtain SCC of G, because of 22.5-3\n",
    "    # dfs_ntree(Gt)[1] shows which vertice belong to which SCC\n",
    "    return transpose_list(dfs_ntree_graph(Gt)[0]), dfs_ntree_graph(Gt)[1]"
   ]
  },
  {
   "cell_type": "code",
   "execution_count": 6,
   "metadata": {},
   "outputs": [
    {
     "data": {
      "text/plain": [
       "({1: [2, 3], 2: [3, 4], 3: [], 4: []},\n",
       " {'a': 1, 'e': 1, 'b': 1, 'c': 2, 'd': 2, 'g': 3, 'f': 3, 'h': 4})"
      ]
     },
     "execution_count": 6,
     "metadata": {},
     "output_type": "execute_result"
    }
   ],
   "source": [
    "G1={'a':['b'],\n",
    "    'b':['c','e','f'],\n",
    "    'c':['d','g'],\n",
    "    'd':['c','h'],\n",
    "    'e':['a','f'],\n",
    "    'f':['g'],\n",
    "    'g':['f','h'],\n",
    "    'h':['h']}  \n",
    "scc_graph(G1)"
   ]
  },
  {
   "cell_type": "code",
   "execution_count": null,
   "metadata": {},
   "outputs": [],
   "source": []
  }
 ],
 "metadata": {
  "kernelspec": {
   "display_name": "Python 3",
   "language": "python",
   "name": "python3"
  },
  "language_info": {
   "codemirror_mode": {
    "name": "ipython",
    "version": 3
   },
   "file_extension": ".py",
   "mimetype": "text/x-python",
   "name": "python",
   "nbconvert_exporter": "python",
   "pygments_lexer": "ipython3",
   "version": "3.8.3"
  }
 },
 "nbformat": 4,
 "nbformat_minor": 4
}
