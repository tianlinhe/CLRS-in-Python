{
 "cells": [
  {
   "cell_type": "markdown",
   "metadata": {},
   "source": [
    "# 22.5 Strongly connected components\n",
    "\n",
    "In a strongly connected componentn (SCC) of a directed graph $G=(V,E)$, **every** pair of vertices $(u,v)$ are **reachable** from each other. That is, if $C$ and $C'$ are **distinct** SCC, such pair $(u,v)$ does not exist. \n",
    "\n",
    "`scc` is a linear-time (i.e. $\\Theta (V+E)$-time) algorithm computes the strongly connected components of a directed graph $G=(V,E)$ using two depth-first search (DFS) on $G$ and its tranpose $G^T$:\n",
    "\n",
    "1. By DFS on $G$, topologically sort the vertices of $G$\n",
    "2. Compute $G^T$\n",
    "3. DFS on $G^T$ with iteration of vertices in the order of 1)\n",
    "\n",
    "The DFS trees obtained from 3) are the distinct strongly connected components.\n",
    "\n",
    "`scc` depends on three helper functions we defined previously:\n",
    "* `transponse_list` from [22.1-3](22.1_Representations_of_graphs_Exercise.ipynb) to transponse an adjacency list\n",
    "* `dfs_ntree` from [22.3-12](22.3_Depth-first_search_Exercise.ipynb) to compute dfs tree from a depth-first search\n",
    "* `topological_sort` from [22.3-4](22.4_Topological_sort_Exercise.ipynb) to topologically sort a given adjacency list"
   ]
  },
  {
   "cell_type": "code",
   "execution_count": 1,
   "metadata": {},
   "outputs": [],
   "source": [
    "def transpose_list(G):\n",
    "    # Gt is an empty list\n",
    "    Gt={i:[] for i in G.keys()}\n",
    "    # scan through G\n",
    "    for u in G:\n",
    "        for v in G[u]:\n",
    "            Gt[v].append(u)\n",
    "    return Gt\n",
    "def dfs_ntree(G):\n",
    "    global time # time is a global varaible, it is accumulative\n",
    "    time=0\n",
    "    colour={i:'white' for i in G} # initial colour of all vertices are white\n",
    "    t_discover={}\n",
    "    t_finish={}\n",
    "    predecessor={}\n",
    "    global ntree #number of connected component\n",
    "    ntree=0\n",
    "    cc={} #attribute u.cc\n",
    "    for u in G:\n",
    "        if colour[u]=='white':\n",
    "            ntree+=1 # increment ntree for a start of a new dfs tree\n",
    "            dfs_visit_ntree(G, u, colour, t_discover,t_finish,predecessor,cc) #recursion\n",
    "    return cc#, colour, t_discover, t_finish, predecessor \n",
    "\n",
    "def dfs_visit_ntree(G, u, colour, t_discover,t_finish,predecessor,cc):\n",
    "    global time\n",
    "    time+=1\n",
    "    t_discover[u]=time # a white vertex is discovered\n",
    "    colour[u]='grey' # and coloured to grey\n",
    "    cc[u]=ntree # for every other tree inside the dfs, they have the same ntree\n",
    "    for v in G[u]:\n",
    "        if colour[v]=='white':\n",
    "            predecessor[v]=u\n",
    "            dfs_visit_ntree(G, v, colour, t_discover,t_finish,predecessor,cc)\n",
    "    colour[u]='black'\n",
    "    time+=1\n",
    "    t_finish[u]=time  \n",
    "    \n",
    "from collections import deque\n",
    "def topological_sort(G):\n",
    "    global time # time is a global varaible, it is accumulative\n",
    "    time=0\n",
    "    colour={i:'white' for i in G} # initial colour of all vertices are white\n",
    "    t_discover={}\n",
    "    t_finish={}\n",
    "    predecessor={}\n",
    "    sorted_list=deque() # to store the sorted list\n",
    "    for u in G:\n",
    "        if colour[u]=='white':\n",
    "            dfs_visit_topo(G, u, colour, t_discover,t_finish,predecessor,sorted_list) #recursion\n",
    "    return sorted_list #,t_discover, t_finish\n",
    "\n",
    "def dfs_visit_topo(G, u, colour, t_discover,t_finish,predecessor,sorted_list):\n",
    "    global time\n",
    "    time+=1\n",
    "    t_discover[u]=time # a white vertex is discovered\n",
    "    colour[u]='grey' # and coloured to grey\n",
    "    for v in G[u]:\n",
    "        if colour[v]=='white':\n",
    "            predecessor[v]=u\n",
    "            dfs_visit_topo(G, v, colour, t_discover,t_finish,predecessor,sorted_list)\n",
    "    sorted_list.appendleft(u) # a vertex fully explored is appended on the left of the list\n",
    "    colour[u]='black'\n",
    "    time+=1\n",
    "    t_finish[u]=time "
   ]
  },
  {
   "cell_type": "code",
   "execution_count": 2,
   "metadata": {},
   "outputs": [],
   "source": [
    "def scc(G):\n",
    "    # compute tranpose of G\n",
    "    Gt=transpose_list(G)\n",
    "    \n",
    "    # topological sorted vertices of G\n",
    "    sorted_vertices=topological_sort(G)\n",
    "    \n",
    "    # rearrange Gt according to topologically sorted vertices in G\n",
    "    # this is done by merging GG, an empty dict \"sorted\" according to sorted_vertices\n",
    "    # and Gt\n",
    "    GG={i:[] for i in sorted_vertices}\n",
    "    Gt={**GG, **Gt}\n",
    "   \n",
    "    # display dfs trees of Gt in order of sorted_vertices\n",
    "    return dfs_ntree(Gt)"
   ]
  },
  {
   "cell_type": "markdown",
   "metadata": {},
   "source": [
    "Using **Figure 22.9** as an example, running `scc` gives 4 distinct SCC.\n",
    "<img src=\"img/fig22.9a.png\" width=\"700\">"
   ]
  },
  {
   "cell_type": "code",
   "execution_count": 3,
   "metadata": {},
   "outputs": [
    {
     "data": {
      "text/plain": [
       "{'a': 1, 'e': 1, 'b': 1, 'c': 2, 'd': 2, 'g': 3, 'f': 3, 'h': 4}"
      ]
     },
     "execution_count": 3,
     "metadata": {},
     "output_type": "execute_result"
    }
   ],
   "source": [
    "G1={'a':['b'],\n",
    "    'b':['c','e','f'],\n",
    "    'c':['d','g'],\n",
    "    'd':['c','h'],\n",
    "    'e':['a','f'],\n",
    "    'f':['g'],\n",
    "    'g':['f','h'],\n",
    "    'h':['h']}   \n",
    "scc(G1)"
   ]
  },
  {
   "cell_type": "code",
   "execution_count": null,
   "metadata": {},
   "outputs": [],
   "source": []
  }
 ],
 "metadata": {
  "kernelspec": {
   "display_name": "Python 3",
   "language": "python",
   "name": "python3"
  },
  "language_info": {
   "codemirror_mode": {
    "name": "ipython",
    "version": 3
   },
   "file_extension": ".py",
   "mimetype": "text/x-python",
   "name": "python",
   "nbconvert_exporter": "python",
   "pygments_lexer": "ipython3",
   "version": "3.8.3"
  }
 },
 "nbformat": 4,
 "nbformat_minor": 4
}
