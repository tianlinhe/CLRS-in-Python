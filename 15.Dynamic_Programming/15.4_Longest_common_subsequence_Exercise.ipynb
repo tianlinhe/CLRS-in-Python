{
 "cells": [
  {
   "cell_type": "markdown",
   "metadata": {},
   "source": [
    "**15.4-2<br>Give pseudocode to reconstruct an LCS from the completed $c$ table and the original sequences $X=\\langle x_1,x_2,...,x_m\\rangle$ and $Y=\\langle y_1,y_2,...y_n\\rangle$ in $O(m+n)$ without using the $b$ table.**\n",
    "\n",
    "Each  $c[i,j]$􏰀 entry depends on only three other $c$ table entries: $c[i-1,j-1]$􏰀, $c[i-1,j]$􏰀, and $c[i,j-1]$. Given the value of $c[i,j]$􏰀, we can determine in $O(1)$ time which of these three values was used to compute $c[i,j]$􏰀, without inspecting table $b$. Thus, we can reconstruct an LCS in $O(m+n)$ time using a procedure `print_lcs_without_b` similar to `print_lcs`."
   ]
  },
  {
   "cell_type": "code",
   "execution_count": 8,
   "metadata": {},
   "outputs": [],
   "source": [
    "def print_lcs_without_b(c,X,i,j):\n",
    "    if i==0 or j==0:\n",
    "        return\n",
    "    if c[i,j]==c[i-1,j-1]+1:\n",
    "        print_lcs_without_b(c,X,i-1,j-1) #move to c[i-1,j-1]\n",
    "        print (X[i],end='') #Note: print after recursive call!!!\n",
    "    elif c[i,j]==c[i-1,j]:\n",
    "        print_lcs_without_b(c,X,i-1,j) \n",
    "    else:\n",
    "        print_lcs_without_b(c,X,i,j-1)"
   ]
  },
  {
   "cell_type": "markdown",
   "metadata": {},
   "source": [
    "**15.4-3<br>Give a memoized version of `lcs_length` that runs in $O(m,n)$ time.**"
   ]
  },
  {
   "cell_type": "code",
   "execution_count": 47,
   "metadata": {},
   "outputs": [],
   "source": [
    "def memoized_lcs_length(X,Y):\n",
    "    m=len(X)\n",
    "    n=len(Y)\n",
    "    X=np.concatenate(([''],X)) #so that X starts from X[1] instead of X[0]\n",
    "    Y=np.concatenate(([''],Y)) #so that Y starts from Y[1] instead of Y[0]\n",
    "    c=np.full((m+1,n+1),-1) #set table c with negative initial value\n",
    "    return lookup_length(X,Y,m,n,c)\n",
    "def lookup_length(X,Y,m,n,c):\n",
    "    if c[m,n]>=0: # if entry of c is non-negative, means it was stored previously\n",
    "        return c[m,n]\n",
    "    if m==0 or n==0: #base case of recursion, recursion ends here\n",
    "        c[m,n]=0\n",
    "    else:\n",
    "        if X[m]==Y[n]: #* Case 1: If $x_m=y_n$, we must find an LCS of $X_{m-1},Y_{n-1}$\n",
    "            c[m,n]=lookup_length(X,Y,m-1,n-1,c)+1    \n",
    "        elif c[m-1,n]>c[m,n-1]: # Case 2: If $x_m!= y_n$,and length of c[i-1,j]>=c[i,j-1]\n",
    "            c[m,n]=lookup_length(X,Y,m-1,n,c)# we take LCS of c[i-1,j] as LCS of $Xi,Yj$         \n",
    "        else: # Case 2: If $x_m!= y_n$,and length of c[i-1,j]<c[i,j-1]\n",
    "            c[m,n]=lookup_length(X,Y,m,n-1,c) # we take LCS of c[i,j-1] as LCS of $Xi,Yj$\n",
    "    return c[m,n]"
   ]
  },
  {
   "cell_type": "code",
   "execution_count": 48,
   "metadata": {},
   "outputs": [
    {
     "data": {
      "text/plain": [
       "4"
      ]
     },
     "execution_count": 48,
     "metadata": {},
     "output_type": "execute_result"
    }
   ],
   "source": [
    "import numpy as np\n",
    "Xseq=np.array(['A','B','C','B','D','A','B'])\n",
    "Yseq=np.array(['B','D','C','A','B','A'])\n",
    "memoized_lcs_length(Xseq,Yseq)"
   ]
  },
  {
   "cell_type": "markdown",
   "metadata": {},
   "source": [
    "**15.4-4<br>Show how to compute the length of an LCS using only $2\\bullet \\min(m,n)$ entries in the $c$ table plus $O(1)$ additional space. Then show how to do the same thing, but using $\\min (m,n)$ entries plus $O(1)$ additional space.**\n",
    "\n",
    "We can, however, reduce the asymptotic space requirements for `lcs_length`, since it needs only two rows of table $c$ at a time: the row being computed and the previous row. \n",
    "\n",
    "*Remarks*: This improvement works if we need only the length of an LCS; if we need to reconstruct the elements of an LCS, the smaller table does not keep enough information to retrace our steps in $O(m+n)$ time."
   ]
  },
  {
   "cell_type": "code",
   "execution_count": 29,
   "metadata": {},
   "outputs": [
    {
     "data": {
      "text/plain": [
       "4.0"
      ]
     },
     "execution_count": 29,
     "metadata": {},
     "output_type": "execute_result"
    }
   ],
   "source": [
    "def lcs_length_2min(X,Y):\n",
    "    m=len(X)\n",
    "    n=len(Y)\n",
    "    X=np.concatenate(([''],X)) #so that X starts from X[1] instead of X[0]\n",
    "    Y=np.concatenate(([''],Y)) #so that Y starts from Y[1] instead of Y[0]\n",
    "    c=np.zeros((2,min(m,n)+1))\n",
    "    \n",
    "    for i in range(1,m+1): \n",
    "        for j in range(1,n+1):\n",
    "            if X[i]==Y[j]: #* Case 1: If $x_m=y_n$, we must find an LCS of $X_{m-1},Y_{n-1}$\n",
    "                c[1,min(i,j)]=c[0,min(i,j)-1]+1\n",
    "            elif c[0,min(i,j)]>=c[1,min(i,j)-1]: # Case 2: If $x_m!= y_n$,and length of c[i-1,j]>=c[i,j-1]\n",
    "                c[1,min(i,j)]=c[0,min(i,j)]      # we take LCS of c[i-1,j] as LCS of $Xi,Yj$         \n",
    "            else: # Case 2: If $x_m!= y_n$,and length of c[i-1,j]<c[i,j-1]\n",
    "                c[1,min(i,j)]=c[1,min(i,j)-1] # we take LCS of c[i,j-1] as LCS of $Xi,Yj$\n",
    "        c[0]=c[1]\n",
    "    return c[1,-1]\n",
    "Xseq=np.array(['A','B','C','B','D','A','B'])\n",
    "Yseq=np.array(['B','D','C','A','B','A'])\n",
    "lcs_length_2min(Xseq,Yseq)"
   ]
  },
  {
   "cell_type": "markdown",
   "metadata": {},
   "source": [
    "**15.4-5<br>Give an $O(n^2)$-time algorithm to find the longest monotonically increasing subsequence of a sequence of $n$ numbers.**\n",
    "\n",
    "1. We can sort the list `L` to `L´`\n",
    "2. The longest monotonically increasing subsequence is the LCS between `L` and `L´`"
   ]
  },
  {
   "cell_type": "markdown",
   "metadata": {},
   "source": [
    "**15.4-6 $\\star$<br>Give an $O(n\\lg n)$-time algorithm to find the longest monotonically increasing subsequence of a sequence of $n$ numbers. (*Hint*: Observe that the last element of a candidate subsequence of length $i$ is at least as large as the last element of a candidate subsequence of length $i-1$. Maintain candidate subsequences by linking them through the input sequence.)**"
   ]
  }
 ],
 "metadata": {
  "kernelspec": {
   "display_name": "Python 3",
   "language": "python",
   "name": "python3"
  },
  "language_info": {
   "codemirror_mode": {
    "name": "ipython",
    "version": 3
   },
   "file_extension": ".py",
   "mimetype": "text/x-python",
   "name": "python",
   "nbconvert_exporter": "python",
   "pygments_lexer": "ipython3",
   "version": "3.7.4"
  }
 },
 "nbformat": 4,
 "nbformat_minor": 2
}
