{
 "cells": [
  {
   "cell_type": "markdown",
   "metadata": {},
   "source": [
    "**15.2-1<br>Find an optimal parenthesization of a matrix-chain product whose sequence of dimension is $\\langle 5,10,3,12,5,50,6\\rangle$.**\n",
    "\n",
    "We can use the `matrix_chain_order` and `print_optimal_parens` we defined in *15.2_Matrix_chain_multiplication.ipynb*, and substitute `p=np.array([5,10,3,12,5,50,6])`. "
   ]
  },
  {
   "cell_type": "code",
   "execution_count": 19,
   "metadata": {},
   "outputs": [
    {
     "data": {
      "text/plain": [
       "array([[0, 0, 0, 0, 0, 0, 0],\n",
       "       [0, 0, 1, 2, 2, 4, 2],\n",
       "       [0, 0, 0, 2, 2, 2, 2],\n",
       "       [0, 0, 0, 0, 3, 4, 4],\n",
       "       [0, 0, 0, 0, 0, 4, 4],\n",
       "       [0, 0, 0, 0, 0, 0, 5]])"
      ]
     },
     "execution_count": 19,
     "metadata": {},
     "output_type": "execute_result"
    }
   ],
   "source": [
    "import numpy as np\n",
    "p=np.array([5,10,3,12,5,50,6])\n",
    "\n",
    "def matrix_chain_order(p):\n",
    "    # n=p.length-1\n",
    "    n=len(p)-1\n",
    "    #let m[1...n,1...n] to store the m[i,j] cost\n",
    "    m=np.zeros((n+1,n+1))\n",
    "    #let s[1...n-1,2...n] that records which index of k achieved the optimal cost in computing m[i,j]\n",
    "    s=np.zeros((n,n+1),dtype=int)\n",
    "    for l in range(2,n+1): #l is the chain length, l=j-i+1\n",
    "        for i in range(1,n-l+2): #possible range of i, min=1, max=n-1\n",
    "            j=i+l-1              #because l=j-i+1, min=2,max=n\n",
    "            m[i,j]=np.inf        #set infinity as sentinel for m[i,j]\n",
    "            for k in range(i,j):\n",
    "                q=m[i,k]+m[k+1,j]+p[i-1]*p[k]*p[j]\n",
    "                if q<m[i,j]:\n",
    "                    m[i,j]=q\n",
    "                    s[i,j]=k\n",
    "    return m,s\n",
    "\n",
    "def print_optimal_parens(s,i,j):\n",
    "    if i==j:\n",
    "        print ('A'+str(i),end='')\n",
    "    else:\n",
    "        print ('(', end='')\n",
    "        print_optimal_parens(s,i,s[i,j]) #k=s[i,j], split product Ai...Ak\n",
    "        print_optimal_parens(s,s[i,j]+1,j) #k+1=s[i,j]+1, split product A(k+1)...Aj \n",
    "        print (')',end='')\n",
    "matrix_chain_order(p)[1]\n",
    "#print_optimal_parens(matrix_chain_order(p)[1],1,6)    "
   ]
  },
  {
   "cell_type": "markdown",
   "metadata": {},
   "source": [
    "**15.2<br>Give a recursive algorithm MATRIX-CHAIN-MULTIPLY(A,s,i,j) that actually performs the optimal matrix-chain multiplication, given the sequence of matrices $\\langle A_1,A_2,...,A_n\\rangle$, the $s$ table computed by MATRIX-CHAIN-ORDER, and the indices i and j. (The initial call would be MATRIX-CHAIN-MULTIPLY(A,s,1,n).)**\n",
    "\n",
    "1. Construct function `matrix_multiply` based on the pseudocodes on *p371*\n",
    "2. `matrix_chain_multiply` takes the input:\n",
    "    * `A` is a 3-D numpy array of chain $A_1A_2...A_n$, whose length is $n$\n",
    "    * `s` comes from `matrix_chain_order(p)[1]` from *15.1*\n",
    "    * the initial values of $(i,j)$ are $(1,n)$\n",
    "3. Recursive call in `matrix_chain_multiply`:\n",
    "    * recursion (Line 6-7): the original input chain $A_1A_2...A_n$ keeps spliting at the position `k=s[i,j]`\n",
    "    * base case no. 1(Line 2-3): when the the chain is split to a point that its length is 1 (i.e. it contains a single matrix), it returns `A[0]`, the matrix itself  \n",
    "    * base case no. 2(Line 4-5): when the the chain is split to a point that its length is 2 (i.e. $j=i+1$), we can apply `matrix_multiply(A[0],A[1]`\n",
    "    * return (Line 8): the final result is the recursive multiplication of left-split ($A_1A_2...A_k$) and right-split ($A_{k+1}A_{k+2}...A_n$)\n",
    "    \n",
    "$*$Notice that in Python the slicing of an array `arr[a:b]` includes index `a` but excludes `b`, in Line 4-5 we finetune the indexing of A inside the recursive call, so each is $-1$ of the original index."
   ]
  },
  {
   "cell_type": "code",
   "execution_count": 23,
   "metadata": {},
   "outputs": [
    {
     "data": {
      "text/plain": [
       "array([[ 11676.,  13188.,  14700.,  16212.,  17724.,  19236.,  20748.],\n",
       "       [ 41356.,  46708.,  52060.,  57412.,  62764.,  68116.,  73468.],\n",
       "       [ 71036.,  80228.,  89420.,  98612., 107804., 116996., 126188.]])"
      ]
     },
     "execution_count": 23,
     "metadata": {},
     "output_type": "execute_result"
    }
   ],
   "source": [
    "def matrix_chain_multiply(A,s,i,j):\n",
    "    if len(A)==1:\n",
    "        return A[0]\n",
    "    if len(A)==2: \n",
    "        return matrix_multiply(A[0],A[1])\n",
    "    X=matrix_chain_multiply(A[i-1:s[i,j]],s,i,j) \n",
    "    Y=matrix_chain_multiply(A[s[i,j]:],s,i,j)\n",
    "    return matrix_multiply(X,Y)\n",
    "\n",
    "def matrix_multiply(A,B):\n",
    "    A_row=A.shape[0]\n",
    "    A_col=A.shape[1]\n",
    "    B_row=B.shape[0]\n",
    "    B_col=B.shape[1]\n",
    "    if A_col !=B_row:\n",
    "        raise Exception('A and B are incompatible!')\n",
    "    C=np.zeros((A_row,B_col))\n",
    "    for i in range(A_row):\n",
    "        for j in range(B_col):\n",
    "            for k in range(A_col):\n",
    "                C[i,j]=C[i,j]+A[i,k]*B[k,j]\n",
    "    return C\n",
    "\n",
    "p2=np.array([3,2,2,4,3,7,7])\n",
    "# A1-A6 according to p2\n",
    "arr1=np.arange(6).reshape(3,2)\n",
    "arr2=np.arange(4).reshape(2,2)\n",
    "arr3=np.arange(8).reshape(2,4)\n",
    "arr4=np.arange(12).reshape(4,3)\n",
    "arr5=np.arange(21).reshape(3,7)\n",
    "arr6=np.eye(7)\n",
    "arr=np.array([arr1,arr2,arr3,arr4,arr5,arr6])\n",
    "\n",
    "s2=matrix_chain_order(p2)[1]\n",
    "matrix_chain_multiply(arr,s2,1,6)"
   ]
  },
  {
   "cell_type": "code",
   "execution_count": null,
   "metadata": {},
   "outputs": [],
   "source": []
  }
 ],
 "metadata": {
  "kernelspec": {
   "display_name": "Python 3",
   "language": "python",
   "name": "python3"
  },
  "language_info": {
   "codemirror_mode": {
    "name": "ipython",
    "version": 3
   },
   "file_extension": ".py",
   "mimetype": "text/x-python",
   "name": "python",
   "nbconvert_exporter": "python",
   "pygments_lexer": "ipython3",
   "version": "3.7.4"
  }
 },
 "nbformat": 4,
 "nbformat_minor": 2
}
