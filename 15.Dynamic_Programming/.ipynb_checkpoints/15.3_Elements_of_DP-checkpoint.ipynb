{
 "cells": [
  {
   "cell_type": "markdown",
   "metadata": {},
   "source": [
    "# 15.3 Elements of dynamic programming\n",
    "There are two elements of DP: ***optimal substructure*** and ***overlapping subproblems***.\n",
    "\n",
    "## 1. Optimal substructure\n",
    "**Optimal substructure** demands the **independency of the subproblems**; you should be careful not to assume that optimal substructure applies when it does not. A counter example is the **Unweighted longest simple path**.\n",
    "\n",
    "## 2. Overlapping subproblems\n",
    "When a recursive algorithm revisits the same problem repeatedly, we say that the optimization problem has ***overlapping subproblems***. DP hence 1) solve each subproblem once and 2) store the solution in a table where it can be looked up when needed. This approach is called **recursion with memiozation**.\n",
    "\n",
    "Here we show the:\n",
    "1. `recursive_matrix_chain(p,i,j)`: A naive recursion of matrix-chain multiplication, which takes $\\Theta (2^n)$ time\n",
    "    \n",
    "2. `memoized_matrix_chain(p,i,j)`: A memoized top-down version of the recusion, which takes $\\Theta (n^3)$ time "
   ]
  },
  {
   "cell_type": "code",
   "execution_count": 20,
   "metadata": {},
   "outputs": [],
   "source": [
    "import numpy as np\n",
    "p=np.array([30,35,15,5,10,20,25])"
   ]
  },
  {
   "cell_type": "code",
   "execution_count": 21,
   "metadata": {},
   "outputs": [
    {
     "data": {
      "text/plain": [
       "15125"
      ]
     },
     "execution_count": 21,
     "metadata": {},
     "output_type": "execute_result"
    }
   ],
   "source": [
    "# naive recursion\n",
    "def recursive_matrix_chain(p,i,j):\n",
    "    if i==j:\n",
    "        return 0\n",
    "    # n=p.length-1\n",
    "    n=len(p)-1\n",
    "    #let m[1...n,1...n] to store the m[i,j] cost\n",
    "    m=np.inf\n",
    "    for k in range(i,j):\n",
    "        q=recursive_matrix_chain(p,i,k)+recursive_matrix_chain(p,k+1,j)+p[i-1]*p[k]*p[j]\n",
    "        if q<m:\n",
    "            m=q\n",
    "    return m\n",
    "recursive_matrix_chain(p,1,6)    "
   ]
  },
  {
   "cell_type": "markdown",
   "metadata": {},
   "source": [
    "`recursive_matrix_chain2` uses `min()` function to derive $m$:"
   ]
  },
  {
   "cell_type": "code",
   "execution_count": 23,
   "metadata": {},
   "outputs": [
    {
     "data": {
      "text/plain": [
       "15125"
      ]
     },
     "execution_count": 23,
     "metadata": {},
     "output_type": "execute_result"
    }
   ],
   "source": [
    "# naive recursion, alternative expression with min()\n",
    "def recursive_matrix_chain2(p,i,j):\n",
    "    if i==j:\n",
    "        return 0\n",
    "    # n=p.length-1\n",
    "    n=len(p)-1\n",
    "    #let m[1...n,1...n] to store the m[i,j] cost\n",
    "    m=np.inf\n",
    "    for k in range(i,j):\n",
    "        m=min(m,recursive_matrix_chain(p,i,k)+recursive_matrix_chain(p,k+1,j)+p[i-1]*p[k]*p[j])\n",
    "    return m\n",
    "recursive_matrix_chain2(p,1,6)    "
   ]
  },
  {
   "cell_type": "markdown",
   "metadata": {},
   "source": [
    "`memoized_matrix_chain(p,i,j)` was slightly modified from the pseudocodes `memoized_matrix_chain(p)`on *p*388 of the textbook, so that:\n",
    "* It intakes any $(i,j)$ with $1\\leq i\\leq j\\leq n$\n",
    "* It outputs $m[i,j]$, the minimum scalar multiplications for chain $A_i..A_j$ within chain $A_1..A_n$"
   ]
  },
  {
   "cell_type": "code",
   "execution_count": 19,
   "metadata": {},
   "outputs": [
    {
     "data": {
      "text/plain": [
       "15125.0"
      ]
     },
     "execution_count": 19,
     "metadata": {},
     "output_type": "execute_result"
    }
   ],
   "source": [
    "def memoized_matrix_chain(p,a,b):\n",
    "    n=len(p)-1 # n=p.length-1\n",
    "    m=np.zeros((n+1,n+1)) #let m[1...n,1...n] to store the m[i,j] cost\n",
    "    for i in range(a,b+1): #set the initivial value of any m[i,j]=inf as sentinel, where 1<=i<=j<=n\n",
    "        for j in range(i,b+1):\n",
    "            m[i,j]=np.inf\n",
    "    return lookup_chain(m,p,a,b)\n",
    "   \n",
    "def lookup_chain(m,p,i,j):\n",
    "    if m[i,j]<np.inf: #if m[i,j] was calculated before, look it up\n",
    "        return m[i,j] #and return m[i,j]\n",
    "    if i==j: #base case of recursion\n",
    "        m[i,j]=0 #fill m[i,j] with 0\n",
    "    else:\n",
    "        for k in range(i,j): #recurrence\n",
    "            q=lookup_chain(m,p,i,k)+lookup_chain(m,p,k+1,j)+p[i-1]*p[k]*p[j]\n",
    "            if q<m[i,j]:\n",
    "                m[i,j]=q #fill m[i,j] with the optimal cost q\n",
    "    return m[i,j] #finally, return searched value\n",
    "    \n",
    "memoized_matrix_chain(p,1,6)    "
   ]
  },
  {
   "cell_type": "markdown",
   "metadata": {},
   "source": [
    "### Analysis of recursion with memoization\n",
    "We can catagorize the calls of `lookup_chain` into two types:\n",
    "1. Calls in which $m[i,j]=\\infty$, so that Line 12-19 execute\n",
    "2. calls in which $m[i,j]<\\infty$, so that it simply returns $m[i,j]$ in Line 11\n",
    "\n",
    "Because we calculate each entry in $m$ exactly once, there are $\\Theta n^2$ calls of the first type. All calls of the second type are made as **recursive calls** by calls of the first type. Whenever a given call of `lookup_chain` makes recursive call, it makes $O(n)$ of them (i.e. from n till 1 at the base case). Therefore, there are $O(n^3)$ calls of the second type in all. Each call of the second type takes $O(1)$ time, and each call of the first type takes $O(n)$ time plus the time spent in its recursive calls. The total time is therefore $O(n^3)$.\n",
    "\n",
    "### Comparison between bottom-up DP and recursion with memoization\n",
    "\n",
    "**In theory**:\n",
    "* Both methods take advantage of the **overlapping-subprobelms property**, so that all subproblems are solved only once\n",
    "* They have the same running time\n",
    "\n",
    "**In practice**:\n",
    "* If all subproblems must be solved at least one, a bottom-up DP usually outperforms the corresponding recusion with memoization by a constant factor, because the bottom-up DP has\n",
    "    * 1) no overhead for recursion and \n",
    "    * 2)less overhead for maintainig the table\n",
    "* For some problems we can exploit the regular pattern of table accesses in bottom-up DP to reduce time or space requirements event further\n",
    "* Alternatively, if some subproblems in the subproblem space need not be solved at all, the memoized solution has the advantage of solving only those subproblems that are definitely required"
   ]
  }
 ],
 "metadata": {
  "kernelspec": {
   "display_name": "Python 3",
   "language": "python",
   "name": "python3"
  },
  "language_info": {
   "codemirror_mode": {
    "name": "ipython",
    "version": 3
   },
   "file_extension": ".py",
   "mimetype": "text/x-python",
   "name": "python",
   "nbconvert_exporter": "python",
   "pygments_lexer": "ipython3",
   "version": "3.7.4"
  }
 },
 "nbformat": 4,
 "nbformat_minor": 2
}
