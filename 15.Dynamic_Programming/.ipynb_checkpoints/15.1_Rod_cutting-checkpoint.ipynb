{
 "cells": [
  {
   "cell_type": "markdown",
   "metadata": {},
   "source": [
    "# Rod cutting\n",
    "Given a rod of length $n$ inches and a table of prices $p_i$ for $i=1,2,,...,n$, determine the maximum revenue $r_n$ by cutting the rod and selling the pieces.\n",
    "\n",
    "|length $i$|1|2|3|4|5|6|7|8|9|10|\n",
    "|:-:|:-:|:-:|:-:|:-:|:-:|:-:|:-:|:-:|:-:|:-:|\n",
    "|length $p_i$|1|5|8|9|10|17|17|20|24|30|\n",
    "\n",
    "The **general recursive relation** between $r_n$ and its preceding term(s) can be expressed by:\n",
    "\n",
    "<br><center>$r_n=\\max(p_n,r_{n-1}+r_1,r_{n-2}+r_2,...,r_{n-1}+r_1)$</center></br>\n",
    "\n",
    "* $p_n$ is the revenue for no cutting at all\n",
    "* the rest $r_{n-i}+r_i$ terms the revenue of cutting the rod into two pieces of length $n-i$ and $i$ each, then optimally cutting the two pieces further to obtain $r_{n-i}$ and $r_i$ respectively.\n",
    "\n",
    "This recursive relation can be further shortened to:\n",
    "\n",
    "<center>$r_n=\\underset{1\\leq i\\leq n}{\\max}(p_i,r_{n-i})$</center>\n",
    "    \n",
    "where $p_n$ is the first piece (not divisible) and $r_{n-i}$ is the reminder (divisible). \n",
    "\n",
    "In this formula, an optimal solution embodies the solution to only **one related subproblem** of the reminder, rather than both.\n",
    "\n",
    "## Recursive top-down implementation\n",
    "Based on the recursive formular $r_n=\\underset{1\\leq i\\leq n}{\\max}(p_i,r_{n-i})$, we have a straightforward, **top-down recursion**.\n",
    "\n",
    "Notice that:\n",
    "* The initial value q was set at $-1$ instead of $-\\infty$ in the book to reduce running time"
   ]
  },
  {
   "cell_type": "code",
   "execution_count": 3,
   "metadata": {},
   "outputs": [],
   "source": [
    "import numpy as np\n",
    "p=np.array([1,5,8,9,10,17,17,20,24,30])"
   ]
  },
  {
   "cell_type": "code",
   "execution_count": 5,
   "metadata": {},
   "outputs": [
    {
     "name": "stdout",
     "output_type": "stream",
     "text": [
      "685 µs ± 3.08 µs per loop (mean ± std. dev. of 7 runs, 1000 loops each)\n"
     ]
    }
   ],
   "source": [
    "# top-down recursion\n",
    "def cut_rod(p,n):\n",
    "    if n==0: # base case pn when we do not cut the rode\n",
    "        return 0\n",
    "    q=-1\n",
    "    for i in range(0,n):\n",
    "        q=max(q,p[i]+cut_rod(p,n-i-1)) #we can prove q is true by MI\n",
    "    return q\n",
    "%timeit cut_rod(p,10) "
   ]
  },
  {
   "cell_type": "markdown",
   "metadata": {},
   "source": [
    "## Using dynamic programming for optimal rod cutting\n",
    "### 1. top-down with memoization"
   ]
  },
  {
   "cell_type": "code",
   "execution_count": 6,
   "metadata": {},
   "outputs": [
    {
     "name": "stdout",
     "output_type": "stream",
     "text": [
      "50.4 µs ± 424 ns per loop (mean ± std. dev. of 7 runs, 10000 loops each)\n"
     ]
    }
   ],
   "source": [
    "# dynamic programming\n",
    "# memoized\n",
    "\n",
    "def memoized_cut_rod(p,n):\n",
    "    r=np.full(n+1,-1)\n",
    "    return memoized_cut_rod_aux(p,n,r)\n",
    "def memoized_cut_rod_aux(p,n,r):\n",
    "   # n=n-1\n",
    "    if r[n]>=0:\n",
    "        return r[n]\n",
    "    if n==0:\n",
    "        q=0\n",
    "    else:\n",
    "        q=-1\n",
    "        for i in range(n):\n",
    "            q=max(q,p[i]+memoized_cut_rod_aux(p,n-i-1,r)) #the same from ordinary recursion\n",
    "    r[n]=q\n",
    "    return q\n",
    "%timeit memoized_cut_rod(p,10)  \n"
   ]
  },
  {
   "cell_type": "markdown",
   "metadata": {},
   "source": [
    "### 2. bottom-up (iteration)"
   ]
  },
  {
   "cell_type": "code",
   "execution_count": 99,
   "metadata": {},
   "outputs": [
    {
     "name": "stdout",
     "output_type": "stream",
     "text": [
      "33.9 µs ± 65.5 ns per loop (mean ± std. dev. of 7 runs, 10000 loops each)\n"
     ]
    }
   ],
   "source": [
    "# dynamic programming\n",
    "# bottom-up\n",
    "def bottom_up_rod_cut(p,n):\n",
    "    r=np.full(n+1,-1)\n",
    "    r[0]=0\n",
    "    \n",
    "\n",
    "\n",
    "    for j in range(1,n+1):\n",
    "        q=-1\n",
    "        \n",
    "        \n",
    "        for i in range(1,j+1):\n",
    "            \n",
    "            q=max(q,p[i-1]+r[j-i]) \n",
    "            \n",
    "        r[j]=q\n",
    "    return r[n]\n",
    "%timeit bottom_up_rod_cut(p,10)    "
   ]
  }
 ],
 "metadata": {
  "kernelspec": {
   "display_name": "Python 3",
   "language": "python",
   "name": "python3"
  },
  "language_info": {
   "codemirror_mode": {
    "name": "ipython",
    "version": 3
   },
   "file_extension": ".py",
   "mimetype": "text/x-python",
   "name": "python",
   "nbconvert_exporter": "python",
   "pygments_lexer": "ipython3",
   "version": "3.7.4"
  }
 },
 "nbformat": 4,
 "nbformat_minor": 2
}
