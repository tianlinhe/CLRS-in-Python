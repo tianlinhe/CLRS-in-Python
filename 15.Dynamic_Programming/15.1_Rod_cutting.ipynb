{
 "cells": [
  {
   "cell_type": "markdown",
   "metadata": {},
   "source": [
    "# 15.1 Rod cutting\n",
    "Given a rod of length $n$ inches and a table of prices $p_i$ for $i=1,2,,...,n$, determine the maximum revenue $r_n$ by cutting the rod and selling the pieces.\n",
    "\n",
    "|length $i$|1|2|3|4|5|6|7|8|9|10|\n",
    "|:-:|:-:|:-:|:-:|:-:|:-:|:-:|:-:|:-:|:-:|:-:|\n",
    "|length $p_i$|1|5|8|9|10|17|17|20|24|30|\n",
    "\n",
    "The **general recursive relation** between $r_n$ and its preceding term(s) can be expressed by:\n",
    "\n",
    "$$\n",
    "\\begin{align}\n",
    "r_n=\\max(p_n,r_{n-1}+r_1,r_{n-2}+r_2,...,r_{n-1}+r_1)\n",
    "\\end{align}\n",
    "$$\n",
    "\n",
    "* $p_n$ is the revenue for no cutting at all\n",
    "* the rest $r_{n-i}+r_i$ terms the revenue of cutting the rod into two pieces of length $n-i$ and $i$ each, then optimally cutting the two pieces further to obtain $r_{n-i}$ and $r_i$ respectively.\n",
    "\n",
    "This recursive relation can be further shortened to:\n",
    "\n",
    "$$\n",
    "\\begin{align}\n",
    "r_n=\\underset{1\\leq i\\leq n}{\\max}(p_i,r_{n-i})\n",
    "\\end{align}\n",
    "$$\n",
    "    \n",
    "where $p_n$ is the first piece (not divisible) and $r_{n-i}$ is the reminder (divisible). \n",
    "\n",
    "In this formula, an optimal solution embodies the solution to only **one related subproblem** of the reminder, rather than both.\n",
    "## Recursive top-down implementation\n",
    "Based on the recursive formular $r_n=\\underset{1\\leq i\\leq n}{\\max}(p_i,r_{n-i})$, we have a straightforward, **top-down recursion**.\n",
    "\n",
    "Notice that:\n",
    "* The initial value q was set at $-1$ instead of $-\\infty$ in the book to reduce running time"
   ]
  },
  {
   "cell_type": "code",
   "execution_count": 1,
   "metadata": {},
   "outputs": [],
   "source": [
    "import numpy as np\n",
    "p=np.array([0,1,5,8,9,10,17,17,20,24,30])"
   ]
  },
  {
   "cell_type": "code",
   "execution_count": 4,
   "metadata": {},
   "outputs": [
    {
     "data": {
      "text/plain": [
       "13"
      ]
     },
     "execution_count": 4,
     "metadata": {},
     "output_type": "execute_result"
    }
   ],
   "source": [
    "# top-down recursion\n",
    "def rod_cut(n):\n",
    "    if n==0:\n",
    "        return 0\n",
    "    q=-1\n",
    "    for i in range(1,n+1):\n",
    "        q=max(q,p[i]+rod_cut(n-i))\n",
    "    return q\n",
    "cut_rod(p,5) "
   ]
  },
  {
   "cell_type": "markdown",
   "metadata": {},
   "source": [
    "### Analysis of the running time of recursion\n",
    "Although recursion is very intuitive, the amount of work done grows explosively as a function of n.  The recursive tree in *Figure 15.3* shows the recursive calls resulting from `cut_rod(4)`.\n",
    "<img src=\"img/fig15.3.png\" width=\"700\">\n",
    "Let $T(n)$ denotes the total number of calls made to `cut_rod(n)`. We have\n",
    "* $T(n)=0$, which is the initial call at the root\n",
    "* $T(n)=T(0)+\\sum_{j=0}^{n-1}T(j)=1+\\sum_{j=0}^{n-1}T(j)$\n",
    "\n",
    "which imply:\n",
    "$$\n",
    "\\begin{align}\n",
    "T(n)=2^n\n",
    "\\end{align}\n",
    "$$"
   ]
  },
  {
   "cell_type": "markdown",
   "metadata": {},
   "source": [
    "## Using dynamic programming (DP) for optimal rod cutting\n",
    "**Dynamic programming** converts `cut_rod`into an efficient algorithm in two ways:\n",
    "### 1. top-down with memoization\n",
    "In the \"naive\" recursion above, we observe that the same subproblems were solved **repeatedly**: as in *Figure 15.3*, the nodes $2,1,0$ occur $2,4,8$ times respectively. If you can **store** these solutions rather than **recompute** it everytime, you can save a dramatic amount of computing time! The approach is called ***top-down with memoization***:\n",
    "1. We write the procedure recursively, but save the solution in an array ot hash table\n",
    "2. The procedure firsth checks the memorry if a subproblem has a solution already\n",
    "3. If so, it returns the saved solution\n",
    "4. If not, it computes the the solution as in a naive recursion"
   ]
  },
  {
   "cell_type": "code",
   "execution_count": 5,
   "metadata": {},
   "outputs": [
    {
     "data": {
      "text/plain": [
       "13"
      ]
     },
     "execution_count": 5,
     "metadata": {},
     "output_type": "execute_result"
    }
   ],
   "source": [
    "# dynamic programming, approach 1\n",
    "# top-down with memoization\n",
    "\n",
    "def rod_cut_mem(p,n):\n",
    "    r=np.full(n+1,-1)\n",
    "    return rod_cut_mem_aux(p,n,r)\n",
    "def rod_cut_mem_aux(p,n,r):\n",
    "    if r[n]>=0:\n",
    "        return r[n]\n",
    "    if n==0:\n",
    "        return 0\n",
    "    q=-1\n",
    "    for i in range(1,n+1):\n",
    "        q=max(q,p[i]+rod_cut_mem_aux(p,n-i,r))\n",
    "    r[n]=q\n",
    "    return r[n]\n",
    "\n",
    "rod_cut_mem(p,5)  \n"
   ]
  },
  {
   "cell_type": "markdown",
   "metadata": {},
   "source": [
    "### 2. Bottom-up (iteration)\n",
    "**Bottom-up** approach uses the natural ordering of the subproblems: a subproblem of size $i$ is \"smaller\" than a subproblem of size $j$, if $i<j$. Thus, the procedure solves subproblems of size $j=0,1,...,n$ in that order:\n",
    "1. Line 3 first creates a new array $r[0...n]$ that saves the results of the subproblems\n",
    "2. Line 4 initialises $r_0$ as $0$\n",
    "3. Line 7-10 solves each subproblem of size $j$, where $j=1,2,...,n$\n",
    "    * it is the same as a naive recursion\n",
    "    * except that Line 8 directly refers ti $r[j-i]$, which is stored\n",
    "    * instead of making a recursive call to solve the subproblem of size $j-i$\n",
    "4. Line 11 saves the $r[j]$ solution to the subproblem of size $j$\n",
    "5. Finally, Line 12 returns $r[n]$"
   ]
  },
  {
   "cell_type": "code",
   "execution_count": 99,
   "metadata": {},
   "outputs": [
    {
     "name": "stdout",
     "output_type": "stream",
     "text": [
      "33.9 µs ± 65.5 ns per loop (mean ± std. dev. of 7 runs, 10000 loops each)\n"
     ]
    }
   ],
   "source": [
    "# dynamic programming approach 2\n",
    "# bottom-up\n",
    "def rod_cut_bot(n):\n",
    "    r=np.full(n+1,-1)\n",
    "    r[0]=0\n",
    "    q=-1\n",
    "    for j in range(1,n+1):\n",
    "        for i in range(1,j+1):\n",
    "            q=max(q,p[i]+r[j-i])\n",
    "        r[i]=q\n",
    "    return r[n]\n",
    "%timeit rod_cut_bot(p,10)    "
   ]
  },
  {
   "cell_type": "markdown",
   "metadata": {},
   "source": [
    "### Analysis of DP\n",
    "The **bottom-up** and **top-down** approaches have the **same** asymptotic running time, which is $\\Theta (n^2)$. Compared to $\\Theta (2^n)$ of naive recursion, DP is much faster!\n",
    "\n",
    "### Reconstructing a solution\n",
    "We can extend the DP approach to record not only the optimal value for each subproblem, but also a *choice* that led to the optimal value. The extended version of `rod_cut_bot` computes for each rod size $j$, not only the maximum revenue $r_j$, but also $s_j$, the optimal size of the first piece to cut off.\n",
    "It is similar to `rod_cut_bot`, except that:\n",
    "1. Line 1 creates an array $s[0,...,n]$ that holds the optimal size $i$ \n",
    "2. Line 10 updates for $s[j]$ at the moment when $q$ reaches its maximum\n"
   ]
  },
  {
   "cell_type": "code",
   "execution_count": 5,
   "metadata": {},
   "outputs": [
    {
     "data": {
      "text/plain": [
       "(30, 10)"
      ]
     },
     "execution_count": 5,
     "metadata": {},
     "output_type": "execute_result"
    }
   ],
   "source": [
    "def extended_bottom_up_cut_rod(p,n):\n",
    "    r=np.full(n+1,-1)\n",
    "    s=np.full(n+1,-1)\n",
    "    r[0]=0\n",
    "    q=-1\n",
    "    for j in range(1,n+1):\n",
    "        for i in range(1,j+1):\n",
    "            if q<p[i]+r[j-i]:\n",
    "                q=p[i]+r[j-i]\n",
    "                s[j]=i           \n",
    "        r[i]=q\n",
    "    return r[n],s[j]\n",
    "extended_bottom_up_cut_rod(p,10) "
   ]
  },
  {
   "cell_type": "markdown",
   "metadata": {},
   "source": [
    "Furthermore, we can retrieve the length of all the pieces cut by calling `extended_bottom_up_cut_rod` repeatedly inside a `while` loop:\n",
    "\n",
    "***Notice that the psedocodes given in the textbook are not correct. Please use mine below:***"
   ]
  },
  {
   "cell_type": "code",
   "execution_count": 11,
   "metadata": {},
   "outputs": [
    {
     "name": "stdout",
     "output_type": "stream",
     "text": [
      "1\n",
      "6\n"
     ]
    }
   ],
   "source": [
    "def print_rod_cut_solution(p,n):    \n",
    "    while n>0:\n",
    "        r,s=rod_cut_bot_extended(p,n)\n",
    "        print (s)\n",
    "        n=n-s #the piece s is chopped off from p, then next while loop\n",
    "print_rod_cut_solution(p,7)       "
   ]
  }
 ],
 "metadata": {
  "kernelspec": {
   "display_name": "Python 3",
   "language": "python",
   "name": "python3"
  },
  "language_info": {
   "codemirror_mode": {
    "name": "ipython",
    "version": 3
   },
   "file_extension": ".py",
   "mimetype": "text/x-python",
   "name": "python",
   "nbconvert_exporter": "python",
   "pygments_lexer": "ipython3",
   "version": "3.7.4"
  }
 },
 "nbformat": 4,
 "nbformat_minor": 2
}
