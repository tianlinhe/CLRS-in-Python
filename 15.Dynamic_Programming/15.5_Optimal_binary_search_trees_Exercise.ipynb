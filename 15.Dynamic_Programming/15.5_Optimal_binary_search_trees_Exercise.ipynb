{
 "cells": [
  {
   "cell_type": "markdown",
   "metadata": {},
   "source": [
    "**15.1-1<br>Write pseudocode for the procedure CONSTRUCT-OPTIMAL-BST(root) which given the table root, outputs the structure of an optimal binary search tree.**"
   ]
  },
  {
   "cell_type": "code",
   "execution_count": 93,
   "metadata": {},
   "outputs": [],
   "source": [
    "import numpy as np\n",
    "p=np.array([0.15,0.1,0.05,0.1,0.2])\n",
    "q=np.array([0.05,0.1,0.05,0.05,0.05,0.1])\n",
    "n=len(p)"
   ]
  },
  {
   "cell_type": "code",
   "execution_count": 137,
   "metadata": {},
   "outputs": [],
   "source": [
    "def optimal_bst(p,q,n):\n",
    "    p=np.concatenate([[0],p]) #assign p[0]=0 for easy indexing\n",
    "    e=np.zeros((n+2,n+1)) #contains one more row for easy indexing\n",
    "    w=np.zeros((n+2,n+1)) #contains one more row for easy indexing\n",
    "    root=np.zeros((n+2,n+1),dtype=int)\n",
    "    for i in range(1,n+2): #initialisation\n",
    "        e[i,i-1]=q[i-1] #frequency of d\n",
    "        w[i,i-1]=q[i-1] #frequency of d\n",
    "    for l in range(1,n+1): #l=j-i+1 (when j>=2)\n",
    "        for i in range(1, n-l+2):\n",
    "            j=i+l-1\n",
    "            e[i,j]=np.inf\n",
    "            w[i,j]=w[i,j-1]+p[j]+q[j]\n",
    "            for r in range(i,j+1):\n",
    "                t=e[i,r-1]+e[r+1,j]+w[i,j]\n",
    "                if t<e[i,j]:\n",
    "                    e[i,j]=t\n",
    "                    root[i,j]=r\n",
    "    return e,root"
   ]
  },
  {
   "cell_type": "code",
   "execution_count": 144,
   "metadata": {},
   "outputs": [
    {
     "name": "stdout",
     "output_type": "stream",
     "text": [
      "k2 is the root\n",
      "k1 is the left child of k2\n",
      "d0 is the left child of k1\n",
      "d1 is the right child of k1\n",
      "k5 is the right child of k2\n",
      "k4 is the left child of k5\n",
      "k3 is the left child of k4\n",
      "d2 is the left child of k3\n",
      "d3 is the right child of k3\n",
      "d4 is the right child of k4\n",
      "d5 is the right child of k5\n"
     ]
    }
   ],
   "source": [
    "def construct_optimal_bst(root,i,j,string='root'):\n",
    "    if i>j:\n",
    "        if string=='left':\n",
    "            print ('d',j,' is the ',string,' child of k',i,sep='')\n",
    "        else:\n",
    "            print ('d',j,' is the ',string,' child of k',j,sep='') \n",
    "        return\n",
    "    if string=='left':\n",
    "        print ('k',root[i,j],' is the ',string,' child of k',j+1,sep='')\n",
    "    elif string=='right':\n",
    "        print ('k',root[i,j],' is the ',string,' child of k',i-1,sep='')\n",
    "    else:\n",
    "        print ('k',root[i,j],' is the ',string,sep='')\n",
    "    construct_optimal_bst(root,i,root[i,j]-1,string='left') \n",
    "    construct_optimal_bst(root,root[i,j]+1,j,string='right')\n",
    "    \n",
    "root=optimal_bst(p,q,n)[1]\n",
    "construct_optimal_bst(root,1,n)"
   ]
  },
  {
   "cell_type": "markdown",
   "metadata": {},
   "source": [
    "**15.5-2<br>Determine the cost and and structure of an optimal binary search tree for a set of keys with the following probabilities:**\n",
    "\n",
    "|$i$|0|1|2|3|4|5|6|7|\n",
    "|:-:|:-:|:-:|:-:|:-:|:-:|:-:|:-:|:-:|\n",
    "|$p_i$|-|0.04|0.06|0.08|0.02|0.1|0.12|0.14|\n",
    "|$q_i$|0.06|0.06|0.06|0.06|0.05|0.05|0.05|0.05|"
   ]
  },
  {
   "cell_type": "code",
   "execution_count": 140,
   "metadata": {},
   "outputs": [],
   "source": [
    "import numpy as np\n",
    "p1=np.array([0.04,0.06,0.08,0.02,0.1,0.12,0.14])\n",
    "q1=np.array([0.06,0.06,0.06,0.06,0.05,0.05,0.05,0.05])\n",
    "n1=len(p1)"
   ]
  },
  {
   "cell_type": "code",
   "execution_count": 141,
   "metadata": {},
   "outputs": [
    {
     "data": {
      "text/plain": [
       "3.12"
      ]
     },
     "execution_count": 141,
     "metadata": {},
     "output_type": "execute_result"
    }
   ],
   "source": [
    "#cost\n",
    "optimal_bst(p1,q1,n1)[0][1,n1]"
   ]
  },
  {
   "cell_type": "code",
   "execution_count": 145,
   "metadata": {},
   "outputs": [
    {
     "name": "stdout",
     "output_type": "stream",
     "text": [
      "k5 is the root\n",
      "k2 is the left child of k5\n",
      "k1 is the left child of k2\n",
      "d0 is the left child of k1\n",
      "d1 is the right child of k1\n",
      "k3 is the right child of k2\n",
      "d2 is the left child of k3\n",
      "k4 is the right child of k3\n",
      "d3 is the left child of k4\n",
      "d4 is the right child of k4\n",
      "k7 is the right child of k5\n",
      "k6 is the left child of k7\n",
      "d5 is the left child of k6\n",
      "d6 is the right child of k6\n",
      "d7 is the right child of k7\n"
     ]
    }
   ],
   "source": [
    "#structure\n",
    "root1=optimal_bst(p1,q1,n1)[1]\n",
    "construct_optimal_bst(root1,1,n1)"
   ]
  },
  {
   "cell_type": "markdown",
   "metadata": {},
   "source": [
    "**15.5-4 $\\star$<br>Knuth has shown that there are always roots of optimal subtrees such that $root[i,j-1]\\leq root[i,j]\\leq root[i+1,j]$ for all $i\\leq i<j\\leq n$. Use this fact to modify the `optimal_bst` procedure to run in $\\Omega (n^2)$ time.**\n",
    "\n",
    "Knuth's results imply that we do not have to check for every $r$ in range $(i,j)$ in `for r in range(i,j+1):`; instead we can check it a smaller range from $r[i,j-1]$ to $r[i+1,j]$. \n",
    "\n",
    "Observe for the same length $l$, upon increment of $i$ by $1$, r's upper bound $r[i+1,j]$ becomes its lower bound for $i+1$. Thus, the total time spent in the second `for` loop is $\\Theta (n)$, limiting the total runtime to $\\Theta (n^2)$."
   ]
  },
  {
   "cell_type": "code",
   "execution_count": null,
   "metadata": {},
   "outputs": [],
   "source": []
  }
 ],
 "metadata": {
  "kernelspec": {
   "display_name": "Python 3",
   "language": "python",
   "name": "python3"
  },
  "language_info": {
   "codemirror_mode": {
    "name": "ipython",
    "version": 3
   },
   "file_extension": ".py",
   "mimetype": "text/x-python",
   "name": "python",
   "nbconvert_exporter": "python",
   "pygments_lexer": "ipython3",
   "version": "3.7.4"
  }
 },
 "nbformat": 4,
 "nbformat_minor": 2
}
