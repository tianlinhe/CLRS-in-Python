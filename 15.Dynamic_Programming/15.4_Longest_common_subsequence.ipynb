{
 "cells": [
  {
   "cell_type": "markdown",
   "metadata": {},
   "source": [
    "# 15.4 Longest common subsequence\n",
    "In biology, we can express a strand of DNA (the genetic material of our body) over the finite set of \"bases\" $\\{A, C, G, T\\}$. \n",
    "\n",
    "## Subsequence, common subsequence, longest common subsequence\n",
    "A way to measure the similarity of strands $S_1$ and $S_2$ is by finding a third strand $S_3$ in which the bases in $S_3$ appear in each of $S_1$ and $S_2$. In addition, these bases must appear in the same order, but NOT necessarily consecutively. For example, if $X=\\langle A,B,C,B,D,A,B\\rangle$, and $Y=\\langle B,D,C,A,B,A\\rangle$:\n",
    "* There are $2^m$ possible **subsequences** of $X$ and $2^n$ of $Y$, where $m,n$ are length of $X,Y$ respectively\n",
    "* $\\langle B,C,A\\rangle$ and $\\langle B,C,A,B\\rangle$ are the **common subsequences** of $X,Y$\n",
    "* $\\langle B,C,A,B\\rangle$ is the **longest common subsequences** (LCS) of $X,Y$, because it has the maximum length among all the common subsequences of $X,Y$\n",
    "\n",
    "In the LCS problem, we are given to sequences $X=\\langle x_1,x_2,...,x_m\\rangle$ and $Y=\\langle y_1,y_2,...y_m\\rangle$ and wish to find a maximum-length common sequence (i.e. LCS) of them. This section shows how to efficiently solve the LCS problem using **dynamic programming**.\n",
    "\n",
    "## Step 1: Characterizing a LCS\n",
    "### The brute-force approach is impractical\n",
    "If we wish to apply a brute-force approach, we would: \n",
    "1. Enumerate all subsequences of X (there are $2^m$ of them!)\n",
    "2. Check each subsequence of X to see whether it is also a subseuqence of Y (there are $2^n$ of them!)\n",
    "3. Keep track of the longest subsequence we find\n",
    "\n",
    "The time complexity is thus exponential ($O(2^{m+n})$), making it impractical for long sequences.\n",
    "\n",
    "### The LCS probelm has an optimal-substructure property\n",
    "Let $X=\\langle x_1,x_2,...,x_m\\rangle$ and $Y=\\langle y_1,y_2,...y_m\\rangle$, and let $Z=\\langle z_1,z_2,...,z_k\\rangle$ be the LCS of $X,Y$, we can show that:\n",
    "1. If $x_m=y_n$, then $z_k=x_m=y_n$ and $Z_{k-1}=\\langle z_1,z_2,...,z_k\\rangle$ is the LCS of $X_{m-1},Y_{n-1}$\n",
    "2. If $x_m\\neq y_n$, then $z_k\\neq x_m$ implies that $Z$ is the LCS of $X_{m-1},Y$\n",
    "3. If $x_m\\neq y_n$, then $z_k\\neq y_n$ implies that $Z$ is the LCS of $X,Y_{m-1}$\n",
    "\n",
    "## Step 2: A recursive solution\n",
    "### LCS has the overlapping-subproblems property\n",
    "To find an LCS of $X,Y$, we may need to find the LCSs of $X,Y_{n-1}$ and of $X_{m-1},Y_{n-1}$. Observe that each of these subproblems involves finding an LCS of $X_{m-1},Y_{n-1}$, many other subproblens share subsubproblems. The total number of subproblems is $mn$.\n",
    "\n",
    "### Recursive formula based on condition\n",
    "The optimal substructure LCS problem implies that we should examine **either one or two subproblems** depending on the condition of $(x_m,y_n)$. \n",
    "* Case 1: If $x_m=y_n$, we must find an LCS of $X_{m-1},Y_{n-1}$\n",
    "* Case 2: If $x_m\\neq y_n$, we must find an LCSs of $X_{m-1},Y$ and $X,Y_{m-1}$ and take the longer one\n",
    "\n",
    "If we define $c[i,j]$ to be the length of an LCS of the sequences $X_i,Y_j$, we have the recursive formula:\n",
    "\n",
    "$$\n",
    "\\begin{align}\n",
    "c[i,j]=\\left\\{\n",
    "        \\begin{array}{ll}\n",
    "        0 &\\text{if}\\ i=0 \\:\\text{or}\\ j=0\\\\\n",
    "        c[i-1,j-1]+1 &\\text{if}\\ i,j>0 \\:\\text{and}\\ x_i=y_j\\\\\n",
    "        \\max(c[i-1,j],c[i,j-1]) &\\text{if}\\ i,j>0 \\:\\text{and}\\ x_i\\neq y_j\\\\\n",
    "        \\end{array}       \n",
    "        \\right.\n",
    "\\end{align}\n",
    "$$\n",
    "\n",
    "$*$ In contrast to rod cutting and matrix-chain multiplication, we ruled out no subproblems based on conditions.\n",
    "\n",
    "Procedure `lcs_length` is a bottom-up DP to calculate solutions to LCS. \n",
    "* It takes two sequences $X=\\langle x_1,x_2,...,x_m\\rangle$ and $Y=\\langle y_1,y_2,...y_m\\rangle$ as input\n",
    "* It stores the $c[i,j]$ (i.e. length of LCSs) values in a table $c[0..m,0..n]$\n",
    "    * $c[m,n]$ is the length of an LCS of $X,Y$\n",
    "* It maintains the table $b[1..m,1..n]$ to help us construct an **optimal solution**\n",
    "    * $b[i,j]$ points to the table entry corresponding to the optimal subproblem solution chosen when computing $c[i,j]$"
   ]
  },
  {
   "cell_type": "code",
   "execution_count": 1,
   "metadata": {},
   "outputs": [],
   "source": [
    "import numpy as np"
   ]
  },
  {
   "cell_type": "code",
   "execution_count": 24,
   "metadata": {},
   "outputs": [],
   "source": [
    "def lcs_length(X,Y):\n",
    "    m=len(X)\n",
    "    n=len(Y)\n",
    "    X=np.concatenate(([''],X)) #so that X starts from X[1] instead of X[0]\n",
    "    Y=np.concatenate(([''],Y)) #so that Y starts from Y[1] instead of Y[0]\n",
    "    c=np.zeros((m+1,n+1))\n",
    "    b=np.full((m+1,n+1),fill_value=None)\n",
    "    for i in range(1,m+1):\n",
    "        for j in range(1,n+1):\n",
    "            if X[i]==Y[j]: #* Case 1: If $x_m=y_n$, we must find an LCS of $X_{m-1},Y_{n-1}$\n",
    "                c[i,j]=c[i-1,j-1]+1\n",
    "                b[i,j]='up-left'\n",
    "            elif c[i-1,j]>=c[i,j-1]: # Case 2: If $x_m!= y_n$,and length of c[i-1,j]>=c[i,j-1]\n",
    "                c[i,j]=c[i-1,j]      # we take LCS of c[i-1,j] as LCS of $Xi,Yj$\n",
    "                b[i,j]='up'          \n",
    "            else: # Case 2: If $x_m!= y_n$,and length of c[i-1,j]<c[i,j-1]\n",
    "                c[i,j]=c[i,j-1] # we take LCS of c[i,j-1] as LCS of $Xi,Yj$\n",
    "                b[i,j]='left'\n",
    "    return c,b"
   ]
  },
  {
   "cell_type": "code",
   "execution_count": 25,
   "metadata": {},
   "outputs": [
    {
     "data": {
      "text/plain": [
       "(array([[0., 0., 0., 0., 0., 0., 0.],\n",
       "        [0., 0., 0., 0., 1., 1., 1.],\n",
       "        [0., 1., 1., 1., 1., 2., 2.],\n",
       "        [0., 1., 1., 2., 2., 2., 2.],\n",
       "        [0., 1., 1., 2., 2., 3., 3.],\n",
       "        [0., 1., 2., 2., 2., 3., 3.],\n",
       "        [0., 1., 2., 2., 3., 3., 4.],\n",
       "        [0., 1., 2., 2., 3., 4., 4.]]),\n",
       " array([[None, None, None, None, None, None, None],\n",
       "        [None, 'up', 'up', 'up', 'up-left', 'left', 'up-left'],\n",
       "        [None, 'up-left', 'left', 'left', 'up', 'up-left', 'left'],\n",
       "        [None, 'up', 'up', 'up-left', 'left', 'up', 'up'],\n",
       "        [None, 'up-left', 'up', 'up', 'up', 'up-left', 'left'],\n",
       "        [None, 'up', 'up-left', 'up', 'up', 'up', 'up'],\n",
       "        [None, 'up', 'up', 'up', 'up-left', 'up', 'up-left'],\n",
       "        [None, 'up-left', 'up', 'up', 'up', 'up-left', 'up']], dtype=object))"
      ]
     },
     "execution_count": 25,
     "metadata": {},
     "output_type": "execute_result"
    }
   ],
   "source": [
    "Xseq=np.array(['A','B','C','B','D','A','B'])\n",
    "Yseq=np.array(['B','D','C','A','B','A'])\n",
    "lcs_length(Xseq,Yseq)"
   ]
  },
  {
   "cell_type": "markdown",
   "metadata": {},
   "source": [
    "## Step 4: Constructing an LCS\n",
    "The $b$ table returned by `LCS_length` enables us to quickly construct an LCS of $X, Y$. We begin at $b[m,n]$ and trace through the table by following the arrows:\n",
    "* An \"up-left\" in entry $b[m,n]$ means that $x_i=y_j$ is an element of the LCS found\n",
    "* An \"up\" means we should move upward in $i-1$ direction\n",
    "* An \"left\" means we should move left in $j-1$ direction.\n",
    "\n",
    "With this method, we encounter the elements of this LCS in **reverse order**. The following recursive procedure `print_LCS`prints out an LCS of $X,Y$ in the forward order:"
   ]
  },
  {
   "cell_type": "code",
   "execution_count": 50,
   "metadata": {},
   "outputs": [],
   "source": [
    "def print_lcs(b,X,i,j):\n",
    "    if i==0 or j==0:\n",
    "        return\n",
    "    if b[i,j]=='up-left':\n",
    "        print_lcs(b,X,i-1,j-1)\n",
    "        print (X[i]) #Note: print after recursive call!!!\n",
    "    elif b[i,j]=='up':\n",
    "        print_lcs(b,X,i-1,j)\n",
    "    else:\n",
    "        print_lcs(b,X,i,j-1)"
   ]
  },
  {
   "cell_type": "code",
   "execution_count": 49,
   "metadata": {},
   "outputs": [
    {
     "name": "stdout",
     "output_type": "stream",
     "text": [
      "B\n",
      "C\n",
      "B\n",
      "A\n"
     ]
    }
   ],
   "source": [
    "b=lcs_length(Xseq,Yseq)[1] # table b from lcs_length\n",
    "i=len(Xseq) #length of X\n",
    "j=len(Yseq) #length of Y\n",
    "X=np.concatenate(([''],Xseq)) #so that X starts from X[1] instead of X[0]\n",
    "print_lcs(b,X,i,j)"
   ]
  },
  {
   "cell_type": "code",
   "execution_count": null,
   "metadata": {},
   "outputs": [],
   "source": []
  }
 ],
 "metadata": {
  "kernelspec": {
   "display_name": "Python 3",
   "language": "python",
   "name": "python3"
  },
  "language_info": {
   "codemirror_mode": {
    "name": "ipython",
    "version": 3
   },
   "file_extension": ".py",
   "mimetype": "text/x-python",
   "name": "python",
   "nbconvert_exporter": "python",
   "pygments_lexer": "ipython3",
   "version": "3.7.4"
  }
 },
 "nbformat": 4,
 "nbformat_minor": 2
}
