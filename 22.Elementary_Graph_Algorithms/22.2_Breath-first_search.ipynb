{
 "cells": [
  {
   "cell_type": "markdown",
   "metadata": {},
   "source": [
    "# 22.2 Breath-first Search\n",
    "The breath-first search procedure **BFS** assumes that the input graph $G=(V,E)$ is represented using **adjacency lists**. BFS constructs a **breath-first tree**, initially containing only its root, which is the **source vertex** $s$. Whenever BFS discovers a white vertex $v$ in the search of the adjacency list of a grey vertex $u$, it adds $v$ and the edge $(u,v)$ to the tree. A vertex $u$ in the breath-first tree contains several attributes:\n",
    "* $u.color$ stores the color (white, grey or black)\n",
    "* $u.\\pi $ store the predecessor of $u$ (for $u=s$, $u.\\pi = NIL$, where $s$ is the source)\n",
    "* $u.d$ holds the distance from $u$ to $s$"
   ]
  },
  {
   "cell_type": "code",
   "execution_count": 5,
   "metadata": {},
   "outputs": [],
   "source": [
    "from collections import deque\n",
    "# deque is a list-like container with fast appends and pops on EITHER end"
   ]
  },
  {
   "cell_type": "code",
   "execution_count": 32,
   "metadata": {},
   "outputs": [],
   "source": [
    "def bfs(G,s): #G is the graph, s is the source vertex\n",
    "    Q=deque([s]) # build a queue with a single vertex s\n",
    "    colour={i:'white' for i in G} # initial colour of all vertices are white\n",
    "    distance={s:0}\n",
    "    predecessor={s:None}\n",
    "    while Q: # whlie Q is not empty\n",
    "        u=Q.popleft() # enque from Q, got u\n",
    "        for v in G[u]: # search in the adj. list of u\n",
    "            if colour[v]=='white':\n",
    "                Q.append(v) # if v is never discovered before, add it to Q\n",
    "                colour[v]='grey'\n",
    "                distance[v]=distance[u]+1\n",
    "                predecessor[v]=u\n",
    "        colour[u]='black'\n",
    "    return colour,distance,predecessor"
   ]
  },
  {
   "cell_type": "markdown",
   "metadata": {},
   "source": [
    "Example 1: BFS of the undirected graph from **Figure 22.3**, page 596"
   ]
  },
  {
   "cell_type": "code",
   "execution_count": 33,
   "metadata": {},
   "outputs": [
    {
     "data": {
      "text/plain": [
       "({'s': 'black',\n",
       "  'w': 'black',\n",
       "  'r': 'black',\n",
       "  't': 'black',\n",
       "  'x': 'black',\n",
       "  'v': 'black',\n",
       "  'u': 'black',\n",
       "  'y': 'black'},\n",
       " {'s': 0, 'w': 1, 'r': 1, 't': 2, 'x': 2, 'v': 2, 'u': 3, 'y': 3},\n",
       " {'s': None,\n",
       "  'w': 's',\n",
       "  'r': 's',\n",
       "  't': 'w',\n",
       "  'x': 'w',\n",
       "  'v': 'r',\n",
       "  'u': 't',\n",
       "  'y': 'x'})"
      ]
     },
     "execution_count": 33,
     "metadata": {},
     "output_type": "execute_result"
    }
   ],
   "source": [
    "G2={'s':['w','r'],\n",
    "   'w':['s','t','x'],\n",
    "   'r':['s','v'],\n",
    "   't':['w','x','u'],\n",
    "   'x':['w','t','y','u'],\n",
    "   'v':['r'],\n",
    "   'u':['t','y'],\n",
    "   'y':['x','u']}\n",
    "bfs(G2,'s')"
   ]
  }
 ],
 "metadata": {
  "kernelspec": {
   "display_name": "Python 3",
   "language": "python",
   "name": "python3"
  },
  "language_info": {
   "codemirror_mode": {
    "name": "ipython",
    "version": 3
   },
   "file_extension": ".py",
   "mimetype": "text/x-python",
   "name": "python",
   "nbconvert_exporter": "python",
   "pygments_lexer": "ipython3",
   "version": "3.8.3"
  }
 },
 "nbformat": 4,
 "nbformat_minor": 4
}
