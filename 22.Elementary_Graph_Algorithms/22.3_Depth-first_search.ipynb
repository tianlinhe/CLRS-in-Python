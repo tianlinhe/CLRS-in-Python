{
 "cells": [
  {
   "cell_type": "markdown",
   "metadata": {},
   "source": [
    "# 22.3 Depth-first search\n",
    "Depth-first search (**DFS**) explores **edges leaving** the most recently discovered vertex $v$ that still has unexplored edges leaving it. Once all of $v$'s edge have been explored, DFS **\"backtracks\"** to explore edges leaving the vertex from which $v$ was discovered.\n",
    "* **Recursiveness**: this process continues until we discovered all the vertices that are reachable from the original source vertex $s$\n",
    "* **Depth-first forest**: the predecessor subgraph of DFS may contain several depth-first tree, because DFS always select a new source vertex $s$, if there are any vertices undiscovered after one round of DFS \n",
    "\n",
    "In BFS, every vertex $u$ has several attributes:\n",
    "* colour: white, grey or black\n",
    "* timestamp: $u.d$ when $u$ was first discovered; $u.f$ when all out-edges of $u$ were explored\n",
    "\n",
    "The running time of DFS is $O(V+E)$.\n",
    "\n",
    "Notice the major difference between the below `dfs` between `bfs` provided in [breath-first-search](22.2_Breath-first_search.ipynb): \n",
    "* `dfs` does not require a source vertex to start with, it scans through every vertex in a graph\n",
    "* we have a **global variable**, time, which keeps increasing by one unit "
   ]
  },
  {
   "cell_type": "code",
   "execution_count": 1,
   "metadata": {},
   "outputs": [],
   "source": [
    "def dfs(G):\n",
    "    global time # time is a global varaible, it is accumulative\n",
    "    time=0\n",
    "    colour={i:'white' for i in G} # initial colour of all vertices are white\n",
    "    t_discover={}\n",
    "    t_finish={}\n",
    "    predecessor={}\n",
    "    for u in G:\n",
    "        if colour[u]=='white':\n",
    "            dfs_visit(G, u, colour, t_discover,t_finish,predecessor) #recursion\n",
    "    return colour, t_discover, t_finish, predecessor\n",
    "\n",
    "def dfs_visit(G, u, colour, t_discover,t_finish,predecessor):\n",
    "    global time\n",
    "    time+=1\n",
    "    t_discover[u]=time # a white vertex is discovered\n",
    "    colour[u]='grey' # and coloured to grey\n",
    "    for v in G[u]:\n",
    "        if colour[v]=='white':\n",
    "            predecessor[v]=u\n",
    "            dfs_visit(G, v, colour, t_discover,t_finish,predecessor)\n",
    "    colour[u]='black'\n",
    "    time+=1\n",
    "    t_finish[u]=time  "
   ]
  },
  {
   "cell_type": "markdown",
   "metadata": {},
   "source": [
    "Example 1: DFS of the directed graph from **Exercises 22.3-2**, page 610-611\n",
    "<img src=\"img/fig22.3.png\" width=\"700\">"
   ]
  },
  {
   "cell_type": "code",
   "execution_count": 3,
   "metadata": {},
   "outputs": [
    {
     "data": {
      "text/plain": [
       "({'q': 'black',\n",
       "  'r': 'black',\n",
       "  's': 'black',\n",
       "  't': 'black',\n",
       "  'w': 'black',\n",
       "  'u': 'black',\n",
       "  'v': 'black',\n",
       "  'x': 'black',\n",
       "  'y': 'black',\n",
       "  'z': 'black'},\n",
       " {'q': 1,\n",
       "  's': 2,\n",
       "  'v': 3,\n",
       "  'w': 4,\n",
       "  't': 5,\n",
       "  'x': 6,\n",
       "  'z': 7,\n",
       "  'y': 10,\n",
       "  'r': 17,\n",
       "  'u': 18},\n",
       " {'z': 8,\n",
       "  'x': 9,\n",
       "  'y': 11,\n",
       "  't': 12,\n",
       "  'w': 13,\n",
       "  'v': 14,\n",
       "  's': 15,\n",
       "  'q': 16,\n",
       "  'u': 19,\n",
       "  'r': 20},\n",
       " {'s': 'q',\n",
       "  'v': 's',\n",
       "  'w': 'v',\n",
       "  't': 'w',\n",
       "  'x': 't',\n",
       "  'z': 'x',\n",
       "  'y': 't',\n",
       "  'u': 'r'})"
      ]
     },
     "execution_count": 3,
     "metadata": {},
     "output_type": "execute_result"
    }
   ],
   "source": [
    "G3={'q':['s','t','w'],\n",
    "    'r':['u'],\n",
    "    's':['v'],\n",
    "    't':['x','y'],\n",
    "    'w':['s','t','x'],\n",
    "    'u':['y'],\n",
    "    'v':['w'],\n",
    "    'x':['z'],\n",
    "    'y':['q'],\n",
    "    'z':['x']}\n",
    "dfs(G3)"
   ]
  },
  {
   "cell_type": "code",
   "execution_count": null,
   "metadata": {},
   "outputs": [],
   "source": []
  }
 ],
 "metadata": {
  "kernelspec": {
   "display_name": "Python 3",
   "language": "python",
   "name": "python3"
  },
  "language_info": {
   "codemirror_mode": {
    "name": "ipython",
    "version": 3
   },
   "file_extension": ".py",
   "mimetype": "text/x-python",
   "name": "python",
   "nbconvert_exporter": "python",
   "pygments_lexer": "ipython3",
   "version": "3.8.3"
  }
 },
 "nbformat": 4,
 "nbformat_minor": 4
}
