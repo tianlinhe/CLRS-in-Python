{
 "cells": [
  {
   "cell_type": "markdown",
   "metadata": {},
   "source": [
    "**22.1-1<br>Given an adjacency-list representation of a directed graph, hos long does it take to compute the out-degree of every vertex? How long does it take to compute the in-degrees?**"
   ]
  },
  {
   "cell_type": "markdown",
   "metadata": {},
   "source": [
    "* out-degree of a vertex: number of arcs pointing out from a vertex\n",
    "<br>The answer is $O(V+E)$, because $E$ denotes number of arcs, $V$ is necessary because it still takes a constant amount of time to know that a list is empty (we need to go through all $|V|$ number of vertices).\n",
    "* in-degree of a vertex: number of arcs pointing in to a vertex\n",
    "<br>The answer is also $O(V+E)$, because to one presence of a vertice in the adjacency list means one incoming arcs, we need to \"scan\" the hole representation."
   ]
  },
  {
   "cell_type": "markdown",
   "metadata": {},
   "source": [
    "**22.1-2<br>Given an adjacency-list representation for a complete binary tree on 7 vertices. Given an equivalent adjacency-matrix representation. Assume that vertices are numbered from 1 to 7 as in a binary heap.**"
   ]
  },
  {
   "cell_type": "markdown",
   "metadata": {},
   "source": [
    "The binary tree:\n",
    "```\n",
    "    1\n",
    " 2     3\n",
    "4 5   6 7\n",
    "```\n",
    "The adjacency-list:\n",
    "```\n",
    "1: 2,3\n",
    "2: 1,4,5\n",
    "3: 1,6,7\n",
    "4: 2\n",
    "5: 2\n",
    "6: 3\n",
    "7: 3\n",
    "```\n",
    "The adjacenc-matrix:\n",
    "```\n",
    "  1  2  3  4  5  6  7\n",
    "  __ __ __ __ __ __ __\n",
    "1|0  1  1  0  0  0  0 |\n",
    "2|0  1  0  1  1  0  0 |\n",
    "3|0  1  0  0  0  1  1 |\n",
    "4|0  1  0  0  0  0  0 |\n",
    "5|0  1  0  0  0  0  0 |\n",
    "6|0  0  1  0  0  0  0 |\n",
    "7|0  0  1  0  0  0  0 |\n",
    "  -- -- -- -- -- -- --\n",
    "```\n"
   ]
  },
  {
   "cell_type": "markdown",
   "metadata": {},
   "source": [
    "**22.1-3<br>The transpose of a directed graph $G=(V,E)$ is the graph $G^T=(V,E^T)$ is the graph $G^T=(V,E^T)$, where $E^T=\\{(v,u)\\in V \\times V:(u,v)\\in E\\}$. Thus, $G^T$ is $G$ with all its edges reversed. Describe efficient algorithms for computing $G^T$ from $G$, for both the adjacency-list and adjacency-matrix representations of $G$. Analyze the running times of your algorithm.**"
   ]
  },
  {
   "cell_type": "markdown",
   "metadata": {},
   "source": [
    "The running time of the tranpose algorithms should equal the space of each representation: $O(E+V)$ adjacency-list, $(V^2)$ for adjacency-matrix, because we need to \"scan\" the representation once. The algorithms:\n",
    "* adjacency-list:\n",
    "    1. initiate an empty adjacency-list representation\n",
    "    2. scan through original list:\n",
    "        * if v is present in $adj[u]$ in original list, add u to $adj[v]$ in the new list\n",
    "* adjacency-matrix: take matrix transpose"
   ]
  },
  {
   "cell_type": "markdown",
   "metadata": {},
   "source": [
    "**22.1-4<br>Given an adjacency-list representation of a multigraph $G=(V,E)$, describe an $O(V,E)-$time algorithm to compute the adjacency-list representation of the \"equivalent\" undirected graph $G´=(V,E´)$, where $E´$ consists of the edges in $E$ with all multiple edges between two vertices replaced by a single edge and with all self-loops removed.**"
   ]
  },
  {
   "cell_type": "markdown",
   "metadata": {},
   "source": [
    "A **multigraph** is a graph which is permitted to have multiple edges, that is, edges that have the same end nodes. Thus two vertices may be connected by more than one edge.\n",
    "For item $i$ in the adjacency list $adj[u]$ of a vertex $u$:\n",
    "* Remove self-loops: remove $i$ if $i=u$\n",
    "* Remove multiedge: remove $i$ that appear more than once. Because $adj[u]$ is a **sorted list**, we can implement the following algorithm\n",
    "    1. before iteration, create a single number pointer $m=adj[u][0]$\n",
    "    2. in the iteration, if $i$ does not equal to $m$, replace $m$ with $i$\n",
    "    3. in the iteration, if $i$ equals to $m$, remove $i$ "
   ]
  },
  {
   "cell_type": "markdown",
   "metadata": {},
   "source": [
    "**22.1-5<br>The *square* of a directed graph $G=(V,E)$ is the graph $G^2=(V,E^2)$ such that $(u,v)\\in E^2$ if and only if $G$ contains a path with at most two edges between $u$ and $v$. Describe efficient algorithms for computing $G^2$ from $G$ for both the adjacency-list and adjacency-matrix representations of $G$. Analyze the running times of your algorithms.**"
   ]
  },
  {
   "cell_type": "markdown",
   "metadata": {},
   "source": [
    "$E^2$ should contain $(u,v)$ iff \n",
    "* $E$ contains $(u,v)$ (\"one edge between $u$ and $v$\") OR\n",
    "* there is $w$ in $V$, such that $E$ contains both $(u,w)$ and $(w,v)$ (\"two edges between $u$ and $v$\")"
   ]
  },
  {
   "cell_type": "markdown",
   "metadata": {},
   "source": [
    "1. copy the whole adjacency list as G2\n",
    "```\n",
    "for u in every vertex V:\n",
    "    for i in adj[u]:\n",
    "        add adj[i] to G2[u]\n",
    "```\n",
    "    \n",
    "The running time is O(EV) because foe every edge in Adj we scan at most V vertices.\n",
    "2. direct multiplication: with Strassen's algorithsm the running time can be at most $O(V^{\\lg 2.7})$"
   ]
  },
  {
   "cell_type": "markdown",
   "metadata": {},
   "source": [
    "**22.1-6<br> Most graph algorithms that take an adjacency-matrix representation as input require time $\\Omega (V^2)$, but there are some expections. Show how ot determine whether a directed graph $G$ contains a *universal sink*-a vertex with in-degree $|V|-1$ and out-degree $0$- in time $O(V)$, given an adjacency matrix of $G$.**"
   ]
  },
  {
   "cell_type": "markdown",
   "metadata": {},
   "source": [
    "1. Compute the sum array $k$ of all $|V|$ rows along the matrix axis: takes $\\Omega (V)$ time\n",
    "2. Take $O(V)$ time\n",
    "```\n",
    "universal_sink=[]\n",
    "For i in k:\n",
    "    if i==V-1: # time O(1)\n",
    "        if adj[i][i]==0: # time O(1)\n",
    "            universal_sink.append(i)\n",
    "```\n",
    "Altogether the algorithm takes $O(V)$ time\n",
    "            "
   ]
  },
  {
   "cell_type": "markdown",
   "metadata": {},
   "source": [
    "**22.1-7<br>The *incidence matrix* of a directed graph $G=(V,E)$ with no self-loops is a $|V|\\times |E|$ matrix $B=(b_{ij})$ such that**\n",
    "\n",
    "$$\n",
    "\\begin{align}\n",
    "b_{ij}=\\left\\{\n",
    "        \\begin{array}{ll}\n",
    "        -1 &\\text{if edge j leaves vertex i} \\\\\n",
    "        1 &\\text{if edge j enters vertex i} \\\\\n",
    "        0 &\\text{otherwise}\n",
    "        \\end{array}       \n",
    "        \\right.\n",
    "\\end{align}\n",
    "$$\n",
    "\n",
    "**Describe what the entries of the matrix product $BB^T$ represent, where $B^T$ is the transpose of $B$.**"
   ]
  },
  {
   "cell_type": "code",
   "execution_count": null,
   "metadata": {},
   "outputs": [],
   "source": []
  }
 ],
 "metadata": {
  "kernelspec": {
   "display_name": "Python 3",
   "language": "python",
   "name": "python3"
  },
  "language_info": {
   "codemirror_mode": {
    "name": "ipython",
    "version": 3
   },
   "file_extension": ".py",
   "mimetype": "text/x-python",
   "name": "python",
   "nbconvert_exporter": "python",
   "pygments_lexer": "ipython3",
   "version": "3.8.3"
  }
 },
 "nbformat": 4,
 "nbformat_minor": 4
}
