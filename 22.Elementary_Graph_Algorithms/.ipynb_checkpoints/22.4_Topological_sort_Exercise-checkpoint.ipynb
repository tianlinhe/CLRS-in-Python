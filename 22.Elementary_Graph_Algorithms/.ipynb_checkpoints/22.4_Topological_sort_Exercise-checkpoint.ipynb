{
 "cells": [
  {
   "cell_type": "markdown",
   "metadata": {},
   "source": [
    "**22.4-1<br>Shows the ordering of vertices proced by TOPOLOGICAL-SORT when it is run on the dag of Figure 22.8, under the assumption of Exercise 22.3-2**\n",
    "\n",
    "1. convert Figure 22.8 to a adjacency list\n",
    "2. add a `python deque` (line 9) to store the sorted list\n",
    "3. A vertex which is fully explored (coloured black) is appended at the left of the list (line 24)"
   ]
  },
  {
   "cell_type": "code",
   "execution_count": 21,
   "metadata": {},
   "outputs": [],
   "source": [
    "from collections import deque\n",
    "def topological_sort(G):\n",
    "    global time # time is a global varaible, it is accumulative\n",
    "    time=0\n",
    "    colour={i:'white' for i in G} # initial colour of all vertices are white\n",
    "    t_discover={}\n",
    "    t_finish={}\n",
    "    predecessor={}\n",
    "    sorted_list=deque() # to store the sorted list\n",
    "    for u in G:\n",
    "        if colour[u]=='white':\n",
    "            dfs_visit(G, u, colour, t_discover,t_finish,predecessor,sorted_list) #recursion\n",
    "    return sorted_list,t_discover, t_finish\n",
    "\n",
    "def dfs_visit(G, u, colour, t_discover,t_finish,predecessor,sorted_list):\n",
    "    global time\n",
    "    time+=1\n",
    "    t_discover[u]=time # a white vertex is discovered\n",
    "    colour[u]='grey' # and coloured to grey\n",
    "    for v in G[u]:\n",
    "        if colour[v]=='white':\n",
    "            predecessor[v]=u\n",
    "            dfs_visit(G, v, colour, t_discover,t_finish,predecessor,sorted_list)\n",
    "    sorted_list.appendleft(u) # a vertex fully explored is appended on the left of the list\n",
    "    colour[u]='black'\n",
    "    time+=1\n",
    "    t_finish[u]=time "
   ]
  },
  {
   "cell_type": "code",
   "execution_count": 44,
   "metadata": {},
   "outputs": [
    {
     "data": {
      "text/plain": [
       "(deque(['p', 'n', 'o', 's', 'm', 'r', 'y', 'v', 'x', 'w', 'z', 'u', 'q', 't']),\n",
       " {'m': 1,\n",
       "  'q': 2,\n",
       "  't': 3,\n",
       "  'r': 6,\n",
       "  'u': 7,\n",
       "  'y': 9,\n",
       "  'v': 10,\n",
       "  'w': 11,\n",
       "  'z': 12,\n",
       "  'x': 15,\n",
       "  'n': 21,\n",
       "  'o': 22,\n",
       "  's': 23,\n",
       "  'p': 27},\n",
       " {'t': 4,\n",
       "  'q': 5,\n",
       "  'u': 8,\n",
       "  'z': 13,\n",
       "  'w': 14,\n",
       "  'x': 16,\n",
       "  'v': 17,\n",
       "  'y': 18,\n",
       "  'r': 19,\n",
       "  'm': 20,\n",
       "  's': 24,\n",
       "  'o': 25,\n",
       "  'n': 26,\n",
       "  'p': 28})"
      ]
     },
     "execution_count": 44,
     "metadata": {},
     "output_type": "execute_result"
    }
   ],
   "source": [
    "# The adjacency list is Figure 22.8\n",
    "G={'m':['q','r','x'],\n",
    "  'n':['o','q','u'],\n",
    "  'o':['r','s','v'],\n",
    "  'p':['o','s','z'],\n",
    "  'q':['t'],\n",
    "  'r':['u','y'],\n",
    "  's':['r'],\n",
    "  't':[],\n",
    "  'u':['t'],\n",
    "  'v':['w','x'],\n",
    "  'w':['z'],\n",
    "  'x':[],\n",
    "  'y':['v'],\n",
    "  'z':[]}\n",
    "topological_sort(G) "
   ]
  },
  {
   "cell_type": "markdown",
   "metadata": {},
   "source": [
    "**22.4-2<br>Give a linear-time algorithm that takes as input a directed acyclic graph $G=(V,E)$ and two vertices $s$ and $t$, and returns the number of simple paths from $s$ to $t$ in $G$. For example, the directed acyclic graph of Figure 22.8 contains exactly four simple paths from vertex $p$ to vertex $v$: $pov$, $poryv$, and $psryv$. (Your algorithm needs only to count the simple paths, not list them.)**\n",
    "\n",
    "The following recursive procedure `count_paths_aux` performs a dfs-like search with vertex $u$ as pivot:\n",
    "* it searches the adjacency list of $u$ **recursively** (line 8 and 9)\n",
    "* if it encounters $v$ (line 5), the search ends and increments `npath` by 1\n",
    "* Note that `npath` is an external counter which starts from $0$, that's why we need two separate function, `count_paths` and `count_paths_aux`.\n",
    "\n",
    "*Why it takes linear-time?"
   ]
  },
  {
   "cell_type": "code",
   "execution_count": 45,
   "metadata": {},
   "outputs": [
    {
     "data": {
      "text/plain": [
       "4"
      ]
     },
     "execution_count": 45,
     "metadata": {},
     "output_type": "execute_result"
    }
   ],
   "source": [
    "def count_paths(G,u,v):\n",
    "    npath=0\n",
    "    return count_paths_aux(G,u,v,npath)\n",
    "def count_paths_aux(G,u,v,npath):\n",
    "    if u==v:\n",
    "        npath+=1\n",
    "    else:\n",
    "        for w in G[u]:\n",
    "            npath=count_paths_aux(G,w,v,npath)\n",
    "    return npath\n",
    "count_paths(G,'p','v')"
   ]
  },
  {
   "cell_type": "code",
   "execution_count": null,
   "metadata": {},
   "outputs": [],
   "source": []
  }
 ],
 "metadata": {
  "kernelspec": {
   "display_name": "Python 3",
   "language": "python",
   "name": "python3"
  },
  "language_info": {
   "codemirror_mode": {
    "name": "ipython",
    "version": 3
   },
   "file_extension": ".py",
   "mimetype": "text/x-python",
   "name": "python",
   "nbconvert_exporter": "python",
   "pygments_lexer": "ipython3",
   "version": "3.8.3"
  }
 },
 "nbformat": 4,
 "nbformat_minor": 4
}
