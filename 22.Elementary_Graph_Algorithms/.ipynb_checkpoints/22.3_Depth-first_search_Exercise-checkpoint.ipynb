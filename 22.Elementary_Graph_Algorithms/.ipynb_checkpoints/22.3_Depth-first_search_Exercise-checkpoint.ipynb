{
 "cells": [
  {
   "cell_type": "markdown",
   "metadata": {},
   "source": [
    "**22.3.7<br>Rewrite the procedure DFS, using a stack to eliminate recursion.**"
   ]
  },
  {
   "cell_type": "code",
   "execution_count": 5,
   "metadata": {},
   "outputs": [
    {
     "data": {
      "text/plain": [
       "({'q': 'black',\n",
       "  'r': 'black',\n",
       "  's': 'black',\n",
       "  't': 'black',\n",
       "  'w': 'black',\n",
       "  'u': 'black',\n",
       "  'v': 'black',\n",
       "  'x': 'black',\n",
       "  'y': 'black',\n",
       "  'z': 'black'},\n",
       " {'q': 1,\n",
       "  's': 2,\n",
       "  't': 3,\n",
       "  'w': 4,\n",
       "  'x': 5,\n",
       "  'z': 6,\n",
       "  'y': 10,\n",
       "  'v': 13,\n",
       "  'r': 17,\n",
       "  'u': 18},\n",
       " {'z': 7,\n",
       "  'x': 8,\n",
       "  'w': 9,\n",
       "  'y': 11,\n",
       "  't': 12,\n",
       "  'v': 14,\n",
       "  's': 15,\n",
       "  'q': 16,\n",
       "  'u': 19,\n",
       "  'r': 20},\n",
       " {'s': 'q',\n",
       "  't': 'q',\n",
       "  'w': 'q',\n",
       "  'x': 'w',\n",
       "  'z': 'x',\n",
       "  'y': 't',\n",
       "  'v': 's',\n",
       "  'u': 'r'})"
      ]
     },
     "execution_count": 5,
     "metadata": {},
     "output_type": "execute_result"
    }
   ],
   "source": [
    "def dfs(G):\n",
    "    #global time # time is a global varaible, it is accumulative\n",
    "    time=0\n",
    "    colour={i:'white' for i in G} # initial colour of all vertices are white\n",
    "    t_discover={}\n",
    "    t_finish={}\n",
    "    predecessor={}\n",
    "    S=[] #create an empty stack S\n",
    "    \n",
    "    \"\"\"if there exists any vertex i, whose colour is white, do dfs\"\"\"\n",
    "    for i in G: \n",
    "        if colour[i]=='white':\n",
    "            time+=1\n",
    "            t_discover[i]=time\n",
    "            colour[i]='grey'\n",
    "            S.append(i) # S.push(i)\n",
    "            while S: # while S is not empty\n",
    "                u=S[-1] # u=S.top() to examine the most recently added vertex u\n",
    "                uisBlack=True\n",
    "                \n",
    "                for v in G[u]:\n",
    "                    if colour[v]=='white':\n",
    "                        time+=1\n",
    "                        t_discover[v]=time\n",
    "                        colour[v]='grey'\n",
    "                        predecessor[v]=u\n",
    "                        S.append(v) # S.push(i)\n",
    "                        uisBlack=False\n",
    "                        \n",
    "                \"\"\"u will be coloured iff no inner for v in G[u] is run\n",
    "                i.e. all children from v are non-white\"\"\" \n",
    "                \n",
    "                if uisBlack:         \n",
    "                    time+=1\n",
    "                    t_finish[u]=time\n",
    "                    colour[u]='black'\n",
    "                    S.pop() # S.pop() to delete u, the black vertex from S\n",
    "        \n",
    "    return colour, t_discover, t_finish, predecessor\n",
    "G3={'q':['s','t','w'],\n",
    "    'r':['u'],\n",
    "    's':['v'],\n",
    "    't':['x','y'],\n",
    "    'w':['s','t','x'],\n",
    "    'u':['y'],\n",
    "    'v':['w'],\n",
    "    'x':['z'],\n",
    "    'y':['q'],\n",
    "    'z':['x']}\n",
    "dfs(G3)"
   ]
  },
  {
   "cell_type": "code",
   "execution_count": null,
   "metadata": {},
   "outputs": [],
   "source": []
  }
 ],
 "metadata": {
  "kernelspec": {
   "display_name": "Python 3",
   "language": "python",
   "name": "python3"
  },
  "language_info": {
   "codemirror_mode": {
    "name": "ipython",
    "version": 3
   },
   "file_extension": ".py",
   "mimetype": "text/x-python",
   "name": "python",
   "nbconvert_exporter": "python",
   "pygments_lexer": "ipython3",
   "version": "3.8.3"
  }
 },
 "nbformat": 4,
 "nbformat_minor": 4
}
