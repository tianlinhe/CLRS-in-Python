{
 "cells": [
  {
   "cell_type": "markdown",
   "metadata": {},
   "source": [
    "**22.1-1<br>Given an adjacency-list representation of a directed graph, hos long does it take to compute the out-degree of every vertex? How long does it take to compute the in-degrees?**\n",
    "* out-degree of a vertex: number of arcs pointing out from a vertex\n",
    "* in-degree of a vertex: number of arcs pointing in to a vertex"
   ]
  },
  {
   "cell_type": "markdown",
   "metadata": {},
   "source": []
  }
 ],
 "metadata": {
  "kernelspec": {
   "display_name": "Python 3",
   "language": "python",
   "name": "python3"
  },
  "language_info": {
   "codemirror_mode": {
    "name": "ipython",
    "version": 3
   },
   "file_extension": ".py",
   "mimetype": "text/x-python",
   "name": "python",
   "nbconvert_exporter": "python",
   "pygments_lexer": "ipython3",
   "version": "3.8.3"
  }
 },
 "nbformat": 4,
 "nbformat_minor": 4
}
