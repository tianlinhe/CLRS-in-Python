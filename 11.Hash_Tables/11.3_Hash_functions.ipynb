{
 "cells": [
  {
   "cell_type": "markdown",
   "metadata": {},
   "source": [
    "# Hash functions\n",
    "A good hash functions stisfies approximately the assumption of **simple uniform hashing**:  each key is **equally likely** to hash to any of the $m$ slots, independently of where any other key has hashed to. Three hash functions were described in the books, they are:\n",
    "* The division method\n",
    "* The Multiplication method\n",
    "* Universal hashing based on randomisation of multiple hash functions\n",
    "\n",
    "## Interpreting keys as natural numbers\n",
    "Because most hash functions assumw the the universe of keys is the set $\\mathbb{N} = \\{0,1,2,...\\}$ of natural numbers, we find ways to interpret keys as natural numbers if they are not. If we are given a character string:\n",
    "1. We can express a single alphabet with an integer according to the [ASCII character set](https://en.wikipedia.org/wiki/ASCII)\n",
    "2. Using the [radix notation](https://en.wikipedia.org/wiki/Radix), we can interpret a character string composed of multiple alphabets with the ASCII integers\n",
    "3. One can choose the **base** in radix notation. For example, the **radix-128** integer of $(112,116)$ equals to $112\\times128^1+116\\times128^0=14452$\n",
    "\n",
    "### In Python:\n",
    "* We can convert an alphbet to an ASCII integer with the built-in `ord()` function\n",
    "* The **radix-128** integer can be computed based on loop\n",
    "\n",
    "Examplary codes as follows:"
   ]
  },
  {
   "cell_type": "code",
   "execution_count": 1,
   "metadata": {},
   "outputs": [
    {
     "data": {
      "text/plain": [
       "14452"
      ]
     },
     "execution_count": 1,
     "metadata": {},
     "output_type": "execute_result"
    }
   ],
   "source": [
    "def radix_p(l,p=128): #default p=128\n",
    "    \"\"\"step 1: convert string to ASCII\"\"\"\n",
    "    to_ascii=[ord(i) for i in l]\n",
    "    \n",
    "    \"\"\"step 2: unite multiple ASCII integers to an integer with radix of base p\"\"\"\n",
    "    to_radix=0\n",
    "    for i in range(len(to_ascii)):\n",
    "        \n",
    "        to_radix=to_radix*p+to_ascii[i]\n",
    "    return to_radix\n",
    "\n",
    "example='pt'\n",
    "radix_p(example)"
   ]
  },
  {
   "cell_type": "markdown",
   "metadata": {},
   "source": [
    "## The division method: $h(k)=k\\: mod\\: m$\n",
    "It is a straghtforward way to mao a key $k$ into one of $m$ slots by taking the remainder of $k$ divided by $m$. There are nonetheless some ways of choosing $m$:\n",
    "* $m$ should not be a power of 2. Otherwise, $h(k)$ is equivalent to p-left lowest digit of $k$, whose distribution pattern we are not sure of\n",
    "* For similar reason, $m=2^p-1$ should also be avoided (*Exc. 11.3*)\n",
    "* Recommendation: **a prime not too close to the power of 2**\n",
    "\n",
    "## The multiplication method: $h(k)=\\lfloor m(kA\\:mod\\: 1)\\rfloor$\n",
    "1. We multiply the key $k$ with $A$ in the range $0<A<1$\n",
    "2. We extract the **frictinoal part** of $kA$\n",
    "3. We multiply the value in 2 by $m$ and take the **largest integer smaller than it** (i.e. floor)\n",
    "\n",
    "Although the multiplication method works for any $A$, but some A works better. For example, Knuth suggests that $A\\approx(\\sqrt{5}-1)/2$ is  a good choice.\n",
    "### In Python:\n",
    "The implementation of these two methods is trivial:"
   ]
  },
  {
   "cell_type": "code",
   "execution_count": 11,
   "metadata": {},
   "outputs": [
    {
     "data": {
      "text/plain": [
       "67"
      ]
     },
     "execution_count": 11,
     "metadata": {},
     "output_type": "execute_result"
    }
   ],
   "source": [
    "\"\"\"The division method:\"\"\"\n",
    "def h_div(k,m):\n",
    "    return k%m # % is the symbol for modulation\n",
    "h_div(21,10)\n",
    "\n",
    "\"\"\"The multiplication method:\"\"\"\n",
    "import numpy as np\n",
    "import math\n",
    "A_knuth=(np.sqrt(5)-1)/2 #A from Knuth\n",
    "def h_mul(k,m,A=A_knuth): #default as A= A from Knuth\n",
    "    return int((k*A-int(k*A))*m) #int(x) is equal to the floor of x if x>=0\n",
    "h_mul(123456,16384)    \n",
    "    "
   ]
  },
  {
   "cell_type": "markdown",
   "metadata": {},
   "source": [
    "## Universal hashing\n",
    "The key idea is to avoid worst-case behavior caused by a single hash function by **randomisation** from a class of hash functions. In universal hashing, a hash function is chosen each time **randomly** such that it is **independent** of the keys that are actually going to be stored. It yields stable and provable *average-case* performance no matter how the keys were chosen.\n",
    "\n",
    "### By definition:\n",
    "* $\\mathscr{H}$ is a finite collection  of hash functions that map a universe $U$ of keys into the range $\\{0,1,...,m-1\\}$\n",
    "* A hash function $h$ is randomly chosen from $\\mathscr{H}$ to hash two distinct keys $k$ and $l$\n",
    "* The chance of $h(k)=h(l)$ is **no more than $1/m$**\n",
    "\n",
    "### Performance:\n",
    "We can prove that:\n",
    "* If the key $k$ is not in the table, the expected length of $T[h(k)]$ that it hashes to is at most the load factor $\\alpha=n/m$\n",
    "* If the key $k$ is in the table, the expected length of $T[h(k)]$ is at most $1+\\alpha$\n",
    "\n",
    "which implies that with the use of universal hashing and chaining (to resolve collision), it takes expected time $\\Theta(n)$ to handle any sequence of $n$ INSERT, SEARCH, and DELETE operations containing $O(m)$ INSERT operations. \n",
    "\n",
    "### Disigning a universal class of hash functions\n",
    "1. We choose a large prime number $p$ so that every possible key $k$ is in the range of 0 to $p-1$.\n",
    "2. Let $\\mathbb{Z}_p$ denotes the set $\\{0,1,...p-1\\}$, $\\mathbb{Z}_p^*$ denotes the set $\\{1,...p-1\\}$\n",
    "3. Hash function $h_{ab}$ can be defined as:\n",
    "\n",
    "<center>\n",
    "$h_{ab}=((ak+b)\\:mod\\:p)\\:mod\\:m$ \n",
    "<br>where $a\\in\\mathbb{Z}_p^*$, $b\\in\\mathbb{Z}_p$\n",
    "</center>\n",
    "\n",
    "The family of all such hash functions is $\\mathscr{H}_{ab}=\\{h_{ab}:a\\in\\mathbb{Z}_p^*$ and $b\\in\\mathbb{Z}_p\\}$, which contains $p(p-1)$ hash functions.\n",
    "#### In Python:\n",
    "* Universal hashing can be achieved using [numpy.random.choice](https://het.as.utexas.edu/HET/Software/Numpy/reference/generated/numpy.random.choice.html) as followings:"
   ]
  },
  {
   "cell_type": "code",
   "execution_count": 23,
   "metadata": {},
   "outputs": [
    {
     "name": "stdout",
     "output_type": "stream",
     "text": [
      "a: 7\n",
      "b: 4\n"
     ]
    },
    {
     "data": {
      "text/plain": [
       "4"
      ]
     },
     "execution_count": 23,
     "metadata": {},
     "output_type": "execute_result"
    }
   ],
   "source": [
    "import numpy as np\n",
    "def h_ab(k,p,m):\n",
    "    a=np.random.choice(np.arange(1,p))\n",
    "    b=np.random.choice(p)\n",
    "    print ('a:',a)\n",
    "    print ('b:',b)\n",
    "    return ((a*k+b)%p)%m\n",
    "h_ab(k=8,p=17,m=5)    "
   ]
  }
 ],
 "metadata": {
  "kernelspec": {
   "display_name": "Python 3",
   "language": "python",
   "name": "python3"
  },
  "language_info": {
   "codemirror_mode": {
    "name": "ipython",
    "version": 3
   },
   "file_extension": ".py",
   "mimetype": "text/x-python",
   "name": "python",
   "nbconvert_exporter": "python",
   "pygments_lexer": "ipython3",
   "version": "3.7.4"
  }
 },
 "nbformat": 4,
 "nbformat_minor": 2
}
