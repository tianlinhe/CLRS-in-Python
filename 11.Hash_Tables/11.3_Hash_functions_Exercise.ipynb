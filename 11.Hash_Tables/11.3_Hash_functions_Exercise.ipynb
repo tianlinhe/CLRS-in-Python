{
 "cells": [
  {
   "cell_type": "markdown",
   "metadata": {},
   "source": [
    "**11.3-2<br>Suppose that we hash a string of $r$ characcters into $m$ slots by treating it as a radix-128 number and then using the division method. We can easily represent the number $m$ as a 32-bit computer word, but the string of $r$ characters, treated as a radix-128 number, takes many words. How can we apply the division methos to compute the hash value of the character string without using more than a constant number of words of storage outside the string itself?**\n",
    "\n",
    "Given a string, we can express it a radix-128 integer $s$:\n",
    "\n",
    "$s=a_r\\bullet128^{r-1}+a_{r-1}\\bullet128^{r-2}+...+a_1\\bullet128^0$\n",
    "<br>$\\; =(m\\bullet q_r+r_r)+(m\\bullet q_{r-1}+r_{r-1})+...+(m\\bullet q_1+r_1)$\n",
    "<br>$\\; =m\\bullet (q_r+q_{r-1}+...+q_1)+(r_r+r_{r-1}+...+r_1)$\n",
    "<br>$\\; =m\\bullet (q_r+q_{r-1}+...+q_1)+(m\\bullet q*+r*)$\n",
    "<br>$\\; =m\\bullet (q_r+q_{r-1}+...+q_1+q*)+r*$\n",
    "<br>$\\Rightarrow s\\: mod \\: m=r*=[(a_r\\bullet128^{r-1})\\: mod \\: m+(a_{r-1}\\bullet128^{r-2})\\: mod\\: m+...+(a_1\\bullet128^0)\\: mod \\: m]\\: mod \\: m$\n",
    "\n",
    "This can be generalised as the **distributive property of modulo operations**, expressed as: $(a+b)\\:mod\\:m=[(a\\:mod\\:m)+(b\\:mod\\:m)]\\:mod\\:m$. Thus, we can show that for a two-digit string $s_1=(a\\bullet 128+b)$:\n",
    "\n",
    "$$\n",
    "\\begin{align*}\n",
    "s_1\\:mod\\:m=&[(a\\bullet 128)\\:mod\\:m +b\\:mod\\:m]\\:mod\\:m\\\\\n",
    "=&[(a+a+...+a)\\:mod\\:m +b\\:mod\\:m]\\:mod\\:m\\\\\n",
    "=&[(128\\bullet a\\:mod\\:m)\\:mod\\:m +b\\:mod\\:m]\\:mod\\:m\\\\\n",
    "=&[(128\\bullet a\\:mod\\:m) +b]\\:mod\\:m\\\\\n",
    "\\end{align*}\n",
    "$$\n",
    "\n",
    "In Python, the above equation allows us to compute $s\\:mod\\:m$ recursively by substituting $a$ with $s[i]$:\n",
    "```\n",
    "start=0\n",
    "for i in range(len(s)):\n",
    "    start=(start*128+s[i])%m\n",
    "```\n",
    "Function `h_new()` returns the same results as division method we defined in *11.3_Hash_functions.ipynb*; but it requires much shorter imtermediate string length (you can `print(to_radix)` inside the `for` loop).\n",
    "\n"
   ]
  },
  {
   "cell_type": "code",
   "execution_count": 15,
   "metadata": {},
   "outputs": [
    {
     "data": {
      "text/plain": [
       "37"
      ]
     },
     "execution_count": 15,
     "metadata": {},
     "output_type": "execute_result"
    }
   ],
   "source": [
    "\"\"\"convert m to 32-bit computer word, as requested by the question\"\"\"\n",
    "def bit(m):\n",
    "    if m==0:\n",
    "        return 0\n",
    "    elif m==1:\n",
    "        return 1\n",
    "    else:\n",
    "        n=1\n",
    "        while 2**n<=m: #find the largest n so that 2**n is smaller than m\n",
    "            n+=1 #recurse for m-2**n\n",
    "        return 10**(n-1)+bit(m-2**(n-1)) \n",
    "    \n",
    "\"\"\"compute h(s) directly, functions in 11.3_Hash_function.ipynb\"\"\"\n",
    "def radix_p(l,p=128): #default p=128\n",
    "    \"\"\"step 1: convert string to ASCII\"\"\"\n",
    "    to_ascii=[ord(i) for i in l]\n",
    "    \n",
    "    \"\"\"step 2: unite multiple ASCII integers to an integer with radix of base p\"\"\"\n",
    "    to_radix=0\n",
    "    for i in range(len(to_ascii)):\n",
    "        \n",
    "        to_radix=to_radix*p+to_ascii[i]\n",
    "    return to_radix\n",
    "def h_div(k,m):\n",
    "    return k%m\n",
    "\n",
    "\"\"\"compute h(s) by pseudocodes in 11.3-2\"\"\"\n",
    "def h_new(l,m):\n",
    "    to_ascii=[ord(i) for i in l]\n",
    "    to_radix=0\n",
    "    \n",
    "    for i in range(len(to_ascii)):\n",
    "        to_radix=(to_radix*128+to_ascii[i])%m\n",
    "        \n",
    "    return to_radix\n",
    "    \n",
    "s1='acdf'\n",
    "m=bit(7)\n",
    "\n",
    "\"\"\"compute h(s) directly, functions in 11.3_Hash_function.ipynb\"\"\"\n",
    "h_div(radix_p(s1),m)\n",
    "\"\"\"compute h(s) by pseudocodes in 11.3-2\"\"\"\n",
    "h_new(s1,m)\n"
   ]
  },
  {
   "cell_type": "markdown",
   "metadata": {},
   "source": [
    "**11.3-3<br>Consider a version of the division method in which $h(k))k\\: mod\\: m,$, where $m=2^p-1$ and $k$ is a character string interpreted in radix $2^p$. Show that if we can derive string $x$ from string $y$ by permuting its characters, then $x$ and $y$ hash to the same value.**\n",
    "\n",
    "We can prove that each string hashes to the sum of its digits when the hash function is $h(s)=s\\:mod\\:m$ with **mathematical induction on the length of string $s$**.\n",
    "* The proof is trivial when `len(s)==1`\n",
    "* We assume that the it is true for string $s_1$, whose length is $l_1$\n",
    "* Let $s=s_1s_2$, where $s_2$ is a single character string added to the right side of $s_1 \\Rightarrow len(s)=len(s_1)+1$\n",
    "$$\n",
    "\\begin{align*}\n",
    "s=&s_1\\bullet 2^p+s_2\\bullet 2^0\\\\\n",
    "s=&s_1\\bullet (2^p-1)+s_1+s_2\\\\\n",
    "h(s)&=[s_1\\bullet (2^p-1)+s_1+s_2]\\: mod\\:(2^p-1)\\\\\n",
    "&=(s_1+s_2)\\: mod\\:(2^p-1)\\\\\n",
    "\\end{align*}\n",
    "$$\n",
    "In Python, we can see it with the use of [itertools.permutations](https://docs.python.org/2/library/itertools.html). Remember that in this case, $m$ must be equal to $128-1$."
   ]
  },
  {
   "cell_type": "code",
   "execution_count": 21,
   "metadata": {
    "collapsed": true
   },
   "outputs": [
    {
     "name": "stdout",
     "output_type": "stream",
     "text": [
      "acdf\n",
      "17\n",
      "acfd\n",
      "17\n",
      "adcf\n",
      "17\n",
      "adfc\n",
      "17\n",
      "afcd\n",
      "17\n",
      "afdc\n",
      "17\n",
      "cadf\n",
      "17\n",
      "cafd\n",
      "17\n",
      "cdaf\n",
      "17\n",
      "cdfa\n",
      "17\n",
      "cfad\n",
      "17\n",
      "cfda\n",
      "17\n",
      "dacf\n",
      "17\n",
      "dafc\n",
      "17\n",
      "dcaf\n",
      "17\n",
      "dcfa\n",
      "17\n",
      "dfac\n",
      "17\n",
      "dfca\n",
      "17\n",
      "facd\n",
      "17\n",
      "fadc\n",
      "17\n",
      "fcad\n",
      "17\n",
      "fcda\n",
      "17\n",
      "fdac\n",
      "17\n",
      "fdca\n",
      "17\n"
     ]
    }
   ],
   "source": [
    "from itertools import permutations as ip\n",
    "def allpermutations(l):\n",
    "    return [''.join(i) for i in ip(l,len(l))]\n",
    "for item in allpermutations(s1):\n",
    "    print (item)\n",
    "    #print (h_div(radix_p(item),m-1))\n",
    "    print (h_new(item,m=128-1))\n"
   ]
  },
  {
   "cell_type": "markdown",
   "metadata": {},
   "source": [
    "**11.3-4<br>Consider a hash table of size $m=1000$ and a corresponding hash function $h(k)=\\lfloor m(kA\\:mod\\: 1)\\rfloor$ for $A=(\\sqrt{5}-1)/2$. Compute the locations to which the keys $61,62,63,64,$ and $65$ are mapped.**\n",
    "* Use the function `h_mul()` defined in *11.3_Hash_funcions.ipynb*"
   ]
  },
  {
   "cell_type": "code",
   "execution_count": 22,
   "metadata": {},
   "outputs": [
    {
     "data": {
      "text/plain": [
       "700"
      ]
     },
     "execution_count": 22,
     "metadata": {},
     "output_type": "execute_result"
    }
   ],
   "source": [
    "\"\"\"The multiplication method:\"\"\"\n",
    "import numpy as np\n",
    "import math\n",
    "A_knuth=(np.sqrt(5)-1)/2 #A from Knuth\n",
    "def h_mul(k,m,A=A_knuth): #default as A= A from Knuth\n",
    "    return int((k*A-int(k*A))*m) #int(x) is equal to the floor of x if x>=0\n",
    "h_mul(61,m=1000) "
   ]
  }
 ],
 "metadata": {
  "kernelspec": {
   "display_name": "Python 3",
   "language": "python",
   "name": "python3"
  },
  "language_info": {
   "codemirror_mode": {
    "name": "ipython",
    "version": 3
   },
   "file_extension": ".py",
   "mimetype": "text/x-python",
   "name": "python",
   "nbconvert_exporter": "python",
   "pygments_lexer": "ipython3",
   "version": "3.7.4"
  }
 },
 "nbformat": 4,
 "nbformat_minor": 2
}
