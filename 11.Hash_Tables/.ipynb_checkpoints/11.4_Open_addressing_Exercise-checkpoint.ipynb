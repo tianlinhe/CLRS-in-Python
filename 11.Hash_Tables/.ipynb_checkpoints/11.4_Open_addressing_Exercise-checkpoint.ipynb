{
 "cells": [
  {
   "cell_type": "markdown",
   "metadata": {},
   "source": [
    "**11.4-1<br> Consider inserting the keys $10, 22, 31, 4, 15, 28, 17, 88, 59$ into a hash table of length $m=11$ uisng open addressing with the auxiliary hash function $h'(k)=k$. Illustrate the result of inserting thesse keys using linear probing, using quadratic probing wiht $c_1=1$ and $c_2=3$, and using the double hashing with $h_1(k)=k$ and $h2(k)=1+(k\\:mod\\:(m-1))$**\n",
    "\n",
    "The following codes:\n",
    "1. Create three tables $x1, x2, x3$\n",
    "2. Insert the keys into them with linear probling, quadratic probing and double hashing respectively\n",
    "3. `print_table` print the keys in tables"
   ]
  },
  {
   "cell_type": "code",
   "execution_count": 7,
   "metadata": {},
   "outputs": [
    {
     "name": "stdout",
     "output_type": "stream",
     "text": [
      "[22, 88, None, None, 4, 15, 28, 17, 59, 31, 10]\n",
      "[22, None, 88, 17, 4, None, 28, 59, 15, 31, 10]\n",
      "[22, None, 59, 17, 4, 15, 28, 88, None, 31, 10]\n"
     ]
    }
   ],
   "source": [
    "class OpenT:\n",
    "    def __init__(self,m):#m = no. slots in table\n",
    "        self.array=[None]*m\n",
    "        self.m=m\n",
    "        \n",
    "    def linear_prob(self,k,i): \n",
    "        return (k+i)%self.m\n",
    "    \n",
    "    def quadratic_prob(self,k,i):\n",
    "        c1=1\n",
    "        c2=3\n",
    "        return (k+c1*i+c2*i**2)%self.m\n",
    "    \n",
    "    def double_hash(self,k,i):\n",
    "        h1=k\n",
    "        h2=1+k%(self.m-1)\n",
    "        return (h1+i*h2)%self.m\n",
    "\n",
    "    def hash_insert(self,k,method):\n",
    "        i=0\n",
    "        while i!=self.m:\n",
    "            if method=='linear':\n",
    "                j=self.linear_prob(k,i)\n",
    "            elif method=='quadratic':\n",
    "                j=self.quadratic_prob(k,i)\n",
    "            elif method=='double':\n",
    "                j=self.double_hash(k,i)\n",
    "                \n",
    "            if self.array[j] is None:\n",
    "                self.array[j]=k\n",
    "                return j\n",
    "            else:\n",
    "                i+=1\n",
    "        \n",
    "        print ('hash table overflows')\n",
    "        return\n",
    "    \n",
    "    def print_table(self):\n",
    "        print (self.array)\n",
    "        \n",
    "            \n",
    "        \n",
    "x1=OpenT(m=11)\n",
    "x2=OpenT(m=11)\n",
    "x3=OpenT(m=11)\n",
    "arr1=[10, 22, 31, 4, 15, 28, 17, 88, 59]\n",
    "for item in arr1:\n",
    "    x1.hash_insert(item,method='linear')\n",
    "    x2.hash_insert(item,method='quadratic')\n",
    "    x3.hash_insert(item,method='double')\n",
    "x1.print_table()\n",
    "x2.print_table()\n",
    "x3.print_table()\n",
    "    \n",
    "    "
   ]
  },
  {
   "cell_type": "markdown",
   "metadata": {},
   "source": [
    "**11.4-2<br>Write pseudocode for HASH-DELETE as outlined in the text, and modify HASH-INSERT to handle the special value DELETED.**"
   ]
  },
  {
   "cell_type": "code",
   "execution_count": null,
   "metadata": {},
   "outputs": [],
   "source": [
    "class OP:\n",
    "    def __init__(self,m):#m = no. slots in table\n",
    "        self.array=[None]*m\n",
    "        self.m=m\n",
    "    def h_linear(self,k,i): \n",
    "        \n",
    "        return (k%self.m+i)%self.m\n",
    "    def hash_insert(self,k):\n",
    "        i=0\n",
    "        while i!=self.m:\n",
    "            j=self.h_linear(k,i)\n",
    "            if self.array[j] is None or self.array[j]=='deleted':\n",
    "                self.array[j]=k\n",
    "                return j\n",
    "            else:\n",
    "                i+=1\n",
    "        \n",
    "        print ('hash table overflows')\n",
    "        return\n",
    "        \n",
    "    def hash_search(self,k):\n",
    "        i=0\n",
    "\n",
    "        while i!=self.m:\n",
    "            j=self.h_linear(k,i)\n",
    "            \n",
    "            \"\"\"case 1: key is found terminates loop\"\"\"\n",
    "            if self.array[j]==k: \n",
    "                return j\n",
    "            \n",
    "                \"\"\"case 2: search finds an empty slot, the search it unsuccessful terminates loop\"\"\"\n",
    "            elif self.array[j] is None: \n",
    "                print ('k not found in T')\n",
    "                return\n",
    "            \n",
    "            else:\n",
    "                i+=1\n",
    "                \n",
    "        \"\"\"case 3: the list is full, we search the entire list but k cannot be found\"\"\"\n",
    "        print ('k not found in T')\n",
    "        return\n",
    "    \n",
    "    def hash_delete(self,k):\n",
    "        try:\n",
    "            self.array[self.hash_search(k)]='deleted'\n",
    "        except TypeError:\n",
    "            print ('k not found in T, cannot be deleted')\n",
    "        \n",
    "            \n",
    "        \n",
    "x1=OP(m=5) \n",
    "x1.hash_insert(8)\n",
    "x1.hash_insert(18)\n",
    "x1.hash_insert(28)\n",
    "x1.hash_delete(20)\n",
    "x1.hash_search(28)#return 0\n",
    "x1.hash_search(18)#'k not found in T'\n",
    "x1.hash_search(8)# return 3"
   ]
  },
  {
   "cell_type": "markdown",
   "metadata": {},
   "source": [
    "**11.4-3<br>Consider an open-address hash table with uniform hashing. Give upper bounds on the expected number of probes in an unsuccessful search and on the expected number of probes in a successful search when the load factor is $3/4$ and when it is $7/8$.**\n",
    "\n",
    "1. When $\\alpha =3/4$:\n",
    "    <br> $E[x]=1/(1-3/4)=4$ for unsuccessful search;\n",
    "    <br> $E[x]=1/(3/4)ln4=1.85$ for successful search.\n",
    "2. When $\\alpha =7/8$:\n",
    "    <br> $E[x]=1/(1-7/8)=8$ for unsuccessful search;\n",
    "    <br> $E[x]=1/(7/8)ln8=2.38$ for successful search."
   ]
  },
  {
   "cell_type": "markdown",
   "metadata": {},
   "source": [
    "**11.4-4 $\\star$<br>Suppose that we use double hashing to resolve collisions, that is, we use the hash function $h(k,i)=(h_1(k)+ih_2(k))\\:mod\\: m$. Show that if $m$ and $h_2(k)$ have greatest common divisor $d\\geq 1$ for some key $k$, then an unsuccessful search for key $k$ examines $(1/d)th$ of the hash table before returning to slot $h_1(k)$. Thus, when $d=1$, so that $m$ and $h_2(k)$ are relatively prime, the search my examine the entire hash table.** (*Hint*: See Chapter 31)"
   ]
  },
  {
   "cell_type": "markdown",
   "metadata": {},
   "source": [
    "**11.4-5 $\\star$<br>Consider an open-address hash table with a load factor $\\alpha$. Find the nonzero value $\\alpha$ for which the expected mu,ner of probes in an successful search equals twice the expected number of probes in a successful search. Use the upper bounds given by Theorems 11.6 and 11.8 for these expected numbers of probes.** "
   ]
  }
 ],
 "metadata": {
  "kernelspec": {
   "display_name": "Python 3",
   "language": "python",
   "name": "python3"
  },
  "language_info": {
   "codemirror_mode": {
    "name": "ipython",
    "version": 3
   },
   "file_extension": ".py",
   "mimetype": "text/x-python",
   "name": "python",
   "nbconvert_exporter": "python",
   "pygments_lexer": "ipython3",
   "version": "3.7.4"
  }
 },
 "nbformat": 4,
 "nbformat_minor": 2
}
