{
 "cells": [
  {
   "cell_type": "markdown",
   "metadata": {},
   "source": [
    "## 24.1 The Bellman-Ford algorithm\n",
    "Bellman-Ford Algorithm computes the single-source shortest path of a weighted, directed graph.\n",
    "* It returns `False` if there exists negative weight cycles\n",
    "* The running time is $O(VE)$\n",
    "\n",
    "Bellman-Ford is **dynamic programming**, because it calculates the shortest paths in a bottom-up manner:\n",
    "* It first calculates the shortest distances for the shortest paths which have at-most one edge in the path and stores it. \n",
    "* Then, it calculates shortest paths with at-most 2 edges, and so on.\n",
    "* After the $i^{th}$ iteration of outer loop, the shortest paths with at most $i-1$ edges are calculated. We know that the shortest path can have maximum $i-1$ edge (passing all vertices once)\n",
    "\n",
    "The codes below execute the Bellman-Ford algorithm on a weighted, directed graph $G$ with weight function $w$ from source `s` in **Figure 24.4**.\n",
    "<img src=\"img/fig24.4.png\">"
   ]
  },
  {
   "cell_type": "code",
   "execution_count": 8,
   "metadata": {},
   "outputs": [],
   "source": [
    "def initialize_single_source(G,s):\n",
    "    # assign attribute d for each vertex for inf, except for s\n",
    "    global D\n",
    "    D={k:10000 for k in G}\n",
    "    D[s]=0\n",
    "    \n",
    "    # assign attribute pi for each vertex\n",
    "    # now none of the vertex has a parent\n",
    "    global PI\n",
    "    PI={}    \n",
    "    return D, PI\n",
    "def relax(u,v,w):\n",
    "    # given that variable D and PI are defined\n",
    "    if D[v]>D[u]+w[u][v]:\n",
    "        D[v]=D[u]+w[u][v]\n",
    "        PI[v]=u \n",
    "def bellman_ford(G,s,w):\n",
    "    \"\"\"G: directed graph, a dict of lists\n",
    "    s: source vertex\n",
    "    w: weight function of G, a nested dict\n",
    "    \"\"\"\n",
    "    initialize_single_source(G,s)\n",
    "    for i in range(len(G)-1):\n",
    "        for u in w:\n",
    "            for v in w[u]:\n",
    "                relax(u,v,w)\n",
    "        #print ('pass=',i,D,PI)\n",
    "    # check for negative cycles\n",
    "    for u in w:\n",
    "        for v in w[u]:\n",
    "            if D[v]>D[u]+w[u][v]:\n",
    "                return False\n",
    "    return D, PI"
   ]
  },
  {
   "cell_type": "code",
   "execution_count": 10,
   "metadata": {},
   "outputs": [
    {
     "data": {
      "text/plain": [
       "({'s': 0, 't': 2, 'x': 4, 'y': 7, 'z': -2},\n",
       " {'z': 't', 't': 'x', 'x': 'y', 'y': 's'})"
      ]
     },
     "execution_count": 10,
     "metadata": {},
     "output_type": "execute_result"
    }
   ],
   "source": [
    "G={'s':['t','y'],\n",
    "  't':['x','y','z'],\n",
    "  'x':['t'],\n",
    "  'y':['x','z'],\n",
    "  'z':['s']}\n",
    "# edges in w will be passed according to book\n",
    "w={'t':{'x':5,'y':8,'z':-4},\n",
    "  'x':{'t':-2},\n",
    "  'y':{'x':-3,'z':9},\n",
    "  'z':{'x':7,'s':2},\n",
    "    's':{'t':6,'y':7},}\n",
    "bellman_ford(G,'s',w)"
   ]
  }
 ],
 "metadata": {
  "kernelspec": {
   "display_name": "Python 3",
   "language": "python",
   "name": "python3"
  },
  "language_info": {
   "codemirror_mode": {
    "name": "ipython",
    "version": 3
   },
   "file_extension": ".py",
   "mimetype": "text/x-python",
   "name": "python",
   "nbconvert_exporter": "python",
   "pygments_lexer": "ipython3",
   "version": "3.8.3"
  }
 },
 "nbformat": 4,
 "nbformat_minor": 4
}
