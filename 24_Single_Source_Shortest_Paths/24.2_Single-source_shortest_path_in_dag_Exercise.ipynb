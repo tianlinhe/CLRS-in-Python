{
 "cells": [
  {
   "cell_type": "markdown",
   "metadata": {},
   "source": [
    "**24.2-1<br>Run DAG-SHORTEST-PATHS on the directed fraph of Figure 24.5, using vertex $r$ as the source.**"
   ]
  },
  {
   "cell_type": "code",
   "execution_count": 1,
   "metadata": {},
   "outputs": [],
   "source": [
    "from collections import deque\n",
    "def topological_sort(G):\n",
    "    global time # time is a global varaible, it is accumulative\n",
    "    time=0\n",
    "    colour={i:'white' for i in G} # initial colour of all vertices are white\n",
    "    t_discover={}\n",
    "    t_finish={}\n",
    "    predecessor={}\n",
    "    sorted_list=deque() # to store the sorted list\n",
    "    for u in G:\n",
    "        if colour[u]=='white':\n",
    "            dfs_visit_topo(G, u, colour, t_discover,t_finish,predecessor,sorted_list) #recursion\n",
    "    return sorted_list #,t_discover, t_finish\n",
    "\n",
    "def dfs_visit_topo(G, u, colour, t_discover,t_finish,predecessor,sorted_list):\n",
    "    global time\n",
    "    time+=1\n",
    "    t_discover[u]=time # a white vertex is discovered\n",
    "    colour[u]='grey' # and coloured to grey\n",
    "    for v in G[u]:\n",
    "        if colour[v]=='white':\n",
    "            predecessor[v]=u\n",
    "            dfs_visit_topo(G, v, colour, t_discover,t_finish,predecessor,sorted_list)\n",
    "    sorted_list.appendleft(u) # a vertex fully explored is appended on the left of the list\n",
    "    colour[u]='black'\n",
    "    time+=1\n",
    "    t_finish[u]=time \n",
    "def initialize_single_source(G,s):\n",
    "    # assign attribute d for each vertex for inf, except for s\n",
    "    global D\n",
    "    D={k:10000 for k in G}\n",
    "    D[s]=0\n",
    "    \n",
    "    # assign attribute pi for each vertex\n",
    "    # now none of the vertex has a parent\n",
    "    global PI\n",
    "    PI={}    \n",
    "    return D, PI\n",
    "def relax(u,v,w):\n",
    "    # given that variable D and PI are defined\n",
    "    if D[v]>D[u]+w[u][v]:\n",
    "        D[v]=D[u]+w[u][v]\n",
    "        PI[v]=u \n",
    "def dag_sssp(G,w,s):\n",
    "    \"\"\"sssp in a dag in linear time\n",
    "    G: adjacency list representation of DAG, a dictionary of list\n",
    "    w: weight functions of G, a nested dictionary\n",
    "    s: source\n",
    "    returns:\n",
    "    distance from s to every vertex in G\n",
    "    parent of every vertex on the sssp\n",
    "    \"\"\"\n",
    "    initialize_single_source(G,s)\n",
    "    \n",
    "    for u in topological_sort(G):\n",
    "        for v in G[u]:\n",
    "            relax(u,v,w)\n",
    "    return D, PI"
   ]
  },
  {
   "cell_type": "code",
   "execution_count": 2,
   "metadata": {},
   "outputs": [
    {
     "data": {
      "text/plain": [
       "({'r': 0, 's': 5, 't': 3, 'x': 10, 'y': 7, 'z': 5},\n",
       " {'s': 'r', 't': 'r', 'x': 't', 'y': 't', 'z': 't'})"
      ]
     },
     "execution_count": 2,
     "metadata": {},
     "output_type": "execute_result"
    }
   ],
   "source": [
    "G={'r':['s','t'],\n",
    "    's':['x','t'],\n",
    "  't':['x','y','z'],\n",
    "  'x':['y','z'],\n",
    "  'y':['z'],\n",
    "  'z':[]}\n",
    "w={'r':{'s':5,'t':3},\n",
    "   's':{'x':6,'t':2},\n",
    "    't':{'x':7,'y':4,'z':2},\n",
    "    'x':{'y':-1,'z':1},\n",
    "    'y':{'z':-2},\n",
    "      'z':{}}\n",
    "dag_sssp(G,w,'r')          "
   ]
  },
  {
   "cell_type": "markdown",
   "metadata": {},
   "source": [
    "**24.2-3<br>The PERT chart formulation given above is somewhat unnatural. In a more natural structure, vertices would represent jobds and edges would represent sequencing constraints; that is edge $(u,v)$ would indicate the job $u$ must be performed before job $v$. We would then assgin weights to vertices, not edges. Modify the DAG-SHORTEST-PATHS procedure so that it finds a longest path in a directed acyclic graph with weighted vertices in linear time.**\n",
    "\n",
    "We need to make three modifications:\n",
    "* $w_pert$: the weight functions of $G$ is expressed as a normal dictionary, with vertice:weight pairs. The weights are negated so that we are tracking the increasingly negative values during relaxation\n",
    "* `relax_pert`: because the $v.d$ will be updated to $u.d +w(v)$ when a path from $s$ to $u$ through $v$ has shorter distance than current $u.d$\n",
    "* `initialize_single_source_pert`: the initial value of the source vertex  $s$ is initialised at its own weight $w(u)$, instead of $0$ This is because even there is no outgoing edges, the work down from $s$ to $s$ worths $w(u)$\n",
    "* `dag_sssp_pert`: takes two inputs of $G$ and $w$, firstly computes the the first vertex from topological sort as the source vertex  \n",
    "\n",
    "In the example below, the critical path, which is a longest path through the DAG, is $20$."
   ]
  },
  {
   "cell_type": "code",
   "execution_count": 13,
   "metadata": {},
   "outputs": [],
   "source": [
    "def initialize_single_source_pert(G,s,w):\n",
    "    # assign attribute d for each vertex for inf, except for s\n",
    "    # s=w(s) for PERT\n",
    "    global D\n",
    "    D={k:10000 for k in G}\n",
    "    D[s]=w[s]\n",
    "    \n",
    "    # assign attribute pi for each vertex\n",
    "    # now none of the vertex has a parent\n",
    "    global PI\n",
    "    PI={}    \n",
    "    return D, PI\n",
    "def relax_pert(u,v,w):\n",
    "    # given that variable D and PI are defined for PERT\n",
    "    if D[v]>D[u]+w[v]:\n",
    "        D[v]=D[u]+w[v]\n",
    "        PI[v]=u\n",
    "def dag_sssp_pert(G,w):\n",
    "    \"\"\"sssp in a dag in linear time for PERT\n",
    "    G: adjacency list representation of DAG, a dictionary of list\n",
    "    w: weight functions of vertices in G, a dictionary\n",
    "    s: source\n",
    "    returns:\n",
    "    distance from s to every vertex in G\n",
    "    parent of every vertex on the sssp\n",
    "    \"\"\"\n",
    "    # we set source as the first vertex in topo. sort\n",
    "    s=topological_sort(G)[0]\n",
    "    initialize_single_source_pert(G,s,w)\n",
    "\n",
    "    for u in topological_sort(G):\n",
    "        for v in G[u]:\n",
    "            relax_pert(u,v,w)\n",
    "    return D, PI"
   ]
  },
  {
   "cell_type": "code",
   "execution_count": 15,
   "metadata": {},
   "outputs": [
    {
     "data": {
      "text/plain": [
       "({'r': -5, 's': -11, 't': -13, 'x': -14, 'y': -16, 'z': -20},\n",
       " {'s': 'r', 't': 's', 'x': 't', 'y': 'x', 'z': 'y'})"
      ]
     },
     "execution_count": 15,
     "metadata": {},
     "output_type": "execute_result"
    }
   ],
   "source": [
    "G={'r':['s','t'],\n",
    "    's':['x','t'],\n",
    "  't':['x','y','z'],\n",
    "  'x':['y','z'],\n",
    "  'y':['z'],\n",
    "  'z':[]}\n",
    "w_pert={'r':5,\n",
    "   's':6,\n",
    "    't':2,\n",
    "    'x':1,\n",
    "    'y':2,\n",
    "      'z':4}\n",
    "\n",
    "dag_sssp_pert(G,{k:-v for k,v in w_pert.items()}) "
   ]
  },
  {
   "cell_type": "markdown",
   "metadata": {},
   "source": [
    "**24.2-4<br>Give an efficient algorithm to count the total number of paths in a directed acyclic graph. Analyze your algorithm.**\n",
    "\n",
    "Observe the substructure of the solution: $N_u=N_v+1$, where $N_u$ is the number of paths starting from $u$, and $v$ is the child of $u$. Thus, we can use dynamic programming that stores the number of paths of every vertice and updates it. We should check the vertices in the reverse topological order, because the number of paths of its first vertice is $0$ (it has no child, a trivial solution). The topological sort takes $O(V+E)$ time. Then we scan the adjacency list of each vertex, which requires a nested `for` loop. Because we scan each edge exactly once, the time is $O(E)$. Altogehter the total running time is $O(V+E)$; the total number of paths is the sum of number of paths of all vertices. \n",
    "\n",
    "For the DAG in Figure 24.5, `dag_npath` returns $44$."
   ]
  },
  {
   "cell_type": "code",
   "execution_count": 35,
   "metadata": {},
   "outputs": [],
   "source": [
    "def dag_npath(G):\n",
    "    # initialise the no. paths from each vertice as 0\n",
    "    npath={k:0 for k in G}\n",
    "    for u in reversed(topological_sort(G)):\n",
    "        \n",
    "        for v in G[u]:\n",
    "            npath[u]+=npath[v]+1\n",
    "        \n",
    "    return sum(npath.values())"
   ]
  },
  {
   "cell_type": "code",
   "execution_count": 36,
   "metadata": {},
   "outputs": [
    {
     "data": {
      "text/plain": [
       "44"
      ]
     },
     "execution_count": 36,
     "metadata": {},
     "output_type": "execute_result"
    }
   ],
   "source": [
    "G={'r':['s','t'],\n",
    "    's':['x','t'],\n",
    "  't':['x','y','z'],\n",
    "  'x':['y','z'],\n",
    "  'y':['z'],\n",
    "  'z':[]}\n",
    "\n",
    "dag_npath(G) "
   ]
  }
 ],
 "metadata": {
  "kernelspec": {
   "display_name": "Python 3",
   "language": "python",
   "name": "python3"
  },
  "language_info": {
   "codemirror_mode": {
    "name": "ipython",
    "version": 3
   },
   "file_extension": ".py",
   "mimetype": "text/x-python",
   "name": "python",
   "nbconvert_exporter": "python",
   "pygments_lexer": "ipython3",
   "version": "3.8.3"
  }
 },
 "nbformat": 4,
 "nbformat_minor": 4
}
