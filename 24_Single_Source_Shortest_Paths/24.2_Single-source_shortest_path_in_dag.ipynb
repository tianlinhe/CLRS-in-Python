{
 "cells": [
  {
   "cell_type": "markdown",
   "metadata": {},
   "source": [
    "# 24.2 Single-source shortest paths in directed acyclic graphs\n",
    "The Bellman-Ford algorithm solves the single-source shortest path (SSSP) problem in general cae, in which negative-weight cycles could exist. When we have a directed acyclic graph which guarantees well-defined shortest paths with no negative-weight cycles, we can solve SSSP in **linear time**:\n",
    "1. The vertices are sorted in **topological orders** time=$\\Theta (V+E)$\n",
    "2. Relax every edges according to the topologically sorted vertices in a nested `for` loop time=$\\Theta (E)$, because we go through for each vertex *exactly once*\n"
   ]
  },
  {
   "cell_type": "code",
   "execution_count": 6,
   "metadata": {},
   "outputs": [],
   "source": [
    "from collections import deque\n",
    "def topological_sort(G):\n",
    "    global time # time is a global varaible, it is accumulative\n",
    "    time=0\n",
    "    colour={i:'white' for i in G} # initial colour of all vertices are white\n",
    "    t_discover={}\n",
    "    t_finish={}\n",
    "    predecessor={}\n",
    "    sorted_list=deque() # to store the sorted list\n",
    "    for u in G:\n",
    "        if colour[u]=='white':\n",
    "            dfs_visit_topo(G, u, colour, t_discover,t_finish,predecessor,sorted_list) #recursion\n",
    "    return sorted_list #,t_discover, t_finish\n",
    "\n",
    "def dfs_visit_topo(G, u, colour, t_discover,t_finish,predecessor,sorted_list):\n",
    "    global time\n",
    "    time+=1\n",
    "    t_discover[u]=time # a white vertex is discovered\n",
    "    colour[u]='grey' # and coloured to grey\n",
    "    for v in G[u]:\n",
    "        if colour[v]=='white':\n",
    "            predecessor[v]=u\n",
    "            dfs_visit_topo(G, v, colour, t_discover,t_finish,predecessor,sorted_list)\n",
    "    sorted_list.appendleft(u) # a vertex fully explored is appended on the left of the list\n",
    "    colour[u]='black'\n",
    "    time+=1\n",
    "    t_finish[u]=time \n",
    "def initialize_single_source(G,s):\n",
    "    # assign attribute d for each vertex for inf, except for s\n",
    "    global D\n",
    "    D={k:10000 for k in G}\n",
    "    D[s]=0\n",
    "    \n",
    "    # assign attribute pi for each vertex\n",
    "    # now none of the vertex has a parent\n",
    "    global PI\n",
    "    PI={}    \n",
    "    return D, PI\n",
    "def relax(u,v,w):\n",
    "    # given that variable D and PI are defined\n",
    "    if D[v]>D[u]+w[u][v]:\n",
    "        D[v]=D[u]+w[u][v]\n",
    "        PI[v]=u \n",
    "def dag_sssp(G,w,s):\n",
    "    \"\"\"sssp in a dag in linear time\n",
    "    G: adjacency list representation of DAG, a dictionary of list\n",
    "    w: weight functions of G, a nested dictionary\n",
    "    s: source\n",
    "    returns:\n",
    "    distance from s to every vertex in G\n",
    "    parent of every vertex on the sssp\n",
    "    \"\"\"\n",
    "    initialize_single_source(G,s)\n",
    "    \n",
    "    for u in topological_sort(G):\n",
    "        for v in G[u]:\n",
    "            relax(u,v,w)\n",
    "    return D, PI"
   ]
  },
  {
   "cell_type": "markdown",
   "metadata": {},
   "source": [
    "The `dag_ssap` returns the SSSP of the DAG in Figure 24.5.\n",
    "<img src=\"img/fig24.5.png\">"
   ]
  },
  {
   "cell_type": "code",
   "execution_count": 7,
   "metadata": {},
   "outputs": [
    {
     "data": {
      "text/plain": [
       "({'r': 10000, 's': 0, 't': 2, 'x': 6, 'y': 5, 'z': 3},\n",
       " {'x': 's', 't': 's', 'y': 'x', 'z': 'y'})"
      ]
     },
     "execution_count": 7,
     "metadata": {},
     "output_type": "execute_result"
    }
   ],
   "source": [
    "G={'r':['s','t'],\n",
    "    's':['x','t'],\n",
    "  't':['x','y','z'],\n",
    "  'x':['y','z'],\n",
    "  'y':['z'],\n",
    "  'z':[]}\n",
    "w={'r':{'s':5,'t':3},\n",
    "   's':{'x':6,'t':2},\n",
    "    't':{'x':7,'y':4,'z':2},\n",
    "    'x':{'y':-1,'z':1},\n",
    "    'y':{'z':-2},\n",
    "      'z':{}}\n",
    "dag_sssp(G,w,'s')          "
   ]
  }
 ],
 "metadata": {
  "kernelspec": {
   "display_name": "Python 3",
   "language": "python",
   "name": "python3"
  },
  "language_info": {
   "codemirror_mode": {
    "name": "ipython",
    "version": 3
   },
   "file_extension": ".py",
   "mimetype": "text/x-python",
   "name": "python",
   "nbconvert_exporter": "python",
   "pygments_lexer": "ipython3",
   "version": "3.8.3"
  }
 },
 "nbformat": 4,
 "nbformat_minor": 4
}
