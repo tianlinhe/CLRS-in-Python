{
 "cells": [
  {
   "cell_type": "markdown",
   "metadata": {},
   "source": [
    "**24.3-1<br>Run Dijkstra's algorithm n the directed graph of Figure 24.2, first using vertex $s$ as the source and then using vertex $z$ as the source. In the stype of Figure 24.6, show the $d$ and $\\pi$ values and the vertices in set $s$ after each iteration of the `while` loop.**"
   ]
  },
  {
   "cell_type": "code",
   "execution_count": 1,
   "metadata": {},
   "outputs": [],
   "source": [
    "def initialize_single_source(G,s):\n",
    "    # assign attribute d for each vertex for inf, except for s\n",
    "    global D\n",
    "    D={k:10000 for k in G}\n",
    "    D[s]=0\n",
    "    \n",
    "    # assign attribute pi for each vertex\n",
    "    # now none of the vertex has a parent\n",
    "    global PI\n",
    "    PI={}    \n",
    "    return D, PI\n",
    "\n",
    "def relax(u,v,w):\n",
    "    # given that variable D and PI are defined\n",
    "    if D[v]>D[u]+w[u][v]:\n",
    "        D[v]=D[u]+w[u][v]\n",
    "        PI[v]=u\n",
    "def extract_min(S):\n",
    "    \"\"\"\n",
    "    1) return a vertex from S, whose distance* is the smallest\n",
    "    2) the vertex is poped from S\n",
    "    It iterates S once\n",
    "    *the distance of vertices are stored in D\n",
    "    \"\"\"\n",
    "    min_d=100000\n",
    "    for i in S:      \n",
    "        if D[i]<min_d:\n",
    "            min_d=D[i]\n",
    "            v_min_d=i\n",
    "    S.remove(v_min_d)\n",
    "    return v_min_d\n",
    "\n",
    "def dijkstra(G,w,s):\n",
    "    initialize_single_source(G,s)\n",
    "    S={}\n",
    "    Q=set(G.keys())\n",
    "\n",
    "    while len(Q)>0:\n",
    "        u=extract_min(Q)\n",
    "        S[u]=D[u]\n",
    "        for v in G[u]:\n",
    "            relax(u,v,w)\n",
    " \n",
    "    return S, PI\n",
    "# weighted directed graph on Figure 24.2\n",
    "G={'s':['t','y'],\n",
    "  't':['x','y'],\n",
    "  'x':['z'],\n",
    "  'y':['t','x','z'],\n",
    "  'z':['x','s']}\n",
    "w={'s':{'t':3,'y':6},\n",
    "  't':{'x':6,'y':5},\n",
    "  'x':{'z':2},\n",
    "  'y':{'t':1,'x':4,'z':6},\n",
    "  'z':{'x':7,'s':3}}"
   ]
  },
  {
   "cell_type": "code",
   "execution_count": 2,
   "metadata": {},
   "outputs": [
    {
     "data": {
      "text/plain": [
       "({'s': 0, 't': 3, 'y': 6, 'x': 9, 'z': 11},\n",
       " {'t': 's', 'y': 's', 'x': 't', 'z': 'x'})"
      ]
     },
     "execution_count": 2,
     "metadata": {},
     "output_type": "execute_result"
    }
   ],
   "source": [
    "# using s as a ource\n",
    "dijkstra(G,w,'s')"
   ]
  },
  {
   "cell_type": "code",
   "execution_count": 3,
   "metadata": {},
   "outputs": [
    {
     "data": {
      "text/plain": [
       "({'z': 0, 's': 3, 't': 6, 'x': 7, 'y': 9},\n",
       " {'x': 'z', 's': 'z', 't': 's', 'y': 's'})"
      ]
     },
     "execution_count": 3,
     "metadata": {},
     "output_type": "execute_result"
    }
   ],
   "source": [
    "# using z as a ource\n",
    "dijkstra(G,w,'z')"
   ]
  },
  {
   "cell_type": "markdown",
   "metadata": {},
   "source": [
    "**24.3-2<br> Give a simple example of a directed graph with negative-weight edges for which Dijkstra's algorithmn produces incorrect answers. Why doesn't the proof of Theorem 24.6 go through when negative-weight edges are allowed?**\n",
    "\n",
    "In the directed graph $GG$ with one negative edge $w(t,p)=-100$ and two positive edges, the correct SSSP from $s$ to $p$ should be $2-100=98$. However, it is $-1$ using Dijkstra's algorithm. This is because $\\delta (s,t) \\leq \\delta (s,p)$ no longer holds true for negative-weight edges, even if $t$ immediately precedes $p$ on a shortest path from $s$ to $p$."
   ]
  },
  {
   "cell_type": "code",
   "execution_count": 9,
   "metadata": {},
   "outputs": [
    {
     "data": {
      "text/plain": [
       "({'s': 0, 'p': -1, 't': 2}, {'t': 's', 'p': 't'})"
      ]
     },
     "execution_count": 9,
     "metadata": {},
     "output_type": "execute_result"
    }
   ],
   "source": [
    "GG={'s':['t','p'],\n",
    "  't':['p'],\n",
    "  'p':[]}\n",
    "ww={'s':{'t':2,'p':-1},\n",
    "  't':{'p':-100},\n",
    "  'p':{}}\n",
    "dijkstra(GG,ww,'s')"
   ]
  },
  {
   "cell_type": "markdown",
   "metadata": {},
   "source": [
    "**24.6<br>We are given a directed graph $G=(V,E)$ on which each edge $(u,v)\\in E$ has an associated value $r(u,v)$, which is a real number  in the range $0\\leq r(u,v) \\leq 1$ that represents the reliability of a communication channel from vertex $u$ to vertex $v$. We interpret $r(u,v)$ as the probablity that the channel from $u$ to $v$ will not fail, and we assume that these probabilities are independent. Give an efficient algorithm to find the most reliable path between two given vertices.**\n",
    "\n",
    "We can first $-log(p)$-transform the probabilities so that $0\\geq r(u,v) \\geq -1$. Running Dijkstra's algorithm gives the SSSP between any two vertices, where $e^{-v.d}$ is the probabilities of going from source $s$ to $v$ without failing.\n",
    "\n",
    "Notice that one can conduct a bidirectional search to make the algorithm more efficient (but the worst-case performance is equals to the best-case performance of Dijkstra's algorithm)."
   ]
  },
  {
   "cell_type": "code",
   "execution_count": null,
   "metadata": {},
   "outputs": [],
   "source": []
  }
 ],
 "metadata": {
  "kernelspec": {
   "display_name": "Python 3",
   "language": "python",
   "name": "python3"
  },
  "language_info": {
   "codemirror_mode": {
    "name": "ipython",
    "version": 3
   },
   "file_extension": ".py",
   "mimetype": "text/x-python",
   "name": "python",
   "nbconvert_exporter": "python",
   "pygments_lexer": "ipython3",
   "version": "3.8.3"
  }
 },
 "nbformat": 4,
 "nbformat_minor": 4
}
