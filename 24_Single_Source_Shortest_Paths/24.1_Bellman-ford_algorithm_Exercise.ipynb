{
 "cells": [
  {
   "cell_type": "markdown",
   "metadata": {},
   "source": [
    "**24.1-1<br> Run the Bellman-Ford algorithm on the directed graph of Figure 24.4, using vertex $z$ as the source. In each pass, relax edges in the same order as in the figure, and show thd $d$ and $\\pi$ values after each pass. Now, change the weight of the edge $(z,x)$ to $4$ and run the algorithm again, using $s$ as the source.**\n",
    "\n",
    "1. "
   ]
  },
  {
   "cell_type": "code",
   "execution_count": 10,
   "metadata": {},
   "outputs": [],
   "source": [
    "def initialize_single_source(G,s):\n",
    "    # assign attribute d for each vertex to a very large number, except for s\n",
    "    global D\n",
    "    D={k:10000 for k in G}\n",
    "    D[s]=0\n",
    "    \n",
    "    # assign attribute pi for each vertex\n",
    "    # now none of the vertex has a parent\n",
    "    global PI\n",
    "    PI={}    \n",
    "    return D, PI\n",
    "def relax(u,v,w):\n",
    "    # given that variable D and PI are defined\n",
    "    if D[v]>D[u]+w[u][v]:\n",
    "        D[v]=D[u]+w[u][v]\n",
    "        PI[v]=u \n",
    "def bellman_ford(G,s,w):\n",
    "    \"\"\"G: directed graph, a dict of lists\n",
    "    s: source vertex\n",
    "    w: weight function of G, a nested dict\n",
    "    \"\"\"\n",
    "    initialize_single_source(G,s)\n",
    "    for i in range(len(G)-1):\n",
    "        for u in w:\n",
    "            for v in w[u]:\n",
    "                relax(u,v,w)\n",
    "        print ('pass=',i,D,PI)\n",
    "    # check for negative cycles\n",
    "    for u in w:\n",
    "        for v in w[u]:\n",
    "            if D[v]>D[u]+w[u][v]:\n",
    "                return False\n",
    "    return D, PI"
   ]
  },
  {
   "cell_type": "code",
   "execution_count": 13,
   "metadata": {},
   "outputs": [
    {
     "name": "stdout",
     "output_type": "stream",
     "text": [
      "pass= 0 {'s': 2, 't': 8, 'x': 7, 'y': 9, 'z': 0} {'t': 's', 'x': 'z', 's': 'z', 'y': 's'}\n",
      "pass= 1 {'s': 2, 't': 5, 'x': 6, 'y': 9, 'z': 0} {'t': 'x', 'x': 'y', 's': 'z', 'y': 's'}\n",
      "pass= 2 {'s': 2, 't': 4, 'x': 6, 'y': 9, 'z': 0} {'t': 'x', 'x': 'y', 's': 'z', 'y': 's'}\n",
      "pass= 3 {'s': 2, 't': 4, 'x': 6, 'y': 9, 'z': 0} {'t': 'x', 'x': 'y', 's': 'z', 'y': 's'}\n"
     ]
    },
    {
     "data": {
      "text/plain": [
       "({'s': 2, 't': 4, 'x': 6, 'y': 9, 'z': 0},\n",
       " {'t': 'x', 'x': 'y', 's': 'z', 'y': 's'})"
      ]
     },
     "execution_count": 13,
     "metadata": {},
     "output_type": "execute_result"
    }
   ],
   "source": [
    "G={'s':['t','y'],\n",
    "  't':['x','y','z'],\n",
    "  'x':['t'],\n",
    "  'y':['x','z'],\n",
    "  'z':['s']}\n",
    "w={'t':{'x':5,'y':8,'z':-4},\n",
    "  'x':{'t':-2},\n",
    "  'y':{'x':-3,'z':9},\n",
    "  'z':{'x':7,'s':2},\n",
    "    's':{'t':6,'y':7},\n",
    "}\n",
    "# Using z as the source\n",
    "bellman_ford(G,'z',w)"
   ]
  },
  {
   "cell_type": "code",
   "execution_count": 15,
   "metadata": {},
   "outputs": [
    {
     "name": "stdout",
     "output_type": "stream",
     "text": [
      "pass= 0 {'s': 0, 't': 6, 'x': 9997, 'y': 7, 'z': 9996} {'z': 't', 't': 's', 'x': 'y', 'y': 's'}\n",
      "pass= 1 {'s': 0, 't': 6, 'x': 4, 'y': 7, 'z': 2} {'z': 't', 't': 's', 'x': 'y', 'y': 's'}\n",
      "pass= 2 {'s': 0, 't': 2, 'x': 4, 'y': 7, 'z': 2} {'z': 't', 't': 'x', 'x': 'y', 'y': 's'}\n",
      "pass= 3 {'s': 0, 't': 2, 'x': 2, 'y': 7, 'z': -2} {'z': 't', 't': 'x', 'x': 'z', 'y': 's'}\n"
     ]
    },
    {
     "data": {
      "text/plain": [
       "False"
      ]
     },
     "execution_count": 15,
     "metadata": {},
     "output_type": "execute_result"
    }
   ],
   "source": [
    "# Change (z,x) to 4 and use s as the source, returns false\n",
    "w['z']['x']=4\n",
    "bellman_ford(G,'s',w)"
   ]
  },
  {
   "cell_type": "markdown",
   "metadata": {},
   "source": [
    "**24.1-3<br>Given a weighted, directed graph $G=(V,E)$, with no negative weight cycles, let $m$ be the maximum over all vertices $v\\in V$ of the minimum number of edges in a shortest path from the source $s$ to $v$. (Here, the shortest path is by weight, not by the number of edges.) Suggest a simple change to the Bellman-Ford algorithm that allows it to terminate in $m+1$ passes, even if $m$ is not known in advance.**\n",
    "\n",
    "We can track if the sum of shortest paths weights is decreasing. Once it stops decreasing (starting from $m+1$), we can terminate the pass. The follwing `bellman_for_m` implements it through a `while` loop and compares `total_d` with the sum of shortest paths weights `sum(D.values())`."
   ]
  },
  {
   "cell_type": "code",
   "execution_count": 24,
   "metadata": {},
   "outputs": [],
   "source": [
    "def bellman_ford_m(G,s,w):\n",
    "    \"\"\"G: directed graph, a dict of lists\n",
    "    s: source vertex\n",
    "    w: weight function of G, a nested dict\n",
    "    \"\"\"\n",
    "    initialize_single_source(G,s)\n",
    "    total_d=0\n",
    "    while sum(D.values()) != total_d:\n",
    "        total_d=sum(D.values())\n",
    "        for u in w:\n",
    "            for v in w[u]:\n",
    "                relax(u,v,w)  \n",
    "    return D, PI"
   ]
  },
  {
   "cell_type": "code",
   "execution_count": 25,
   "metadata": {},
   "outputs": [
    {
     "data": {
      "text/plain": [
       "({'s': 0, 't': 2, 'x': 4, 'y': 7, 'z': -2},\n",
       " {'z': 't', 't': 'x', 'x': 'y', 'y': 's'})"
      ]
     },
     "execution_count": 25,
     "metadata": {},
     "output_type": "execute_result"
    }
   ],
   "source": [
    "G={'s':['t','y'],\n",
    "  't':['x','y','z'],\n",
    "  'x':['t'],\n",
    "  'y':['x','z'],\n",
    "  'z':['s']}\n",
    "w={'t':{'x':5,'y':8,'z':-4},\n",
    "  'x':{'t':-2},\n",
    "  'y':{'x':-3,'z':9},\n",
    "  'z':{'x':7,'s':2},\n",
    "    's':{'t':6,'y':7},\n",
    "}\n",
    "# Using s as the source\n",
    "bellman_ford_m(G,'s',w)"
   ]
  },
  {
   "cell_type": "markdown",
   "metadata": {},
   "source": [
    "**24.1-4<br>Modify the Bellman-Ford algorithm so that it sets $v.d$ to $-\\infty$ for all vertices $v$ for which there is a negative-weight cycle on some path from the source to $v$.**"
   ]
  },
  {
   "cell_type": "code",
   "execution_count": 49,
   "metadata": {},
   "outputs": [],
   "source": [
    "def bellman_ford_negative(G,s,w):\n",
    "    \"\"\"G: directed graph, a dict of lists\n",
    "    s: source vertex\n",
    "    w: weight function of G, a nested dict\n",
    "    \"\"\"\n",
    "    initialize_single_source(G,s)\n",
    "    for i in range(len(G)-1):\n",
    "        for u in w:\n",
    "            for v in w[u]:\n",
    "                relax(u,v,w)\n",
    "        #print ('pass=',i,D,PI)\n",
    "    # check for negative cycles, update v.d\n",
    "    for u in w:\n",
    "        for v in w[u]:            \n",
    "            if D[v]>D[u]+w[u][v]:                \n",
    "                D[v]=-1000000\n",
    "\n",
    "    return D, PI"
   ]
  },
  {
   "cell_type": "code",
   "execution_count": 50,
   "metadata": {},
   "outputs": [
    {
     "data": {
      "text/plain": [
       "({'s': 0, 't': -1000000, 'x': 2, 'y': 7, 'z': -2},\n",
       " {'z': 't', 't': 'x', 'x': 'z', 'y': 's'})"
      ]
     },
     "execution_count": 50,
     "metadata": {},
     "output_type": "execute_result"
    }
   ],
   "source": [
    "# Change (z,x) to 4 and use s as the source, returns false\n",
    "w['z']['x']=4\n",
    "bellman_ford_negative(G,'s',w)"
   ]
  }
 ],
 "metadata": {
  "kernelspec": {
   "display_name": "Python 3",
   "language": "python",
   "name": "python3"
  },
  "language_info": {
   "codemirror_mode": {
    "name": "ipython",
    "version": 3
   },
   "file_extension": ".py",
   "mimetype": "text/x-python",
   "name": "python",
   "nbconvert_exporter": "python",
   "pygments_lexer": "ipython3",
   "version": "3.8.3"
  }
 },
 "nbformat": 4,
 "nbformat_minor": 4
}
