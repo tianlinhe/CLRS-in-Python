{
 "cells": [
  {
   "cell_type": "markdown",
   "metadata": {},
   "source": [
    "# 22.3 The algorithms of Kruskal and Prim\n",
    "In session $22.2$, it is proved that a **light edge** is also a **safe edge** for growing a **minimum-spanning tree (MST)**. Thus, by defining a light edge, one can create a MST using **greedy algorithm**. The Kruskal and Prim each takes care of *how* to find a light edge. \n",
    "\n",
    "In Prim's algorithm:\n",
    "* The MST starts growing from an arbitrary vertex $r$\n",
    "* It uses a **min-priority queue** which stores the unadded edges, to enable efficient addition of light edge\n",
    "* The added edges always form a single, growing MST\n",
    "\n",
    "Prior to implementation of Prim's algorithm, we need to define functions\n",
    "1) `build_min_heap`: build the min-priority queue on line 5 of `MWT-PRIM` on page 634\n",
    "2) `heap_extract_min`: line 7\n",
    "3) `decrease_key`: line 11"
   ]
  },
  {
   "cell_type": "code",
   "execution_count": 6,
   "metadata": {},
   "outputs": [],
   "source": [
    "import numpy as np\n",
    "def left (i):\n",
    "    \"\"\"given the index of a node in a binary heap, return the index of its left child\"\"\"\n",
    "    return (i)*2+1\n",
    "def right (i):\n",
    "    \"\"\"given the index of a node in a binary heap, return the index of its right child\"\"\"\n",
    "    return (i)*2+2\n",
    "def parent(i):\n",
    "    \"\"\"given the index of a node in a binary heap, return the index of its parent\"\"\"\n",
    "    return int((i-1)/2)\n",
    "def min_heapify (arr, i):\n",
    "    \"\"\"maintain min-heap property for a linear array arr at position i\"\"\"\n",
    "    l = left (i)\n",
    "    r = right (i)\n",
    "    heap_size= len(arr)\n",
    "    \n",
    "    # compare key with its right child\n",
    "    if l< heap_size and arr[l]<arr[i]:\n",
    "        smallest=l\n",
    "        \n",
    "    else:\n",
    "        smallest=i\n",
    "        \n",
    "    # compare key with its left child\n",
    "    if r<heap_size and arr[r]<arr[smallest]:\n",
    "        smallest=r\n",
    "        \n",
    "    # if i is not the smallest, the the key should be swapped with the smallest\n",
    "    # stop until i becomes the smallest\n",
    "    if smallest != i:\n",
    "        arr[i],arr[smallest]=arr[smallest],arr[i]\n",
    "        min_heapify(arr,smallest)\n",
    "        \n",
    "    return arr\n",
    "\n",
    "def node_start(a):\n",
    "    \"\"\"given the size of a linear array, return the index of the first node in a binary heap\"\"\"\n",
    "    return int((a-2)/2)\n",
    "\n",
    "def build_min_heap(arr):\n",
    "    \"\"\"given a linear array arr, build a minimum heap\"\"\"\n",
    "    heap_size= len(arr)\n",
    "    for n in range(node_start(heap_size),-1,-1):\n",
    "        min_heapify(arr,n)\n",
    "        \n",
    "    return arr\n",
    "\n",
    "def heap_extract_min(arr):\n",
    "    \"\"\"given a minimum heap, returns:\n",
    "    1) the minimum (top node) of the heap\n",
    "    2) a minimum heap formed by the rest of nodes\n",
    "    \"\"\"\n",
    "    heap_size=len(arr)\n",
    "    if heap_size>1:\n",
    "            mini=arr[0]\n",
    "            arr=min_heapify(arr[1:],1)\n",
    "    else:\n",
    "        print ('heap under flow')\n",
    "    return mini, arr\n",
    "\n",
    "def heap_decrease_key(array,i,key):\n",
    "    \"\"\"given a minimum heap, the index of a node whose key we want to decrease,\n",
    "    and the value of the new key,\n",
    "    return the array with updated key of the node while maintaining min-heap property\n",
    "    * notice that the new key must be smaller than the current one,\n",
    "    otherwise the algo does not work (then we need to swap with childs, instead of parent)\n",
    "    \"\"\"\n",
    "    if key>arr[i]:\n",
    "        pass\n",
    "    else:\n",
    "        \n",
    "        # while the key of parent is larger than key\n",
    "        # move upward\n",
    "        while i>0 and arr[parent(i)]>key:\n",
    "            arr[i]=arr[parent(i)]\n",
    "            i=parent(i)\n",
    "        arr[i]=key\n",
    "    return arr"
   ]
  },
  {
   "cell_type": "code",
   "execution_count": 53,
   "metadata": {},
   "outputs": [],
   "source": [
    "class vertex:\n",
    "    def __init__(self,v):\n",
    "        # u.key\n",
    "        self.key=np.inf\n",
    "        # u.parent\n",
    "        self.p=None\n",
    "        # u.name of the vertex\n",
    "        self.v=v\n",
    "def mst_prim(G, w, r):\n",
    "    i=vertex('r')\n",
    "    i.key=0\n",
    "    print(i.key)\n",
    "class Graph:\n",
    "    def __init__(self,vertices):\n",
    "        self.V={i for i in vertices}\n"
   ]
  },
  {
   "cell_type": "code",
   "execution_count": 56,
   "metadata": {},
   "outputs": [
    {
     "data": {
      "text/plain": [
       "{'a', 'b'}"
      ]
     },
     "execution_count": 56,
     "metadata": {},
     "output_type": "execute_result"
    }
   ],
   "source": [
    "G={'a':[0,1],'b':[]}\n",
    "g=Graph(G)\n",
    "g.V"
   ]
  },
  {
   "cell_type": "code",
   "execution_count": 29,
   "metadata": {},
   "outputs": [],
   "source": [
    "\n",
    "# A Python program for Prim's Minimum Spanning Tree (MST) algorithm. \n",
    "# The program is for adjacency matrix representation of the graph \n",
    "  \n",
    "import sys # Library for INT_MAX \n",
    "  \n",
    "class Graph(): \n",
    "  \n",
    "    def __init__(self, vertices): \n",
    "        self.V = vertices \n",
    "        self.graph = [[0 for column in range(vertices)]  \n",
    "                    for row in range(vertices)] \n",
    "g=Graph(5)"
   ]
  },
  {
   "cell_type": "code",
   "execution_count": 31,
   "metadata": {},
   "outputs": [
    {
     "data": {
      "text/plain": [
       "[[0, 0, 0, 0, 0],\n",
       " [0, 0, 0, 0, 0],\n",
       " [0, 0, 0, 0, 0],\n",
       " [0, 0, 0, 0, 0],\n",
       " [0, 0, 0, 0, 0]]"
      ]
     },
     "execution_count": 31,
     "metadata": {},
     "output_type": "execute_result"
    }
   ],
   "source": [
    "g.graph"
   ]
  }
 ],
 "metadata": {
  "kernelspec": {
   "display_name": "Python 3",
   "language": "python",
   "name": "python3"
  },
  "language_info": {
   "codemirror_mode": {
    "name": "ipython",
    "version": 3
   },
   "file_extension": ".py",
   "mimetype": "text/x-python",
   "name": "python",
   "nbconvert_exporter": "python",
   "pygments_lexer": "ipython3",
   "version": "3.8.3"
  }
 },
 "nbformat": 4,
 "nbformat_minor": 4
}
