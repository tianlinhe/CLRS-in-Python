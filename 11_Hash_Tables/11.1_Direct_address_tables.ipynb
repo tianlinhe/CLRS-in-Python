{
 "cells": [
  {
   "cell_type": "markdown",
   "metadata": {},
   "source": [
    "# Direct-address tables\n",
    "* When the **universe *U*** of keys is small, **direct address** is a simple technique that works well\n",
    "* Suppose in an application we needs a **dynamic set *K*** from  **universe *U***\n",
    "* We can use an array, or **direct-address table *T*** to represent the **dynamic set *K***\n",
    "    * Each position/slot in ***T*** corresponds to a key in the **universe *U***\n",
    "    * If an element with key as k does not exist in **dynamic set *K***, then `T[k] is None`\n",
    "\n",
    "The relations between ***U***, ***K*** and ***T*** is represented in *Figure 11.1* below. We assume that all the the elements are distinct.\n",
    "<img src=\"img/fig11.1.png\" width=\"600\"/>\n",
    "## In Python:\n",
    "* Dictionary operations of SEARCH, INSERT and DELET takes **O(1)** time\n",
    "* We can initiate a DA table with an array with m empty slots, where m equals to size of the **universe *U***"
   ]
  },
  {
   "cell_type": "code",
   "execution_count": 10,
   "metadata": {},
   "outputs": [
    {
     "data": {
      "text/plain": [
       "(<__main__.item at 0x111c1b710>, 9, [1, 2, 3])"
      ]
     },
     "execution_count": 10,
     "metadata": {},
     "output_type": "execute_result"
    }
   ],
   "source": [
    "class item:\n",
    "    def __init__(self,key,data=None):\n",
    "        self.key=key # key is necessary for each item\n",
    "        self.data=data # satellite data to store info, not necessary \n",
    "        \n",
    "class DA_tables:\n",
    "    def __init__(self,m):\n",
    "        self.array=[None]*m\n",
    "    def insert(self,x):\n",
    "        self.array[x.key]=x\n",
    "    def search(self,k):\n",
    "        if self.array[k] is None:\n",
    "            print ('item not found in table')\n",
    "        else:\n",
    "            return self.array[k], self.array[k].key, self.array[k].data\n",
    "    def delete(self,x):\n",
    "        self.array[x.key]=None\n",
    "        \n",
    "T=DA_tables(m=10) # table T with 10 empty slots\n",
    "T.insert(item(key=3)) #k must be an int in range (0,m)\n",
    "T.insert(item(key=5,data='Friday')) #data can be any pythonic obj, with default as None\n",
    "T.insert(item(key=4,data=1010101010))\n",
    "T.insert(item(key=9,data=[1,2,3]))\n",
    "T.search(9)\n",
    "T.delete(item(key=9)) #for delete, we need the info of key only\n",
    "T.search(9)       "
   ]
  }
 ],
 "metadata": {
  "kernelspec": {
   "display_name": "Python 3",
   "language": "python",
   "name": "python3"
  },
  "language_info": {
   "codemirror_mode": {
    "name": "ipython",
    "version": 3
   },
   "file_extension": ".py",
   "mimetype": "text/x-python",
   "name": "python",
   "nbconvert_exporter": "python",
   "pygments_lexer": "ipython3",
   "version": "3.8.3"
  }
 },
 "nbformat": 4,
 "nbformat_minor": 2
}
