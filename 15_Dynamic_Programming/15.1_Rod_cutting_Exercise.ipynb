{
 "cells": [
  {
   "cell_type": "markdown",
   "metadata": {},
   "source": [
    "**15.1-3<br>Consider a modification of the rod-cutting problem in which, in addition to a pricei $p_i$ for each rod, each cut incurs a fixed cost of $c$. The revenue associated with a solution is now the sum of the prices of the pieces minus the costs of making the cuts. Give a dynamic-programming algorithm to solve this modified problem.**\n",
    "\n",
    "We can modify `extended_bottom_up_cut_rod` in *15.1_Rod_cutting.ipynb*, such that it counts the number of cuts needed for maximum revenue, and store it in an array `s`, whose initial values are zero. The recursive relation has to be changed to:\n",
    "\n",
    "$$\n",
    "\\begin{align}\n",
    "r_n=\\underset{1\\leq i\\leq n}{\\max}(p_i,r_{n-i}-ci)\n",
    "\\end{align}\n",
    "$$"
   ]
  },
  {
   "cell_type": "code",
   "execution_count": 1,
   "metadata": {},
   "outputs": [],
   "source": [
    "import numpy as np\n",
    "p=np.array([0,1,5,8,9,10,17,17,20,24,30])\n",
    "c=1 # set c=1"
   ]
  },
  {
   "cell_type": "code",
   "execution_count": 11,
   "metadata": {},
   "outputs": [
    {
     "data": {
      "text/plain": [
       "(11, 1)"
      ]
     },
     "execution_count": 11,
     "metadata": {},
     "output_type": "execute_result"
    }
   ],
   "source": [
    "# dynamic programming, bottom up\n",
    "def rod_cut_bot_c(p,n):\n",
    "    r=np.full(n+1,-1)\n",
    "    s=np.full(n+1,0) #s to store number of cuts, initial value=0\n",
    "    r[0]=0\n",
    "    q=-1\n",
    "    for j in range(1,n+1):\n",
    "        for i in range(1,j+1):\n",
    "            if q<p[i]+r[j-i]-(s[j]+1)*c: #recursive relation r=max(q,r(n-1)-c*i)\n",
    "                q=p[i]+r[j-i]-(s[j]+1)*c\n",
    "                s[j]+=1   # accumulative count of cuts for each j        \n",
    "        r[i]=q\n",
    "    return r[n],s[j]\n",
    "rod_cut_bot_c(p,5)  "
   ]
  },
  {
   "cell_type": "markdown",
   "metadata": {},
   "source": [
    "**15.1-4<br>Modify MEMIOZED-CUT-ROD to return not only the value the the actual solution, too.**\n",
    "\n",
    "The following procedure `cut_rod_mem` returns the maximum value $r_n$ as well as the length of the first piece cut."
   ]
  },
  {
   "cell_type": "code",
   "execution_count": 17,
   "metadata": {},
   "outputs": [
    {
     "data": {
      "text/plain": [
       "(30, 10)"
      ]
     },
     "execution_count": 17,
     "metadata": {},
     "output_type": "execute_result"
    }
   ],
   "source": [
    "#dynamic programming, memoization\n",
    "def cut_rod_mem(p,n):\n",
    "    r=np.full(n+1,-1)\n",
    "    s=np.full(n+1,0) #create array s, initial value =0\n",
    "   # print (r)\n",
    "    return cut_rod_mem_aux(p,n,r,s)\n",
    "def cut_rod_mem_aux(p,n,r,s):\n",
    "   # print (s)\n",
    "    if r[n]>=0:\n",
    "        return r[n],s[n]\n",
    "    if n==0:\n",
    "        return 0, 0\n",
    "    q=-1\n",
    "    for i in range(1,n+1):\n",
    "        if q<p[i]+cut_rod_mem_aux(p,n-i,r,s)[0]:\n",
    "            q=p[i]+cut_rod_mem_aux(p,n-i,r,s)[0]\n",
    "            #print (i)\n",
    "            s[n]=i #record the length of the first piece when q reaches maximum\n",
    "    r[n]=q\n",
    "    return r[n],s[n]\n",
    "cut_rod_mem(p,10)"
   ]
  },
  {
   "cell_type": "markdown",
   "metadata": {},
   "source": [
    "**15.1-5<br>The Fibonacci numbers are defiend by the recurrence (3.22). given an $O(n)$-time dynamic-programming algorithm to compute the $n$th Fibonacci number. Draw the subproblem graph. How many vertices and edges are in the graph?**"
   ]
  },
  {
   "cell_type": "code",
   "execution_count": 23,
   "metadata": {},
   "outputs": [
    {
     "data": {
      "text/plain": [
       "55.0"
      ]
     },
     "execution_count": 23,
     "metadata": {},
     "output_type": "execute_result"
    }
   ],
   "source": [
    "def fib(n):\n",
    "    r=np.zeros(n+1)\n",
    "    r[1]=1\n",
    "    for i in range(2,n+1):\n",
    "        r[i]=r[i-1]+r[i-2]\n",
    "    return r[n]\n",
    "fib(10)"
   ]
  },
  {
   "cell_type": "code",
   "execution_count": null,
   "metadata": {},
   "outputs": [],
   "source": []
  }
 ],
 "metadata": {
  "kernelspec": {
   "display_name": "Python 3",
   "language": "python",
   "name": "python3"
  },
  "language_info": {
   "codemirror_mode": {
    "name": "ipython",
    "version": 3
   },
   "file_extension": ".py",
   "mimetype": "text/x-python",
   "name": "python",
   "nbconvert_exporter": "python",
   "pygments_lexer": "ipython3",
   "version": "3.7.4"
  }
 },
 "nbformat": 4,
 "nbformat_minor": 2
}
