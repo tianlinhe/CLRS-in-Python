{
 "cells": [
  {
   "cell_type": "markdown",
   "metadata": {},
   "source": [
    "**12.1-3<br>Given a nonrecursive algorithm that performs an inorder tree walk (*Hint*: An easy solution uses a stack as an auxiliary data strucuture. A more complicated, but elegant solution uses no stack but assumes that we can test two pointers for equality.)**\n",
    "\n",
    "* Use of a stack: see *Exercise 10.4-3*\n",
    "* Without a stack: see *Exercise 10.4-5*\n",
    "\n",
    "Remeber that the codes are preorder walk; you need to place the `print (x.key)` line between the calls to `x.left` abd `x.right`. "
   ]
  },
  {
   "cell_type": "markdown",
   "metadata": {},
   "source": [
    "**12.1-4<br>Give recursive algorithms that perform preorder and poster order tree walks in $\\Theta (n)$ on a tree of $n$ nodes.**\n",
    "\n",
    "You only need to change the position of `print(x.key)` in `preorder_walk` from *12.1_What_is_a_binary_search_tree.ipynb*:"
   ]
  },
  {
   "cell_type": "code",
   "execution_count": 2,
   "metadata": {},
   "outputs": [
    {
     "name": "stdout",
     "output_type": "stream",
     "text": [
      "2\n",
      "5\n",
      "5\n",
      "8\n",
      "7\n",
      "6\n"
     ]
    }
   ],
   "source": [
    "class Node:\n",
    "    def __init__(self, key):\n",
    "        self.left = None\n",
    "        self.right = None\n",
    "        self.key = key\n",
    "\n",
    "class BinaryTree:\n",
    "    def __init__(self):\n",
    "        self.root = None\n",
    "        \n",
    "def preorder_walk(x):\n",
    "    if x is not None:\n",
    "        print (x.key)\n",
    "        preorder_walk(x.left)\n",
    "        preorder_walk(x.right)\n",
    "        \n",
    "def postorder_walk(x):\n",
    "    if x is not None:\n",
    "        postorder_walk(x.left)\n",
    "        postorder_walk(x.right)\n",
    "        print (x.key)\n",
    "\n",
    "        \n",
    "            \n",
    "\"\"\"assign nodes of the tree\"\"\"            \n",
    "t=BinaryTree()\n",
    "t.root=Node(6)\n",
    "t.root.left=Node(5)\n",
    "t.root.right=Node(7)\n",
    "t.root.left.left=Node(2)\n",
    "t.root.left.right=Node(5)\n",
    "t.root.right.right=Node(8)\n",
    "\n",
    "#preorder_walk(t.root)\n",
    "postorder_walk(t.root)"
   ]
  }
 ],
 "metadata": {
  "kernelspec": {
   "display_name": "Python 3",
   "language": "python",
   "name": "python3"
  },
  "language_info": {
   "codemirror_mode": {
    "name": "ipython",
    "version": 3
   },
   "file_extension": ".py",
   "mimetype": "text/x-python",
   "name": "python",
   "nbconvert_exporter": "python",
   "pygments_lexer": "ipython3",
   "version": "3.8.3"
  }
 },
 "nbformat": 4,
 "nbformat_minor": 2
}
