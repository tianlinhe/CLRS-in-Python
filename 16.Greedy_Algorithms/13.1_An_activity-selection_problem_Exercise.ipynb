{
 "cells": [
  {
   "cell_type": "markdown",
   "metadata": {},
   "source": [
    "**16.1<br>Give a DP algorithm for the activity-selection problem based on recurrence(16.2). Have your algorithm compute the sizes $c[i,j]$ as defined above and also produce the maximum-size subset of mutually compatible activities. Assume that the inputs have been stored as in equation (16.1). Compare the running time of your solution to the running time of `greedy_activity_selector`.**"
   ]
  },
  {
   "cell_type": "code",
   "execution_count": 1,
   "metadata": {},
   "outputs": [],
   "source": [
    "import numpy as np\n",
    "s=np.array([1,3,0,5,3,5,6,8,8,2,12])\n",
    "f=np.array([4,5,6,7,9,9,10,11,12,14,16])\n",
    "n=len(s)"
   ]
  },
  {
   "cell_type": "code",
   "execution_count": 3,
   "metadata": {},
   "outputs": [
    {
     "name": "stdout",
     "output_type": "stream",
     "text": [
      "[ 0  1  3  0  5  3  5  6  8  8  2 12 16]\n",
      "[ 0  4  5  6  7  9  9 10 11 12 14 16 17]\n"
     ]
    },
    {
     "data": {
      "text/plain": [
       "4"
      ]
     },
     "execution_count": 3,
     "metadata": {},
     "output_type": "execute_result"
    }
   ],
   "source": [
    "# recursion with memoization, top-down approach\n",
    "# plus fictious activities a0 and an\n",
    "def dp_activity_selector_memoization(s,f,k,n):\n",
    "    c=np.zeros((n+1,n+1))\n",
    "    s=np.concatenate([[0],s,[f[-1]]]) #add a0\n",
    "    f=np.concatenate([[0],f,[f[-1]+1]]) #add an+1\n",
    "    return memoization(s,f,k,n,c)\n",
    "def memoization(s,f,k,n,c):\n",
    "    if c[k,n]>0:\n",
    "        return c[k,n]\n",
    "    if f[k]>=s[n]:\n",
    "        q=0\n",
    "    else:\n",
    "        q=0\n",
    "        for i in range(k+1,n):\n",
    "            if s[i]>=f[k] and f[i]<=s[n]:\n",
    "                mem=memoization(s,f,k,i,c,a)+memoization(s,f,i,n,c,a)+1\n",
    "                if q<mem:\n",
    "                    q=mem\n",
    "        \n",
    "        \n",
    "    c[k,n]=q\n",
    "\n",
    "    return q\n",
    "dp_activity_selector_memoization(s,f,0,12)"
   ]
  },
  {
   "cell_type": "code",
   "execution_count": null,
   "metadata": {},
   "outputs": [],
   "source": []
  }
 ],
 "metadata": {
  "kernelspec": {
   "display_name": "Python 3",
   "language": "python",
   "name": "python3"
  },
  "language_info": {
   "codemirror_mode": {
    "name": "ipython",
    "version": 3
   },
   "file_extension": ".py",
   "mimetype": "text/x-python",
   "name": "python",
   "nbconvert_exporter": "python",
   "pygments_lexer": "ipython3",
   "version": "3.7.4"
  }
 },
 "nbformat": 4,
 "nbformat_minor": 4
}
