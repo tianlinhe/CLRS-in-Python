{
 "cells": [
  {
   "cell_type": "markdown",
   "metadata": {},
   "source": [
    "# 16.1 An activity-selection problem\n",
    "Suppose we have a set $S=\\{a_1,a_2,...,a_n\\}$ of $n$ proposed ***activities*** that wish to use a resource (such as a lecture hall), which can serve only one activity at a time. Each activity $a_i$ has a ***start time*** $s_i$ and a ***finish time*** $f_i$, where $0\\leq s_i<f_i<\\infity$. In the **activity-selection problem***, we sish to select a maximum-size subset of mutually compatible activites. We assume that the activities are **sorted** in monotonically increasing order of finish time $f_1\\leq f_2\\leq....\\leq f{n-1}\\leq f_n$.\n",
    "\n",
    "## Approach 1: dynaimc programming\n",
    "### Optimal substruction\n",
    "Leu us denote by $S_{ij}$ the set of activities that start **after** activity $a_i$ finishes and that finish **before** activity $a_j$ starts\n",
    "1. For the set of activies $S_{ij}$ with optimal solution $A_{ij}$, we can assume that $A_{ij}$ contains some activity called $a_k$\n",
    "2. We can show that the $A_{i,j}$ must include optimal solutions to the subproblems $S_{ik}$ and $S_{kj}$\n",
    "3. Thus, we have the recurrence $c[i,j]=c[i,k]+c[k,j]+1$, where $c[i,j]$ denotes the size (number of activities) of $A_{i,j}$\n",
    "\n",
    "Don't forget that we still do not know the value of $k$, thus a iteration is needed to examine all activities in $S_{ij}$ for the size of $k$ that maximise $c[i,j]$:\n",
    "\n",
    "$$\n",
    "\\begin{align}\n",
    "c[i,j]=\\left\\{\n",
    "        \\begin{array}{ll}\n",
    "        0 &\\text{if}\\ S_{ij}=\\emptyset \\\\\n",
    "        \\underset{a_k\\in S_{ij}}{\\max} \\{c[i,k]+c[k,j]+1\\} &\\text{if}\\ S_{ij}\\neq \\emptyset \\\\\n",
    "        \\end{array}       \n",
    "        \\right.\n",
    "\\end{align}\n",
    "$$\n",
    "## Approach 2: greedy algorithm\n",
    "### Making the greedy choice\n",
    "1. Intuition tells that we sohuld choose an activity that finish the earliest\n",
    "2. Since the activites are sorted, the first greedy choice is activity $a_1$\n",
    "3. It leaves only one subproblem to solve: finding activies that start after $a_1$, denoted by $S_1$\n",
    "4. we can repeat $2-3$ recursively until we reaches $S_j$\n",
    "\n",
    "### A recursive greedy algorithm\n",
    "The procedure `recursive_activity_selector` takes as input\n",
    "1. array $s$, the start time of activities\n",
    "2. array $f$, the finish time of activities\n",
    "3. index $k$, which define the subproblem $S_k$ to solve (e.g. $S_1$ denotes finding the optimal solution of subset $S_{1,n}$, after identifying $a_1$ as the first greedy choice of $S_{0,n}$)\n",
    "4. integer $n$, the size of the original problem\n",
    "\n",
    "Notice that the $f$ is sorted, $s$ is linked to $f$, but it is not necessarily in motonically increasing order."
   ]
  },
  {
   "cell_type": "code",
   "execution_count": 1,
   "metadata": {},
   "outputs": [],
   "source": [
    "import numpy as np\n",
    "s=np.array([1,3,0,5,3,5,6,8,8,2,12])\n",
    "f=np.array([4,5,6,7,9,9,10,11,12,14,16])\n",
    "n=len(s)"
   ]
  },
  {
   "cell_type": "code",
   "execution_count": 99,
   "metadata": {},
   "outputs": [
    {
     "data": {
      "text/plain": [
       "{3, 7, 10}"
      ]
     },
     "execution_count": 99,
     "metadata": {},
     "output_type": "execute_result"
    }
   ],
   "source": [
    "def recursive_activity_selector(s,f,k,n):\n",
    "    m=k+1   \n",
    "    while m<=n-1 and s[m]<f[k]: #find Smj, which is the subproblem left after selecting a_k\n",
    "        m=m+1 \n",
    "    if m<=n-1:\n",
    "        sln.add(m) #problem was downsized from Skn to Smn\n",
    "        recursive_activity_selector(s,f,m,n)\n",
    "    return sln    \n",
    "sln=set()\n",
    "recursive_activity_selector(s,f,0,n)"
   ]
  }
 ],
 "metadata": {
  "kernelspec": {
   "display_name": "Python 3",
   "language": "python",
   "name": "python3"
  },
  "language_info": {
   "codemirror_mode": {
    "name": "ipython",
    "version": 3
   },
   "file_extension": ".py",
   "mimetype": "text/x-python",
   "name": "python",
   "nbconvert_exporter": "python",
   "pygments_lexer": "ipython3",
   "version": "3.7.4"
  }
 },
 "nbformat": 4,
 "nbformat_minor": 2
}
